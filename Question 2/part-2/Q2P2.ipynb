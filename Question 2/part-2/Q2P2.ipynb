{
  "cells": [
    {
      "cell_type": "markdown",
      "metadata": {
        "id": "yywVwJau03uG"
      },
      "source": [
        "**PROBLEM 2 - SECTION 2**"
      ]
    },
    {
      "cell_type": "markdown",
      "metadata": {
        "id": "mtmNhp_u03uI"
      },
      "source": [
        "Import Libraries"
      ]
    },
    {
      "cell_type": "code",
      "execution_count": 1,
      "metadata": {
        "id": "bgpiAMN103uJ",
        "colab": {
          "base_uri": "https://localhost:8080/"
        },
        "outputId": "324774c3-dfd4-4ea6-bb43-7e285a3d72c4"
      },
      "outputs": [
        {
          "output_type": "stream",
          "name": "stdout",
          "text": [
            "Requirement already satisfied: nltk in /usr/local/lib/python3.10/dist-packages (3.8.1)\n",
            "Requirement already satisfied: click in /usr/local/lib/python3.10/dist-packages (from nltk) (8.1.7)\n",
            "Requirement already satisfied: joblib in /usr/local/lib/python3.10/dist-packages (from nltk) (1.4.2)\n",
            "Requirement already satisfied: regex>=2021.8.3 in /usr/local/lib/python3.10/dist-packages (from nltk) (2024.5.15)\n",
            "Requirement already satisfied: tqdm in /usr/local/lib/python3.10/dist-packages (from nltk) (4.66.4)\n"
          ]
        }
      ],
      "source": [
        "!pip install nltk"
      ]
    },
    {
      "cell_type": "code",
      "execution_count": 2,
      "metadata": {
        "id": "5hqdhgBg03uK",
        "colab": {
          "base_uri": "https://localhost:8080/"
        },
        "outputId": "9ac3c982-6663-45c8-b312-bdf3a6220787"
      },
      "outputs": [
        {
          "output_type": "stream",
          "name": "stdout",
          "text": [
            "Collecting vaderSentiment\n",
            "  Downloading vaderSentiment-3.3.2-py2.py3-none-any.whl (125 kB)\n",
            "\u001b[2K     \u001b[90m━━━━━━━━━━━━━━━━━━━━━━━━━━━━━━━━━━━━━━━━\u001b[0m \u001b[32m126.0/126.0 kB\u001b[0m \u001b[31m2.7 MB/s\u001b[0m eta \u001b[36m0:00:00\u001b[0m\n",
            "\u001b[?25hRequirement already satisfied: requests in /usr/local/lib/python3.10/dist-packages (from vaderSentiment) (2.31.0)\n",
            "Requirement already satisfied: charset-normalizer<4,>=2 in /usr/local/lib/python3.10/dist-packages (from requests->vaderSentiment) (3.3.2)\n",
            "Requirement already satisfied: idna<4,>=2.5 in /usr/local/lib/python3.10/dist-packages (from requests->vaderSentiment) (3.7)\n",
            "Requirement already satisfied: urllib3<3,>=1.21.1 in /usr/local/lib/python3.10/dist-packages (from requests->vaderSentiment) (2.0.7)\n",
            "Requirement already satisfied: certifi>=2017.4.17 in /usr/local/lib/python3.10/dist-packages (from requests->vaderSentiment) (2024.7.4)\n",
            "Installing collected packages: vaderSentiment\n",
            "Successfully installed vaderSentiment-3.3.2\n"
          ]
        }
      ],
      "source": [
        "!pip install vaderSentiment"
      ]
    },
    {
      "cell_type": "code",
      "execution_count": 3,
      "metadata": {
        "id": "6kA2fLUO03uK"
      },
      "outputs": [],
      "source": [
        "import pandas as pd\n",
        "import numpy as np\n",
        "from sklearn.feature_extraction.text import CountVectorizer\n",
        "from sklearn.linear_model import LogisticRegression\n",
        "from sklearn.model_selection import train_test_split\n",
        "from sklearn.metrics import accuracy_score, classification_report\n",
        "import joblib\n",
        "from vaderSentiment.vaderSentiment import SentimentIntensityAnalyzer\n",
        "import matplotlib.pyplot as plt\n",
        "import seaborn as sns\n",
        "import re"
      ]
    },
    {
      "cell_type": "markdown",
      "metadata": {
        "id": "A8oMqBFl03uK"
      },
      "source": [
        "Load Data"
      ]
    },
    {
      "cell_type": "code",
      "source": [
        "from google.colab import drive\n",
        "drive.mount('/content/drive')"
      ],
      "metadata": {
        "id": "i2yKU-BKIzHO",
        "colab": {
          "base_uri": "https://localhost:8080/"
        },
        "outputId": "9acae41d-917b-4d8a-9070-010dece00044"
      },
      "execution_count": 6,
      "outputs": [
        {
          "output_type": "stream",
          "name": "stdout",
          "text": [
            "Mounted at /content/drive\n"
          ]
        }
      ]
    },
    {
      "cell_type": "code",
      "source": [
        "!gdown 1-AlW7oNJHaqi3xk_9dWHUS52Dzl_FmFW\n",
        "!gdown 1-8TsrqTRFP-q9TM-6HinhO0ZVXFHq9TB"
      ],
      "metadata": {
        "id": "DKIU_gtiIc6P",
        "colab": {
          "base_uri": "https://localhost:8080/"
        },
        "outputId": "c94f7340-6183-4a98-b2de-2cbd50deb4e7"
      },
      "execution_count": 7,
      "outputs": [
        {
          "output_type": "stream",
          "name": "stdout",
          "text": [
            "Downloading...\n",
            "From (original): https://drive.google.com/uc?id=1-AlW7oNJHaqi3xk_9dWHUS52Dzl_FmFW\n",
            "From (redirected): https://drive.google.com/uc?id=1-AlW7oNJHaqi3xk_9dWHUS52Dzl_FmFW&confirm=t&uuid=72ff7ab2-6d06-45e0-830e-e57ee0ba0f31\n",
            "To: /content/train_data.csv\n",
            "100% 635M/635M [00:07<00:00, 83.5MB/s]\n",
            "Downloading...\n",
            "From: https://drive.google.com/uc?id=1-8TsrqTRFP-q9TM-6HinhO0ZVXFHq9TB\n",
            "To: /content/test_data.csv\n",
            "100% 15.6M/15.6M [00:00<00:00, 22.8MB/s]\n"
          ]
        }
      ]
    },
    {
      "cell_type": "code",
      "execution_count": 8,
      "metadata": {
        "id": "dQFxZoCI03uL",
        "colab": {
          "base_uri": "https://localhost:8080/"
        },
        "outputId": "e34ab2a4-022d-42c7-b3c6-781162ad1912"
      },
      "outputs": [
        {
          "output_type": "stream",
          "name": "stderr",
          "text": [
            "<ipython-input-8-f105922c3838>:1: DtypeWarning: Columns (1) have mixed types. Specify dtype option on import or set low_memory=False.\n",
            "  train_data = pd.read_csv(\"/content/train_data.csv\")\n"
          ]
        }
      ],
      "source": [
        "train_data = pd.read_csv(\"/content/train_data.csv\")\n",
        "titles = pd.read_csv('/content/drive/MyDrive/title_brand.csv')"
      ]
    },
    {
      "cell_type": "markdown",
      "metadata": {
        "id": "8lVpeIKO03uL"
      },
      "source": [
        "Identify Reviews mentioning Guarantee"
      ]
    },
    {
      "cell_type": "code",
      "execution_count": 9,
      "metadata": {
        "id": "KlhaT7RW03uL"
      },
      "outputs": [],
      "source": [
        "words = ['warranty', 'guarantee', 'guaranty', 'Assurance', 'Insurance', 'Surety', 'Pledge', 'Commitment', 'Covenant', 'Promise', 'Bond',\n",
        "            'Certification', 'Validation', 'Indemnity', 'Protection', 'Coverage', 'Credibility', 'Backing', 'Support', 'Trust', 'Affirmation', \"warranty\",\n",
        "            \"warranties\", \"waranty\",  \"warrantee\", \"warrantees\", \"warrenty\", \"guarantee\", \"guarantees\", \"guaranty\", \"guaranties\", \"garantee\", \"guarrantee\", \"guarentee\", \"garrantee\"  ]"
      ]
    },
    {
      "cell_type": "code",
      "source": [
        "def filtered_review(reviewText):\n",
        "    for word in words:\n",
        "        if re.search(rf'\\b{re.escape(word)}\\b', reviewText):\n",
        "            return True\n",
        "    return False"
      ],
      "metadata": {
        "id": "gqTe5dmHFr3S"
      },
      "execution_count": 10,
      "outputs": []
    },
    {
      "cell_type": "code",
      "execution_count": 11,
      "metadata": {
        "id": "nHF6uc3o03uL"
      },
      "outputs": [],
      "source": [
        "new_df = train_data[train_data['reviewText'].apply(filtered_review)]\n",
        "new_df = new_df[[\"asin\", \"reviewText\", \"overall\"]]"
      ]
    },
    {
      "cell_type": "code",
      "source": [
        "merged_df = pd.merge(new_df, titles, on='asin')\n",
        "merged_df"
      ],
      "metadata": {
        "id": "7b2eFn6hIErX",
        "colab": {
          "base_uri": "https://localhost:8080/",
          "height": 423
        },
        "outputId": "99f82684-7b41-43fb-e9b9-256b807d4eda"
      },
      "execution_count": 12,
      "outputs": [
        {
          "output_type": "execute_result",
          "data": {
            "text/plain": [
              "             asin                                         reviewText  overall  \\\n",
              "0      B000001OM4  This adapter works well with my 1994 Corvette....        4   \n",
              "1      B00000J4EY  I mounted this and plugged it all up last nigh...        3   \n",
              "2      B00000J4EY  I mounted this and plugged it all up last nigh...        3   \n",
              "3      B00000K2YR  Out of the box would not transmit.  Connect to...        1   \n",
              "4      B00000K2YR  Out of the box would not transmit.  Connect to...        1   \n",
              "...           ...                                                ...      ...   \n",
              "21210  B01HEOC8B8  The unit was a better built than the original ...        5   \n",
              "21211  B01HEXFQVI  I use a variety of microcontrollers (RPi, Ardu...        5   \n",
              "21212  B01HH5G93C  I ordered and quickly received the iPad Pro 9....        5   \n",
              "21213  B01HHRGSEA  This is my fourth of these tablets.  The first...        1   \n",
              "21214  B01HIQYWU2  Here's the issue with this case.  It protects ...        3   \n",
              "\n",
              "                                                   title       brand  \n",
              "0      Maxell CD-330 CD-to-Cassette Audio Adapter (19...      Maxell  \n",
              "1      Kensington SmartSockets 6-Outlet, 16-Foot Cord...  Kensington  \n",
              "2      Kensington SmartSockets 6-Outlet, 16-Foot Cord...  Kensington  \n",
              "3                 Midland 75-822 40 Channel CB-Way Radio     Midland  \n",
              "4                 Midland 75-822 40 Channel CB-Way Radio     Midland  \n",
              "...                                                  ...         ...  \n",
              "21210  TFDirect Lift Chair Power Recliner AC/DC Switc...    TFDirect  \n",
              "21211  HomeSpot 5ft - 1.5m Long USB 2.0 to Micro USB ...    HomeSpot  \n",
              "21212  iPad Pro 9.7 2016 case by KIQ Heavy Duty Hybri...         KIQ  \n",
              "21213  9.7 inch Tablet Octa Core 2560X1600 IPS Blueto...          FX  \n",
              "21214  Brenthaven BX2 Edge Case | 360-Degree Protecti...  Brenthaven  \n",
              "\n",
              "[21215 rows x 5 columns]"
            ],
            "text/html": [
              "\n",
              "  <div id=\"df-75a7051d-d954-4fa1-9918-55d83f394692\" class=\"colab-df-container\">\n",
              "    <div>\n",
              "<style scoped>\n",
              "    .dataframe tbody tr th:only-of-type {\n",
              "        vertical-align: middle;\n",
              "    }\n",
              "\n",
              "    .dataframe tbody tr th {\n",
              "        vertical-align: top;\n",
              "    }\n",
              "\n",
              "    .dataframe thead th {\n",
              "        text-align: right;\n",
              "    }\n",
              "</style>\n",
              "<table border=\"1\" class=\"dataframe\">\n",
              "  <thead>\n",
              "    <tr style=\"text-align: right;\">\n",
              "      <th></th>\n",
              "      <th>asin</th>\n",
              "      <th>reviewText</th>\n",
              "      <th>overall</th>\n",
              "      <th>title</th>\n",
              "      <th>brand</th>\n",
              "    </tr>\n",
              "  </thead>\n",
              "  <tbody>\n",
              "    <tr>\n",
              "      <th>0</th>\n",
              "      <td>B000001OM4</td>\n",
              "      <td>This adapter works well with my 1994 Corvette....</td>\n",
              "      <td>4</td>\n",
              "      <td>Maxell CD-330 CD-to-Cassette Audio Adapter (19...</td>\n",
              "      <td>Maxell</td>\n",
              "    </tr>\n",
              "    <tr>\n",
              "      <th>1</th>\n",
              "      <td>B00000J4EY</td>\n",
              "      <td>I mounted this and plugged it all up last nigh...</td>\n",
              "      <td>3</td>\n",
              "      <td>Kensington SmartSockets 6-Outlet, 16-Foot Cord...</td>\n",
              "      <td>Kensington</td>\n",
              "    </tr>\n",
              "    <tr>\n",
              "      <th>2</th>\n",
              "      <td>B00000J4EY</td>\n",
              "      <td>I mounted this and plugged it all up last nigh...</td>\n",
              "      <td>3</td>\n",
              "      <td>Kensington SmartSockets 6-Outlet, 16-Foot Cord...</td>\n",
              "      <td>Kensington</td>\n",
              "    </tr>\n",
              "    <tr>\n",
              "      <th>3</th>\n",
              "      <td>B00000K2YR</td>\n",
              "      <td>Out of the box would not transmit.  Connect to...</td>\n",
              "      <td>1</td>\n",
              "      <td>Midland 75-822 40 Channel CB-Way Radio</td>\n",
              "      <td>Midland</td>\n",
              "    </tr>\n",
              "    <tr>\n",
              "      <th>4</th>\n",
              "      <td>B00000K2YR</td>\n",
              "      <td>Out of the box would not transmit.  Connect to...</td>\n",
              "      <td>1</td>\n",
              "      <td>Midland 75-822 40 Channel CB-Way Radio</td>\n",
              "      <td>Midland</td>\n",
              "    </tr>\n",
              "    <tr>\n",
              "      <th>...</th>\n",
              "      <td>...</td>\n",
              "      <td>...</td>\n",
              "      <td>...</td>\n",
              "      <td>...</td>\n",
              "      <td>...</td>\n",
              "    </tr>\n",
              "    <tr>\n",
              "      <th>21210</th>\n",
              "      <td>B01HEOC8B8</td>\n",
              "      <td>The unit was a better built than the original ...</td>\n",
              "      <td>5</td>\n",
              "      <td>TFDirect Lift Chair Power Recliner AC/DC Switc...</td>\n",
              "      <td>TFDirect</td>\n",
              "    </tr>\n",
              "    <tr>\n",
              "      <th>21211</th>\n",
              "      <td>B01HEXFQVI</td>\n",
              "      <td>I use a variety of microcontrollers (RPi, Ardu...</td>\n",
              "      <td>5</td>\n",
              "      <td>HomeSpot 5ft - 1.5m Long USB 2.0 to Micro USB ...</td>\n",
              "      <td>HomeSpot</td>\n",
              "    </tr>\n",
              "    <tr>\n",
              "      <th>21212</th>\n",
              "      <td>B01HH5G93C</td>\n",
              "      <td>I ordered and quickly received the iPad Pro 9....</td>\n",
              "      <td>5</td>\n",
              "      <td>iPad Pro 9.7 2016 case by KIQ Heavy Duty Hybri...</td>\n",
              "      <td>KIQ</td>\n",
              "    </tr>\n",
              "    <tr>\n",
              "      <th>21213</th>\n",
              "      <td>B01HHRGSEA</td>\n",
              "      <td>This is my fourth of these tablets.  The first...</td>\n",
              "      <td>1</td>\n",
              "      <td>9.7 inch Tablet Octa Core 2560X1600 IPS Blueto...</td>\n",
              "      <td>FX</td>\n",
              "    </tr>\n",
              "    <tr>\n",
              "      <th>21214</th>\n",
              "      <td>B01HIQYWU2</td>\n",
              "      <td>Here's the issue with this case.  It protects ...</td>\n",
              "      <td>3</td>\n",
              "      <td>Brenthaven BX2 Edge Case | 360-Degree Protecti...</td>\n",
              "      <td>Brenthaven</td>\n",
              "    </tr>\n",
              "  </tbody>\n",
              "</table>\n",
              "<p>21215 rows × 5 columns</p>\n",
              "</div>\n",
              "    <div class=\"colab-df-buttons\">\n",
              "\n",
              "  <div class=\"colab-df-container\">\n",
              "    <button class=\"colab-df-convert\" onclick=\"convertToInteractive('df-75a7051d-d954-4fa1-9918-55d83f394692')\"\n",
              "            title=\"Convert this dataframe to an interactive table.\"\n",
              "            style=\"display:none;\">\n",
              "\n",
              "  <svg xmlns=\"http://www.w3.org/2000/svg\" height=\"24px\" viewBox=\"0 -960 960 960\">\n",
              "    <path d=\"M120-120v-720h720v720H120Zm60-500h600v-160H180v160Zm220 220h160v-160H400v160Zm0 220h160v-160H400v160ZM180-400h160v-160H180v160Zm440 0h160v-160H620v160ZM180-180h160v-160H180v160Zm440 0h160v-160H620v160Z\"/>\n",
              "  </svg>\n",
              "    </button>\n",
              "\n",
              "  <style>\n",
              "    .colab-df-container {\n",
              "      display:flex;\n",
              "      gap: 12px;\n",
              "    }\n",
              "\n",
              "    .colab-df-convert {\n",
              "      background-color: #E8F0FE;\n",
              "      border: none;\n",
              "      border-radius: 50%;\n",
              "      cursor: pointer;\n",
              "      display: none;\n",
              "      fill: #1967D2;\n",
              "      height: 32px;\n",
              "      padding: 0 0 0 0;\n",
              "      width: 32px;\n",
              "    }\n",
              "\n",
              "    .colab-df-convert:hover {\n",
              "      background-color: #E2EBFA;\n",
              "      box-shadow: 0px 1px 2px rgba(60, 64, 67, 0.3), 0px 1px 3px 1px rgba(60, 64, 67, 0.15);\n",
              "      fill: #174EA6;\n",
              "    }\n",
              "\n",
              "    .colab-df-buttons div {\n",
              "      margin-bottom: 4px;\n",
              "    }\n",
              "\n",
              "    [theme=dark] .colab-df-convert {\n",
              "      background-color: #3B4455;\n",
              "      fill: #D2E3FC;\n",
              "    }\n",
              "\n",
              "    [theme=dark] .colab-df-convert:hover {\n",
              "      background-color: #434B5C;\n",
              "      box-shadow: 0px 1px 3px 1px rgba(0, 0, 0, 0.15);\n",
              "      filter: drop-shadow(0px 1px 2px rgba(0, 0, 0, 0.3));\n",
              "      fill: #FFFFFF;\n",
              "    }\n",
              "  </style>\n",
              "\n",
              "    <script>\n",
              "      const buttonEl =\n",
              "        document.querySelector('#df-75a7051d-d954-4fa1-9918-55d83f394692 button.colab-df-convert');\n",
              "      buttonEl.style.display =\n",
              "        google.colab.kernel.accessAllowed ? 'block' : 'none';\n",
              "\n",
              "      async function convertToInteractive(key) {\n",
              "        const element = document.querySelector('#df-75a7051d-d954-4fa1-9918-55d83f394692');\n",
              "        const dataTable =\n",
              "          await google.colab.kernel.invokeFunction('convertToInteractive',\n",
              "                                                    [key], {});\n",
              "        if (!dataTable) return;\n",
              "\n",
              "        const docLinkHtml = 'Like what you see? Visit the ' +\n",
              "          '<a target=\"_blank\" href=https://colab.research.google.com/notebooks/data_table.ipynb>data table notebook</a>'\n",
              "          + ' to learn more about interactive tables.';\n",
              "        element.innerHTML = '';\n",
              "        dataTable['output_type'] = 'display_data';\n",
              "        await google.colab.output.renderOutput(dataTable, element);\n",
              "        const docLink = document.createElement('div');\n",
              "        docLink.innerHTML = docLinkHtml;\n",
              "        element.appendChild(docLink);\n",
              "      }\n",
              "    </script>\n",
              "  </div>\n",
              "\n",
              "\n",
              "<div id=\"df-e3780786-c973-494d-a00a-ab17252642de\">\n",
              "  <button class=\"colab-df-quickchart\" onclick=\"quickchart('df-e3780786-c973-494d-a00a-ab17252642de')\"\n",
              "            title=\"Suggest charts\"\n",
              "            style=\"display:none;\">\n",
              "\n",
              "<svg xmlns=\"http://www.w3.org/2000/svg\" height=\"24px\"viewBox=\"0 0 24 24\"\n",
              "     width=\"24px\">\n",
              "    <g>\n",
              "        <path d=\"M19 3H5c-1.1 0-2 .9-2 2v14c0 1.1.9 2 2 2h14c1.1 0 2-.9 2-2V5c0-1.1-.9-2-2-2zM9 17H7v-7h2v7zm4 0h-2V7h2v10zm4 0h-2v-4h2v4z\"/>\n",
              "    </g>\n",
              "</svg>\n",
              "  </button>\n",
              "\n",
              "<style>\n",
              "  .colab-df-quickchart {\n",
              "      --bg-color: #E8F0FE;\n",
              "      --fill-color: #1967D2;\n",
              "      --hover-bg-color: #E2EBFA;\n",
              "      --hover-fill-color: #174EA6;\n",
              "      --disabled-fill-color: #AAA;\n",
              "      --disabled-bg-color: #DDD;\n",
              "  }\n",
              "\n",
              "  [theme=dark] .colab-df-quickchart {\n",
              "      --bg-color: #3B4455;\n",
              "      --fill-color: #D2E3FC;\n",
              "      --hover-bg-color: #434B5C;\n",
              "      --hover-fill-color: #FFFFFF;\n",
              "      --disabled-bg-color: #3B4455;\n",
              "      --disabled-fill-color: #666;\n",
              "  }\n",
              "\n",
              "  .colab-df-quickchart {\n",
              "    background-color: var(--bg-color);\n",
              "    border: none;\n",
              "    border-radius: 50%;\n",
              "    cursor: pointer;\n",
              "    display: none;\n",
              "    fill: var(--fill-color);\n",
              "    height: 32px;\n",
              "    padding: 0;\n",
              "    width: 32px;\n",
              "  }\n",
              "\n",
              "  .colab-df-quickchart:hover {\n",
              "    background-color: var(--hover-bg-color);\n",
              "    box-shadow: 0 1px 2px rgba(60, 64, 67, 0.3), 0 1px 3px 1px rgba(60, 64, 67, 0.15);\n",
              "    fill: var(--button-hover-fill-color);\n",
              "  }\n",
              "\n",
              "  .colab-df-quickchart-complete:disabled,\n",
              "  .colab-df-quickchart-complete:disabled:hover {\n",
              "    background-color: var(--disabled-bg-color);\n",
              "    fill: var(--disabled-fill-color);\n",
              "    box-shadow: none;\n",
              "  }\n",
              "\n",
              "  .colab-df-spinner {\n",
              "    border: 2px solid var(--fill-color);\n",
              "    border-color: transparent;\n",
              "    border-bottom-color: var(--fill-color);\n",
              "    animation:\n",
              "      spin 1s steps(1) infinite;\n",
              "  }\n",
              "\n",
              "  @keyframes spin {\n",
              "    0% {\n",
              "      border-color: transparent;\n",
              "      border-bottom-color: var(--fill-color);\n",
              "      border-left-color: var(--fill-color);\n",
              "    }\n",
              "    20% {\n",
              "      border-color: transparent;\n",
              "      border-left-color: var(--fill-color);\n",
              "      border-top-color: var(--fill-color);\n",
              "    }\n",
              "    30% {\n",
              "      border-color: transparent;\n",
              "      border-left-color: var(--fill-color);\n",
              "      border-top-color: var(--fill-color);\n",
              "      border-right-color: var(--fill-color);\n",
              "    }\n",
              "    40% {\n",
              "      border-color: transparent;\n",
              "      border-right-color: var(--fill-color);\n",
              "      border-top-color: var(--fill-color);\n",
              "    }\n",
              "    60% {\n",
              "      border-color: transparent;\n",
              "      border-right-color: var(--fill-color);\n",
              "    }\n",
              "    80% {\n",
              "      border-color: transparent;\n",
              "      border-right-color: var(--fill-color);\n",
              "      border-bottom-color: var(--fill-color);\n",
              "    }\n",
              "    90% {\n",
              "      border-color: transparent;\n",
              "      border-bottom-color: var(--fill-color);\n",
              "    }\n",
              "  }\n",
              "</style>\n",
              "\n",
              "  <script>\n",
              "    async function quickchart(key) {\n",
              "      const quickchartButtonEl =\n",
              "        document.querySelector('#' + key + ' button');\n",
              "      quickchartButtonEl.disabled = true;  // To prevent multiple clicks.\n",
              "      quickchartButtonEl.classList.add('colab-df-spinner');\n",
              "      try {\n",
              "        const charts = await google.colab.kernel.invokeFunction(\n",
              "            'suggestCharts', [key], {});\n",
              "      } catch (error) {\n",
              "        console.error('Error during call to suggestCharts:', error);\n",
              "      }\n",
              "      quickchartButtonEl.classList.remove('colab-df-spinner');\n",
              "      quickchartButtonEl.classList.add('colab-df-quickchart-complete');\n",
              "    }\n",
              "    (() => {\n",
              "      let quickchartButtonEl =\n",
              "        document.querySelector('#df-e3780786-c973-494d-a00a-ab17252642de button');\n",
              "      quickchartButtonEl.style.display =\n",
              "        google.colab.kernel.accessAllowed ? 'block' : 'none';\n",
              "    })();\n",
              "  </script>\n",
              "</div>\n",
              "\n",
              "  <div id=\"id_dde8751a-bf5f-48a3-ba1f-c8cec8c89329\">\n",
              "    <style>\n",
              "      .colab-df-generate {\n",
              "        background-color: #E8F0FE;\n",
              "        border: none;\n",
              "        border-radius: 50%;\n",
              "        cursor: pointer;\n",
              "        display: none;\n",
              "        fill: #1967D2;\n",
              "        height: 32px;\n",
              "        padding: 0 0 0 0;\n",
              "        width: 32px;\n",
              "      }\n",
              "\n",
              "      .colab-df-generate:hover {\n",
              "        background-color: #E2EBFA;\n",
              "        box-shadow: 0px 1px 2px rgba(60, 64, 67, 0.3), 0px 1px 3px 1px rgba(60, 64, 67, 0.15);\n",
              "        fill: #174EA6;\n",
              "      }\n",
              "\n",
              "      [theme=dark] .colab-df-generate {\n",
              "        background-color: #3B4455;\n",
              "        fill: #D2E3FC;\n",
              "      }\n",
              "\n",
              "      [theme=dark] .colab-df-generate:hover {\n",
              "        background-color: #434B5C;\n",
              "        box-shadow: 0px 1px 3px 1px rgba(0, 0, 0, 0.15);\n",
              "        filter: drop-shadow(0px 1px 2px rgba(0, 0, 0, 0.3));\n",
              "        fill: #FFFFFF;\n",
              "      }\n",
              "    </style>\n",
              "    <button class=\"colab-df-generate\" onclick=\"generateWithVariable('merged_df')\"\n",
              "            title=\"Generate code using this dataframe.\"\n",
              "            style=\"display:none;\">\n",
              "\n",
              "  <svg xmlns=\"http://www.w3.org/2000/svg\" height=\"24px\"viewBox=\"0 0 24 24\"\n",
              "       width=\"24px\">\n",
              "    <path d=\"M7,19H8.4L18.45,9,17,7.55,7,17.6ZM5,21V16.75L18.45,3.32a2,2,0,0,1,2.83,0l1.4,1.43a1.91,1.91,0,0,1,.58,1.4,1.91,1.91,0,0,1-.58,1.4L9.25,21ZM18.45,9,17,7.55Zm-12,3A5.31,5.31,0,0,0,4.9,8.1,5.31,5.31,0,0,0,1,6.5,5.31,5.31,0,0,0,4.9,4.9,5.31,5.31,0,0,0,6.5,1,5.31,5.31,0,0,0,8.1,4.9,5.31,5.31,0,0,0,12,6.5,5.46,5.46,0,0,0,6.5,12Z\"/>\n",
              "  </svg>\n",
              "    </button>\n",
              "    <script>\n",
              "      (() => {\n",
              "      const buttonEl =\n",
              "        document.querySelector('#id_dde8751a-bf5f-48a3-ba1f-c8cec8c89329 button.colab-df-generate');\n",
              "      buttonEl.style.display =\n",
              "        google.colab.kernel.accessAllowed ? 'block' : 'none';\n",
              "\n",
              "      buttonEl.onclick = () => {\n",
              "        google.colab.notebook.generateWithVariable('merged_df');\n",
              "      }\n",
              "      })();\n",
              "    </script>\n",
              "  </div>\n",
              "\n",
              "    </div>\n",
              "  </div>\n"
            ],
            "application/vnd.google.colaboratory.intrinsic+json": {
              "type": "dataframe",
              "variable_name": "merged_df",
              "summary": "{\n  \"name\": \"merged_df\",\n  \"rows\": 21215,\n  \"fields\": [\n    {\n      \"column\": \"asin\",\n      \"properties\": {\n        \"dtype\": \"string\",\n        \"num_unique_values\": 11032,\n        \"samples\": [\n          \"B018E8ZH66\",\n          \"B00AIRUOI8\",\n          \"B00VQ8DRDC\"\n        ],\n        \"semantic_type\": \"\",\n        \"description\": \"\"\n      }\n    },\n    {\n      \"column\": \"reviewText\",\n      \"properties\": {\n        \"dtype\": \"string\",\n        \"num_unique_values\": 19999,\n        \"samples\": [\n          \"This lens absolutely blew me away. I have the Canon f/1.2L and used to have the f/1.4 and simply got this to see if the STM version was an improvement from the original nifty fifty. The lens now has a metal mount, which gives it an all better look and a bit more sturdiness in the hand. It is still pretty \\\"plasticky\\\", but you're paying $125 for it, what more do you want? Performance wise I can 100% guarantee you will see little to no difference when compared to the f/1.4, definitely not a $200 difference! The only difference is that you get not even half a stop more of light. If you're teetering on whether to get the f/1.4 or this lens. Get this lens. It may not look as pretty or aesthetically pleasing as the f/1.4, but you will get the same results, and they are stunning. I won't go as far to say it's better than 1.2L, but I don't think you'll find you need any need to upgrade, whatsoever, unless you have an occupation that calls to. Don't forget to perform micro adjustments with your lenses, this back focused so I had to adjust it to -5.\\n\\nUpdate 6/26/18: I have had this lens for 2 years now and still stand by everything I said above! Because this lens is so light I always have it in my bag and a lot of the time, on my camera. Crazy versatile and still sharp 2 years later.\",\n          \"**This product was given to me for a ubiased review**\\n\\nVery Attractive design - all metal, and small\\nSpeed (see below)\\nLifetime warranty - link attached in folder on the drive\\n\\nBut, no cap to protect the connector.\\n\\n16GB speeds:\\nRead test:\\nQT 1: 132.978 MB\\\\s\\nQT 2: 133.689 MB\\\\s\\nQT 3: 132.978 MB\\\\s\\nQT 4: 133.689 MB\\\\s\\n-------------------\\nTOTAL: 133.333 MB/s\\n\\nWrite test:\\nQT 1: 93.984 MB\\\\s\\nQT 2: 84.175 MB\\\\s\\nQT 3: 94.339 MB\\\\s\\nQT 4: 84.175 MB\\\\s\\n-------------------\\nTOTAL: 88.888 MB/s\\n\\nRead test:\\nQT 1: 133.689 MB\\\\s\\nQT 2: 132.978 MB\\\\s\\nQT 3: 133.689 MB\\\\s\\nQT 4: 132.978 MB\\\\s\\n-------------------\\nTOTAL: 133.333 MB/s\\n\\nWrite test:\\nQT 1: 88.967 MB\\\\s\\nQT 2: 88.967 MB\\\\s\\nQT 3: 84.175 MB\\\\s\\nQT 4: 93.984 MB\\\\s\\n-------------------\\nTOTAL: 88.888 MB/s\\n\\nRead test:\\nQT 1: 123.152 MB\\\\s\\nQT 2: 132.978 MB\\\\s\\nQT 3: 133.689 MB\\\\s\\nQT 4: 132.978 MB\\\\s\\n-------------------\\nTOTAL: 130.548 MB/s\\n\\nWrite test:\\nQT 1: 72.674 MB\\\\s\\nQT 2: 76.219 MB\\\\s\\nQT 3: 76.219 MB\\\\s\\nQT 4: 84.175 MB\\\\s\\n-------------------\\nTOTAL: 77.101 MB/s\\n\\n64GB speeds:\\n\\nRead test:\\nQT 1: 100 MB\\\\s\\nQT 2: 93.984 MB\\\\s\\nQT 3: 100 MB\\\\s\\nQT 4: 100 MB\\\\s\\n-------------------\\nTOTAL: 98.425 MB/s\\n\\nWrite test:\\nQT 1: 88.967 MB\\\\s\\nQT 2: 100 MB\\\\s\\nQT 3: 93.984 MB\\\\s\\nQT 4: 94.339 MB\\\\s\\n-------------------\\nTOTAL: 92.764 MB/s\\n\\nRead test:\\nQT 1: 100 MB\\\\s\\nQT 2: 100 MB\\\\s\\nQT 3: 94.339 MB\\\\s\\nQT 4: 100 MB\\\\s\\n-------------------\\nTOTAL: 98.522 MB/s\\n\\nWrite test:\\nQT 1: 88.967 MB\\\\s\\nQT 2: 88.967 MB\\\\s\\nQT 3: 93.984 MB\\\\s\\nQT 4: 93.984 MB\\\\s\\n-------------------\\nTOTAL: 91.407 MB/s\\n\\nChecked on 12.03.2016\\n\\nRead test:\\nQT 1: 93.984 MB\\\\s\\nQT 2: 100 MB\\\\s\\nQT 3: 100 MB\\\\s\\nQT 4: 94.339 MB\\\\s\\n-------------------\\nTOTAL: 96.993 MB/s\\n\\nWrite test:\\nQT 1: 84.175 MB\\\\s\\nQT 2: 94.339 MB\\\\s\\nQT 3: 84.175 MB\\\\s\\nQT 4: 93.984 MB\\\\s\\n-------------------\\nTOTAL: 88.888 MB/s\\n\\nChecked on 12.03.2016\",\n          \"Best Router Yet!\\n\\nJust purchased this from Best Buy when I relocated to my new Apt. Simple connections and setup. Intuitive, yet sophisticated menu structure and user setup. Support all the current standards (including ac @ 5 GHz). Plus you can share your music/pictures wirelessly from a USB-connected device. All in all a real value with big bang for the buck.\"\n        ],\n        \"semantic_type\": \"\",\n        \"description\": \"\"\n      }\n    },\n    {\n      \"column\": \"overall\",\n      \"properties\": {\n        \"dtype\": \"number\",\n        \"std\": 1,\n        \"min\": 1,\n        \"max\": 5,\n        \"num_unique_values\": 5,\n        \"samples\": [\n          3,\n          2,\n          1\n        ],\n        \"semantic_type\": \"\",\n        \"description\": \"\"\n      }\n    },\n    {\n      \"column\": \"title\",\n      \"properties\": {\n        \"dtype\": \"string\",\n        \"num_unique_values\": 10942,\n        \"samples\": [\n          \"Definitive Technology AW 6500 Outdoor Speaker (Single, White)\",\n          \"PortaPow Specialised 1ft\",\n          \"Zhiyun Z1-Rider-V2 3-Axis Multi Function Gimbal for the GoPro (Black)\"\n        ],\n        \"semantic_type\": \"\",\n        \"description\": \"\"\n      }\n    },\n    {\n      \"column\": \"brand\",\n      \"properties\": {\n        \"dtype\": \"category\",\n        \"num_unique_values\": 2999,\n        \"samples\": [\n          \"ThinkWrite\",\n          \"LifeProof\",\n          \"Wenger\"\n        ],\n        \"semantic_type\": \"\",\n        \"description\": \"\"\n      }\n    }\n  ]\n}"
            }
          },
          "metadata": {},
          "execution_count": 12
        }
      ]
    },
    {
      "cell_type": "code",
      "source": [
        "grouped_df = pd.DataFrame(\n",
        "    merged_df.groupby('title').agg(\n",
        "        mean_rate=('overall', np.mean))\n",
        ").reset_index()"
      ],
      "metadata": {
        "id": "1c-_zMBaIgOz"
      },
      "execution_count": 13,
      "outputs": []
    },
    {
      "cell_type": "code",
      "source": [
        "grouped_df = grouped_df.sort_values([\"mean_rate\"], ascending=False).reset_index(drop=True)\n",
        "grouped_df"
      ],
      "metadata": {
        "colab": {
          "base_uri": "https://localhost:8080/",
          "height": 423
        },
        "id": "ItWdpyVuJo_T",
        "outputId": "c1421239-25c0-4e34-e039-ddc4b14bc05c"
      },
      "execution_count": 15,
      "outputs": [
        {
          "output_type": "execute_result",
          "data": {
            "text/plain": [
              "                                                   title  mean_rate\n",
              "0       RoadPro Replacement Speaker Wire 10 ft With 3...        5.0\n",
              "1      zigels Laptop Backpack Padded Stylish for Trav...        5.0\n",
              "2      xmartO Expandable Wireless Security Camera Sys...        5.0\n",
              "3      xmartO 1080p HD Wireless Security Camera Syste...        5.0\n",
              "4       Accell DisplayPort to DVI-D Dual-Link Adapter...        5.0\n",
              "...                                                  ...        ...\n",
              "10937  Sandisk Z400s 128GB Solid State Drive (2.5&rdq...        1.0\n",
              "10938  Sangean H201 Portable AM/FM/Weather Alert Digi...        1.0\n",
              "10939  Neewer TT860LI-ION BATTERY Speedlite Flash E T...        1.0\n",
              "10940  Amcrest AMDV960H8-4B4D 960H 8CH Video Security...        1.0\n",
              "10941  Sangean WFR-28 Internet Radio / FM-RBDS / USB ...        1.0\n",
              "\n",
              "[10942 rows x 2 columns]"
            ],
            "text/html": [
              "\n",
              "  <div id=\"df-e145c275-cc1e-4fc1-a342-e4b10cdf004c\" class=\"colab-df-container\">\n",
              "    <div>\n",
              "<style scoped>\n",
              "    .dataframe tbody tr th:only-of-type {\n",
              "        vertical-align: middle;\n",
              "    }\n",
              "\n",
              "    .dataframe tbody tr th {\n",
              "        vertical-align: top;\n",
              "    }\n",
              "\n",
              "    .dataframe thead th {\n",
              "        text-align: right;\n",
              "    }\n",
              "</style>\n",
              "<table border=\"1\" class=\"dataframe\">\n",
              "  <thead>\n",
              "    <tr style=\"text-align: right;\">\n",
              "      <th></th>\n",
              "      <th>title</th>\n",
              "      <th>mean_rate</th>\n",
              "    </tr>\n",
              "  </thead>\n",
              "  <tbody>\n",
              "    <tr>\n",
              "      <th>0</th>\n",
              "      <td>RoadPro Replacement Speaker Wire 10 ft With 3...</td>\n",
              "      <td>5.0</td>\n",
              "    </tr>\n",
              "    <tr>\n",
              "      <th>1</th>\n",
              "      <td>zigels Laptop Backpack Padded Stylish for Trav...</td>\n",
              "      <td>5.0</td>\n",
              "    </tr>\n",
              "    <tr>\n",
              "      <th>2</th>\n",
              "      <td>xmartO Expandable Wireless Security Camera Sys...</td>\n",
              "      <td>5.0</td>\n",
              "    </tr>\n",
              "    <tr>\n",
              "      <th>3</th>\n",
              "      <td>xmartO 1080p HD Wireless Security Camera Syste...</td>\n",
              "      <td>5.0</td>\n",
              "    </tr>\n",
              "    <tr>\n",
              "      <th>4</th>\n",
              "      <td>Accell DisplayPort to DVI-D Dual-Link Adapter...</td>\n",
              "      <td>5.0</td>\n",
              "    </tr>\n",
              "    <tr>\n",
              "      <th>...</th>\n",
              "      <td>...</td>\n",
              "      <td>...</td>\n",
              "    </tr>\n",
              "    <tr>\n",
              "      <th>10937</th>\n",
              "      <td>Sandisk Z400s 128GB Solid State Drive (2.5&amp;rdq...</td>\n",
              "      <td>1.0</td>\n",
              "    </tr>\n",
              "    <tr>\n",
              "      <th>10938</th>\n",
              "      <td>Sangean H201 Portable AM/FM/Weather Alert Digi...</td>\n",
              "      <td>1.0</td>\n",
              "    </tr>\n",
              "    <tr>\n",
              "      <th>10939</th>\n",
              "      <td>Neewer TT860LI-ION BATTERY Speedlite Flash E T...</td>\n",
              "      <td>1.0</td>\n",
              "    </tr>\n",
              "    <tr>\n",
              "      <th>10940</th>\n",
              "      <td>Amcrest AMDV960H8-4B4D 960H 8CH Video Security...</td>\n",
              "      <td>1.0</td>\n",
              "    </tr>\n",
              "    <tr>\n",
              "      <th>10941</th>\n",
              "      <td>Sangean WFR-28 Internet Radio / FM-RBDS / USB ...</td>\n",
              "      <td>1.0</td>\n",
              "    </tr>\n",
              "  </tbody>\n",
              "</table>\n",
              "<p>10942 rows × 2 columns</p>\n",
              "</div>\n",
              "    <div class=\"colab-df-buttons\">\n",
              "\n",
              "  <div class=\"colab-df-container\">\n",
              "    <button class=\"colab-df-convert\" onclick=\"convertToInteractive('df-e145c275-cc1e-4fc1-a342-e4b10cdf004c')\"\n",
              "            title=\"Convert this dataframe to an interactive table.\"\n",
              "            style=\"display:none;\">\n",
              "\n",
              "  <svg xmlns=\"http://www.w3.org/2000/svg\" height=\"24px\" viewBox=\"0 -960 960 960\">\n",
              "    <path d=\"M120-120v-720h720v720H120Zm60-500h600v-160H180v160Zm220 220h160v-160H400v160Zm0 220h160v-160H400v160ZM180-400h160v-160H180v160Zm440 0h160v-160H620v160ZM180-180h160v-160H180v160Zm440 0h160v-160H620v160Z\"/>\n",
              "  </svg>\n",
              "    </button>\n",
              "\n",
              "  <style>\n",
              "    .colab-df-container {\n",
              "      display:flex;\n",
              "      gap: 12px;\n",
              "    }\n",
              "\n",
              "    .colab-df-convert {\n",
              "      background-color: #E8F0FE;\n",
              "      border: none;\n",
              "      border-radius: 50%;\n",
              "      cursor: pointer;\n",
              "      display: none;\n",
              "      fill: #1967D2;\n",
              "      height: 32px;\n",
              "      padding: 0 0 0 0;\n",
              "      width: 32px;\n",
              "    }\n",
              "\n",
              "    .colab-df-convert:hover {\n",
              "      background-color: #E2EBFA;\n",
              "      box-shadow: 0px 1px 2px rgba(60, 64, 67, 0.3), 0px 1px 3px 1px rgba(60, 64, 67, 0.15);\n",
              "      fill: #174EA6;\n",
              "    }\n",
              "\n",
              "    .colab-df-buttons div {\n",
              "      margin-bottom: 4px;\n",
              "    }\n",
              "\n",
              "    [theme=dark] .colab-df-convert {\n",
              "      background-color: #3B4455;\n",
              "      fill: #D2E3FC;\n",
              "    }\n",
              "\n",
              "    [theme=dark] .colab-df-convert:hover {\n",
              "      background-color: #434B5C;\n",
              "      box-shadow: 0px 1px 3px 1px rgba(0, 0, 0, 0.15);\n",
              "      filter: drop-shadow(0px 1px 2px rgba(0, 0, 0, 0.3));\n",
              "      fill: #FFFFFF;\n",
              "    }\n",
              "  </style>\n",
              "\n",
              "    <script>\n",
              "      const buttonEl =\n",
              "        document.querySelector('#df-e145c275-cc1e-4fc1-a342-e4b10cdf004c button.colab-df-convert');\n",
              "      buttonEl.style.display =\n",
              "        google.colab.kernel.accessAllowed ? 'block' : 'none';\n",
              "\n",
              "      async function convertToInteractive(key) {\n",
              "        const element = document.querySelector('#df-e145c275-cc1e-4fc1-a342-e4b10cdf004c');\n",
              "        const dataTable =\n",
              "          await google.colab.kernel.invokeFunction('convertToInteractive',\n",
              "                                                    [key], {});\n",
              "        if (!dataTable) return;\n",
              "\n",
              "        const docLinkHtml = 'Like what you see? Visit the ' +\n",
              "          '<a target=\"_blank\" href=https://colab.research.google.com/notebooks/data_table.ipynb>data table notebook</a>'\n",
              "          + ' to learn more about interactive tables.';\n",
              "        element.innerHTML = '';\n",
              "        dataTable['output_type'] = 'display_data';\n",
              "        await google.colab.output.renderOutput(dataTable, element);\n",
              "        const docLink = document.createElement('div');\n",
              "        docLink.innerHTML = docLinkHtml;\n",
              "        element.appendChild(docLink);\n",
              "      }\n",
              "    </script>\n",
              "  </div>\n",
              "\n",
              "\n",
              "<div id=\"df-d0561a08-410e-4f10-8318-915eb98b6d6a\">\n",
              "  <button class=\"colab-df-quickchart\" onclick=\"quickchart('df-d0561a08-410e-4f10-8318-915eb98b6d6a')\"\n",
              "            title=\"Suggest charts\"\n",
              "            style=\"display:none;\">\n",
              "\n",
              "<svg xmlns=\"http://www.w3.org/2000/svg\" height=\"24px\"viewBox=\"0 0 24 24\"\n",
              "     width=\"24px\">\n",
              "    <g>\n",
              "        <path d=\"M19 3H5c-1.1 0-2 .9-2 2v14c0 1.1.9 2 2 2h14c1.1 0 2-.9 2-2V5c0-1.1-.9-2-2-2zM9 17H7v-7h2v7zm4 0h-2V7h2v10zm4 0h-2v-4h2v4z\"/>\n",
              "    </g>\n",
              "</svg>\n",
              "  </button>\n",
              "\n",
              "<style>\n",
              "  .colab-df-quickchart {\n",
              "      --bg-color: #E8F0FE;\n",
              "      --fill-color: #1967D2;\n",
              "      --hover-bg-color: #E2EBFA;\n",
              "      --hover-fill-color: #174EA6;\n",
              "      --disabled-fill-color: #AAA;\n",
              "      --disabled-bg-color: #DDD;\n",
              "  }\n",
              "\n",
              "  [theme=dark] .colab-df-quickchart {\n",
              "      --bg-color: #3B4455;\n",
              "      --fill-color: #D2E3FC;\n",
              "      --hover-bg-color: #434B5C;\n",
              "      --hover-fill-color: #FFFFFF;\n",
              "      --disabled-bg-color: #3B4455;\n",
              "      --disabled-fill-color: #666;\n",
              "  }\n",
              "\n",
              "  .colab-df-quickchart {\n",
              "    background-color: var(--bg-color);\n",
              "    border: none;\n",
              "    border-radius: 50%;\n",
              "    cursor: pointer;\n",
              "    display: none;\n",
              "    fill: var(--fill-color);\n",
              "    height: 32px;\n",
              "    padding: 0;\n",
              "    width: 32px;\n",
              "  }\n",
              "\n",
              "  .colab-df-quickchart:hover {\n",
              "    background-color: var(--hover-bg-color);\n",
              "    box-shadow: 0 1px 2px rgba(60, 64, 67, 0.3), 0 1px 3px 1px rgba(60, 64, 67, 0.15);\n",
              "    fill: var(--button-hover-fill-color);\n",
              "  }\n",
              "\n",
              "  .colab-df-quickchart-complete:disabled,\n",
              "  .colab-df-quickchart-complete:disabled:hover {\n",
              "    background-color: var(--disabled-bg-color);\n",
              "    fill: var(--disabled-fill-color);\n",
              "    box-shadow: none;\n",
              "  }\n",
              "\n",
              "  .colab-df-spinner {\n",
              "    border: 2px solid var(--fill-color);\n",
              "    border-color: transparent;\n",
              "    border-bottom-color: var(--fill-color);\n",
              "    animation:\n",
              "      spin 1s steps(1) infinite;\n",
              "  }\n",
              "\n",
              "  @keyframes spin {\n",
              "    0% {\n",
              "      border-color: transparent;\n",
              "      border-bottom-color: var(--fill-color);\n",
              "      border-left-color: var(--fill-color);\n",
              "    }\n",
              "    20% {\n",
              "      border-color: transparent;\n",
              "      border-left-color: var(--fill-color);\n",
              "      border-top-color: var(--fill-color);\n",
              "    }\n",
              "    30% {\n",
              "      border-color: transparent;\n",
              "      border-left-color: var(--fill-color);\n",
              "      border-top-color: var(--fill-color);\n",
              "      border-right-color: var(--fill-color);\n",
              "    }\n",
              "    40% {\n",
              "      border-color: transparent;\n",
              "      border-right-color: var(--fill-color);\n",
              "      border-top-color: var(--fill-color);\n",
              "    }\n",
              "    60% {\n",
              "      border-color: transparent;\n",
              "      border-right-color: var(--fill-color);\n",
              "    }\n",
              "    80% {\n",
              "      border-color: transparent;\n",
              "      border-right-color: var(--fill-color);\n",
              "      border-bottom-color: var(--fill-color);\n",
              "    }\n",
              "    90% {\n",
              "      border-color: transparent;\n",
              "      border-bottom-color: var(--fill-color);\n",
              "    }\n",
              "  }\n",
              "</style>\n",
              "\n",
              "  <script>\n",
              "    async function quickchart(key) {\n",
              "      const quickchartButtonEl =\n",
              "        document.querySelector('#' + key + ' button');\n",
              "      quickchartButtonEl.disabled = true;  // To prevent multiple clicks.\n",
              "      quickchartButtonEl.classList.add('colab-df-spinner');\n",
              "      try {\n",
              "        const charts = await google.colab.kernel.invokeFunction(\n",
              "            'suggestCharts', [key], {});\n",
              "      } catch (error) {\n",
              "        console.error('Error during call to suggestCharts:', error);\n",
              "      }\n",
              "      quickchartButtonEl.classList.remove('colab-df-spinner');\n",
              "      quickchartButtonEl.classList.add('colab-df-quickchart-complete');\n",
              "    }\n",
              "    (() => {\n",
              "      let quickchartButtonEl =\n",
              "        document.querySelector('#df-d0561a08-410e-4f10-8318-915eb98b6d6a button');\n",
              "      quickchartButtonEl.style.display =\n",
              "        google.colab.kernel.accessAllowed ? 'block' : 'none';\n",
              "    })();\n",
              "  </script>\n",
              "</div>\n",
              "\n",
              "  <div id=\"id_5cbefb30-2335-42fc-9359-81ce6d583611\">\n",
              "    <style>\n",
              "      .colab-df-generate {\n",
              "        background-color: #E8F0FE;\n",
              "        border: none;\n",
              "        border-radius: 50%;\n",
              "        cursor: pointer;\n",
              "        display: none;\n",
              "        fill: #1967D2;\n",
              "        height: 32px;\n",
              "        padding: 0 0 0 0;\n",
              "        width: 32px;\n",
              "      }\n",
              "\n",
              "      .colab-df-generate:hover {\n",
              "        background-color: #E2EBFA;\n",
              "        box-shadow: 0px 1px 2px rgba(60, 64, 67, 0.3), 0px 1px 3px 1px rgba(60, 64, 67, 0.15);\n",
              "        fill: #174EA6;\n",
              "      }\n",
              "\n",
              "      [theme=dark] .colab-df-generate {\n",
              "        background-color: #3B4455;\n",
              "        fill: #D2E3FC;\n",
              "      }\n",
              "\n",
              "      [theme=dark] .colab-df-generate:hover {\n",
              "        background-color: #434B5C;\n",
              "        box-shadow: 0px 1px 3px 1px rgba(0, 0, 0, 0.15);\n",
              "        filter: drop-shadow(0px 1px 2px rgba(0, 0, 0, 0.3));\n",
              "        fill: #FFFFFF;\n",
              "      }\n",
              "    </style>\n",
              "    <button class=\"colab-df-generate\" onclick=\"generateWithVariable('grouped_df')\"\n",
              "            title=\"Generate code using this dataframe.\"\n",
              "            style=\"display:none;\">\n",
              "\n",
              "  <svg xmlns=\"http://www.w3.org/2000/svg\" height=\"24px\"viewBox=\"0 0 24 24\"\n",
              "       width=\"24px\">\n",
              "    <path d=\"M7,19H8.4L18.45,9,17,7.55,7,17.6ZM5,21V16.75L18.45,3.32a2,2,0,0,1,2.83,0l1.4,1.43a1.91,1.91,0,0,1,.58,1.4,1.91,1.91,0,0,1-.58,1.4L9.25,21ZM18.45,9,17,7.55Zm-12,3A5.31,5.31,0,0,0,4.9,8.1,5.31,5.31,0,0,0,1,6.5,5.31,5.31,0,0,0,4.9,4.9,5.31,5.31,0,0,0,6.5,1,5.31,5.31,0,0,0,8.1,4.9,5.31,5.31,0,0,0,12,6.5,5.46,5.46,0,0,0,6.5,12Z\"/>\n",
              "  </svg>\n",
              "    </button>\n",
              "    <script>\n",
              "      (() => {\n",
              "      const buttonEl =\n",
              "        document.querySelector('#id_5cbefb30-2335-42fc-9359-81ce6d583611 button.colab-df-generate');\n",
              "      buttonEl.style.display =\n",
              "        google.colab.kernel.accessAllowed ? 'block' : 'none';\n",
              "\n",
              "      buttonEl.onclick = () => {\n",
              "        google.colab.notebook.generateWithVariable('grouped_df');\n",
              "      }\n",
              "      })();\n",
              "    </script>\n",
              "  </div>\n",
              "\n",
              "    </div>\n",
              "  </div>\n"
            ],
            "application/vnd.google.colaboratory.intrinsic+json": {
              "type": "dataframe",
              "variable_name": "grouped_df",
              "summary": "{\n  \"name\": \"grouped_df\",\n  \"rows\": 10942,\n  \"fields\": [\n    {\n      \"column\": \"title\",\n      \"properties\": {\n        \"dtype\": \"string\",\n        \"num_unique_values\": 10942,\n        \"samples\": [\n          \"HDMI Cable 3ft - HDMI 2.0 (4K @ 60Hz) Ready - 28AWG Braided Cord - High Speed 18Gbps - Gold Plated Connectors - Ethernet / Audio Return - Video 2160p HD 1080p 3D - Xbox PlayStation PS3 PS4 PC Apple TV\",\n          \"DOSS Portable Outdoor Wireless Bluetooth 4.0 Waterproof(IPX 4) Sport Speaker with 10W superior sound quality and enhanced bass,8 hours playtime,Handsfree [White]\",\n          \"UIUIUS Portable Bluetooth Wireless Speaker Outdoor Waterproof Speakers with 12W Loudspeaker Super Bass 15 Hours Playtime for iPhone 7/7Plus iPad Samsung Tablet Echo Dot (Green)\"\n        ],\n        \"semantic_type\": \"\",\n        \"description\": \"\"\n      }\n    },\n    {\n      \"column\": \"mean_rate\",\n      \"properties\": {\n        \"dtype\": \"number\",\n        \"std\": 1.533472818215174,\n        \"min\": 1.0,\n        \"max\": 5.0,\n        \"num_unique_values\": 205,\n        \"samples\": [\n          4.588235294117647,\n          4.7272727272727275,\n          3.125\n        ],\n        \"semantic_type\": \"\",\n        \"description\": \"\"\n      }\n    }\n  ]\n}"
            }
          },
          "metadata": {},
          "execution_count": 15
        }
      ]
    },
    {
      "cell_type": "markdown",
      "metadata": {
        "id": "zU9jUILg03uM"
      },
      "source": [
        "Sentiment Polarity"
      ]
    },
    {
      "cell_type": "code",
      "execution_count": 18,
      "metadata": {
        "id": "v6Y0dNrZ03uM",
        "colab": {
          "base_uri": "https://localhost:8080/"
        },
        "outputId": "13e1d164-78ad-4546-96eb-0686707a795f"
      },
      "outputs": [
        {
          "output_type": "stream",
          "name": "stdout",
          "text": [
            "                                                   title  mean_rate sentiment\n",
            "0       RoadPro Replacement Speaker Wire 10 ft With 3...        5.0  positive\n",
            "1      zigels Laptop Backpack Padded Stylish for Trav...        5.0  positive\n",
            "2      xmartO Expandable Wireless Security Camera Sys...        5.0  positive\n",
            "3      xmartO 1080p HD Wireless Security Camera Syste...        5.0  positive\n",
            "4       Accell DisplayPort to DVI-D Dual-Link Adapter...        5.0  positive\n",
            "...                                                  ...        ...       ...\n",
            "10937  Sandisk Z400s 128GB Solid State Drive (2.5&rdq...        1.0  negative\n",
            "10938  Sangean H201 Portable AM/FM/Weather Alert Digi...        1.0  negative\n",
            "10939  Neewer TT860LI-ION BATTERY Speedlite Flash E T...        1.0  negative\n",
            "10940  Amcrest AMDV960H8-4B4D 960H 8CH Video Security...        1.0  negative\n",
            "10941  Sangean WFR-28 Internet Radio / FM-RBDS / USB ...        1.0  negative\n",
            "\n",
            "[10942 rows x 3 columns]\n"
          ]
        }
      ],
      "source": [
        "def classify_sentiment(row):\n",
        "    if row[\"mean_rate\"] > 3.5:\n",
        "        return 'positive'\n",
        "    elif row[\"mean_rate\"] < 2.5:\n",
        "        return 'negative'\n",
        "    else:\n",
        "        return 'neutral'\n",
        "\n",
        "grouped_df['sentiment'] = grouped_df.apply(classify_sentiment, axis=1)\n",
        "print(grouped_df)"
      ]
    },
    {
      "cell_type": "code",
      "execution_count": 20,
      "metadata": {
        "id": "ATJpzsgp03uM",
        "outputId": "c59caf87-a261-46f8-e447-5cbaec9abcda",
        "colab": {
          "base_uri": "https://localhost:8080/"
        }
      },
      "outputs": [
        {
          "output_type": "stream",
          "name": "stdout",
          "text": [
            "sentiment\n",
            "positive    5349\n",
            "negative    3656\n",
            "neutral     1937\n",
            "Name: count, dtype: int64\n"
          ]
        }
      ],
      "source": [
        "sentiment_summary = grouped_df['sentiment'].value_counts()\n",
        "print(sentiment_summary)"
      ]
    },
    {
      "cell_type": "code",
      "execution_count": 21,
      "metadata": {
        "id": "rWD2-Qgq03uM",
        "outputId": "8db960e0-927f-4801-d5b1-7ff89031ab57",
        "colab": {
          "base_uri": "https://localhost:8080/",
          "height": 651
        }
      },
      "outputs": [
        {
          "output_type": "stream",
          "name": "stderr",
          "text": [
            "<ipython-input-21-edec7134dda0>:2: FutureWarning: \n",
            "\n",
            "Passing `palette` without assigning `hue` is deprecated and will be removed in v0.14.0. Assign the `x` variable to `hue` and set `legend=False` for the same effect.\n",
            "\n",
            "  sns.barplot(x=sentiment_summary.index, y=sentiment_summary.values, palette='viridis')\n"
          ]
        },
        {
          "output_type": "display_data",
          "data": {
            "text/plain": [
              "<Figure size 800x600 with 1 Axes>"
            ],
            "image/png": "[encoded data removed]"
          },
          "metadata": {}
        }
      ],
      "source": [
        "plt.figure(figsize=(8, 6))\n",
        "sns.barplot(x=sentiment_summary.index, y=sentiment_summary.values, palette='viridis')\n",
        "plt.xlabel('Sentiment')\n",
        "plt.ylabel('Number of Reviews')\n",
        "plt.title('Sentiment Analysis of Reviews Mentioning Warranty')\n",
        "plt.show()\n"
      ]
    },
    {
      "cell_type": "code",
      "execution_count": 28,
      "metadata": {
        "id": "lA3wUjvE03uM",
        "outputId": "553ea0c3-f1ca-4813-daf3-c282336f75e4",
        "colab": {
          "base_uri": "https://localhost:8080/",
          "height": 651
        }
      },
      "outputs": [
        {
          "output_type": "stream",
          "name": "stderr",
          "text": [
            "<ipython-input-28-5f93e1a3d4ed>:2: FutureWarning: \n",
            "\n",
            "Passing `palette` without assigning `hue` is deprecated and will be removed in v0.14.0. Assign the `x` variable to `hue` and set `legend=False` for the same effect.\n",
            "\n",
            "  sns.boxplot(x='sentiment', y='mean_rate', data=grouped_df, palette='viridis')\n"
          ]
        },
        {
          "output_type": "display_data",
          "data": {
            "text/plain": [
              "<Figure size 1000x600 with 1 Axes>"
            ],
            "image/png": "[encoded data removed]"
          },
          "metadata": {}
        }
      ],
      "source": [
        "plt.figure(figsize=(10, 6))\n",
        "sns.boxplot(x='sentiment', y='mean_rate', data=grouped_df, palette='viridis')\n",
        "plt.xlabel('Sentiment')\n",
        "plt.ylabel('Rating')\n",
        "plt.title('Distribution of Ratings by Sentiment for Warranty Reviews')\n",
        "plt.show()"
      ]
    },
    {
      "cell_type": "code",
      "execution_count": 32,
      "metadata": {
        "id": "AyFac2JF03uN",
        "outputId": "b967da7f-0ffb-4be1-fba8-dc701acce489",
        "colab": {
          "base_uri": "https://localhost:8080/"
        }
      },
      "outputs": [
        {
          "output_type": "stream",
          "name": "stdout",
          "text": [
            "Correlation between sentiment score and rating: 0.96\n"
          ]
        }
      ],
      "source": [
        "sentiment_mapping = {'positive': 1, 'neutral': 0, 'negative': -1}\n",
        "grouped_df['sentiment_score'] = grouped_df['sentiment'].map(sentiment_mapping)\n",
        "correlation = grouped_df[['sentiment_score', 'mean_rate']].corr().iloc[0, 1]\n",
        "print(f'Correlation between sentiment score and rating: {correlation:.2f}')"
      ]
    }
  ],
  "metadata": {
    "kernelspec": {
      "display_name": "Python 3",
      "name": "python3"
    },
    "language_info": {
      "codemirror_mode": {
        "name": "ipython",
        "version": 3
      },
      "file_extension": ".py",
      "mimetype": "text/x-python",
      "name": "python",
      "nbconvert_exporter": "python",
      "pygments_lexer": "ipython3",
      "version": "3.9.19"
    },
    "colab": {
      "provenance": [],
      "gpuType": "T4"
    },
    "accelerator": "GPU"
  },
  "nbformat": 4,
  "nbformat_minor": 0
}