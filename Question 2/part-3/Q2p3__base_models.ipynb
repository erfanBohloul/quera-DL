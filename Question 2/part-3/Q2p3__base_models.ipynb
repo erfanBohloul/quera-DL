{
  "cells": [
    {
      "cell_type": "markdown",
      "metadata": {
        "id": "EndJ2ffNIET8"
      },
      "source": [
        "q2 part3\n",
        "# Data preprocessing"
      ]
    },
    {
      "cell_type": "code",
      "execution_count": 1,
      "metadata": {
        "id": "OMmiqkMJIV6b"
      },
      "outputs": [],
      "source": [
        "import pandas as pd\n",
        "import numpy as np"
      ]
    },
    {
      "cell_type": "code",
      "execution_count": 2,
      "metadata": {
        "colab": {
          "base_uri": "https://localhost:8080/"
        },
        "id": "fAfDeRmoMLPv",
        "outputId": "6ab2ebea-31d3-4f72-8c65-5203c02204e9"
      },
      "outputs": [
        {
          "output_type": "stream",
          "name": "stdout",
          "text": [
            "Downloading...\n",
            "From (original): https://drive.google.com/uc?id=1-AlW7oNJHaqi3xk_9dWHUS52Dzl_FmFW\n",
            "From (redirected): https://drive.google.com/uc?id=1-AlW7oNJHaqi3xk_9dWHUS52Dzl_FmFW&confirm=t&uuid=b8e731af-e2a2-45e5-b6c4-018879281123\n",
            "To: /content/train_data.csv\n",
            "100% 635M/635M [00:09<00:00, 65.2MB/s]\n"
          ]
        }
      ],
      "source": [
        "!gdown 1-AlW7oNJHaqi3xk_9dWHUS52Dzl_FmFW"
      ]
    },
    {
      "cell_type": "code",
      "execution_count": 3,
      "metadata": {
        "colab": {
          "base_uri": "https://localhost:8080/"
        },
        "id": "PnZx9nOioZXV",
        "outputId": "413bc9c2-3258-498b-d846-d04cbd99f25d"
      },
      "outputs": [
        {
          "output_type": "stream",
          "name": "stderr",
          "text": [
            "<ipython-input-3-5e4155aca592>:1: DtypeWarning: Columns (1) have mixed types. Specify dtype option on import or set low_memory=False.\n",
            "  traindf = pd.read_csv(\"/content/train_data.csv\")\n"
          ]
        }
      ],
      "source": [
        "traindf = pd.read_csv(\"/content/train_data.csv\")"
      ]
    },
    {
      "cell_type": "markdown",
      "metadata": {
        "id": "1cys4to_meIa"
      },
      "source": [
        "- text preprocessing"
      ]
    },
    {
      "cell_type": "code",
      "execution_count": 4,
      "metadata": {
        "id": "P1OaGWeQnRyz"
      },
      "outputs": [],
      "source": [
        "from nltk.corpus import stopwords\n",
        "from nltk.tokenize import RegexpTokenizer\n",
        "from nltk.stem import WordNetLemmatizer\n",
        "# from spellchecker import SpellChecker\n",
        "from tensorflow.keras.preprocessing.sequence import pad_sequences\n",
        "from tensorflow.keras.preprocessing.text import Tokenizer\n",
        "import string\n",
        "import nltk\n",
        "import re"
      ]
    },
    {
      "cell_type": "code",
      "execution_count": 5,
      "metadata": {
        "colab": {
          "base_uri": "https://localhost:8080/"
        },
        "id": "df3nEpZ3zrHB",
        "outputId": "7a6e0d6d-e050-46d3-dd7b-f355521774d0"
      },
      "outputs": [
        {
          "output_type": "stream",
          "name": "stderr",
          "text": [
            "[nltk_data] Downloading package punkt to /root/nltk_data...\n",
            "[nltk_data]   Unzipping tokenizers/punkt.zip.\n",
            "[nltk_data] Downloading package stopwords to /root/nltk_data...\n",
            "[nltk_data]   Unzipping corpora/stopwords.zip.\n",
            "[nltk_data] Downloading package wordnet to /root/nltk_data...\n"
          ]
        },
        {
          "output_type": "execute_result",
          "data": {
            "text/plain": [
              "True"
            ]
          },
          "metadata": {},
          "execution_count": 5
        }
      ],
      "source": [
        "nltk.download('punkt')\n",
        "nltk.download('stopwords')\n",
        "nltk.download('wordnet')"
      ]
    },
    {
      "cell_type": "code",
      "execution_count": 6,
      "metadata": {
        "id": "AchuSzqvQ0X-"
      },
      "outputs": [],
      "source": [
        "def text_preprocesser(review):\n",
        "\n",
        "    url_mention_pattern = r\"(?:\\@|https?\\://)\\S+\"\n",
        "    slash = r'\\\\'\n",
        "    enter = r'\\n'\n",
        "    non_ASCII = r'[^\\x00-\\x7f]'\n",
        "    custom_chars = r'\\Ã\\±\\ã\\¼\\â\\»\\§'\n",
        "\n",
        "    unwanteds_pattern = [url_mention_pattern, custom_chars, non_ASCII, enter, slash]\n",
        "\n",
        "    for pattern in unwanteds_pattern:\n",
        "        review = re.sub(pattern, \"\", review)\n",
        "\n",
        "    review = re.sub(r\"\\d+\", \"<NUMBER>\", review)\n",
        "    review = review.lower()\n",
        "\n",
        "    verbs = \"wouldn't wouldn't won't will weren't weren were wasn't wasn was shouldn't shouldn should've should needn't mustn't mustn mightn it's is isn isn isn't have haven't haven having has hasn hasn't hasn had hadn't hadn been can couldn couldn did didn didn't do does doesn't does doin doing don don't are aren aren't\"\n",
        "    stop_words = set(stopwords.words('english'))\n",
        "    stop_words = stop_words.difference(set(verbs.split(\" \")))\n",
        "\n",
        "    punctuation = set(string.punctuation)\n",
        "    review = review.lower()\n",
        "\n",
        "    tokenizer = RegexpTokenizer(r'\\w+')\n",
        "    words = tokenizer.tokenize(review)\n",
        "    words = [word for word in words if word not in stop_words and word not in punctuation]\n",
        "\n",
        "    # spell = SpellChecker()\n",
        "    # words = [spell.correction(word) for word in words]\n",
        "\n",
        "    lem = WordNetLemmatizer()\n",
        "    words = [lem.lemmatize(word) if word is not None else '' for word in words]\n",
        "\n",
        "    return words"
      ]
    },
    {
      "cell_type": "code",
      "execution_count": 7,
      "metadata": {
        "id": "C7_TCNbTkgiN"
      },
      "outputs": [],
      "source": [
        "traindf['preped'] = traindf['reviewText'].apply(text_preprocesser)"
      ]
    },
    {
      "cell_type": "code",
      "execution_count": 8,
      "metadata": {
        "id": "54CNBkv0eELr"
      },
      "outputs": [],
      "source": [
        "max_sequence_length = 100\n",
        "max_vocab_size = 1000\n",
        "tokenizer = Tokenizer(num_words=max_vocab_size)\n",
        "tokenizer.fit_on_texts(traindf['reviewText'])"
      ]
    },
    {
      "cell_type": "code",
      "execution_count": 9,
      "metadata": {
        "id": "oOo952o67iKq"
      },
      "outputs": [],
      "source": [
        "traindf['prep'] = tokenizer.texts_to_sequences(traindf['preped'])"
      ]
    },
    {
      "cell_type": "code",
      "execution_count": 10,
      "metadata": {
        "id": "mg5ncyTftJXG"
      },
      "outputs": [],
      "source": [
        "newtrain = traindf[['prep', 'overall']]"
      ]
    },
    {
      "cell_type": "code",
      "execution_count": null,
      "metadata": {
        "id": "OBDR1clWtnOa"
      },
      "outputs": [],
      "source": [
        "newtrain.to_csv(\"newtrain.csv\", index=False)"
      ]
    },
    {
      "cell_type": "markdown",
      "metadata": {
        "id": "SZXshp9_dQG7"
      },
      "source": [
        "- Balancing Data"
      ]
    },
    {
      "cell_type": "code",
      "source": [
        "!pip install imblearn"
      ],
      "metadata": {
        "colab": {
          "base_uri": "https://localhost:8080/"
        },
        "id": "IcQmcbookKuQ",
        "outputId": "a799501f-89ff-4ebc-81bb-d0890b5c69d5"
      },
      "execution_count": null,
      "outputs": [
        {
          "output_type": "stream",
          "name": "stdout",
          "text": [
            "Collecting imblearn\n",
            "  Downloading imblearn-0.0-py2.py3-none-any.whl (1.9 kB)\n",
            "Collecting imbalanced-learn (from imblearn)\n",
            "  Downloading imbalanced_learn-0.12.3-py3-none-any.whl (258 kB)\n",
            "\u001b[2K     \u001b[90m━━━━━━━━━━━━━━━━━━━━━━━━━━━━━━━━━━━━━━━━\u001b[0m \u001b[32m258.3/258.3 kB\u001b[0m \u001b[31m2.0 MB/s\u001b[0m eta \u001b[36m0:00:00\u001b[0m\n",
            "\u001b[?25hRequirement already satisfied: numpy>=1.17.3 in /usr/local/lib/python3.10/dist-packages (from imbalanced-learn->imblearn) (1.25.2)\n",
            "Requirement already satisfied: scipy>=1.5.0 in /usr/local/lib/python3.10/dist-packages (from imbalanced-learn->imblearn) (1.11.4)\n",
            "Requirement already satisfied: scikit-learn>=1.0.2 in /usr/local/lib/python3.10/dist-packages (from imbalanced-learn->imblearn) (1.2.2)\n",
            "Requirement already satisfied: joblib>=1.1.1 in /usr/local/lib/python3.10/dist-packages (from imbalanced-learn->imblearn) (1.4.2)\n",
            "Requirement already satisfied: threadpoolctl>=2.0.0 in /usr/local/lib/python3.10/dist-packages (from imbalanced-learn->imblearn) (3.5.0)\n",
            "Installing collected packages: imbalanced-learn, imblearn\n",
            "Successfully installed imbalanced-learn-0.12.3 imblearn-0.0\n"
          ]
        }
      ]
    },
    {
      "cell_type": "code",
      "execution_count": 11,
      "metadata": {
        "id": "S2VxwoUIo8tE"
      },
      "outputs": [],
      "source": [
        "from imblearn.under_sampling import RandomUnderSampler\n",
        "from imblearn.over_sampling import RandomOverSampler\n",
        "from imblearn.over_sampling import SMOTE"
      ]
    },
    {
      "cell_type": "code",
      "execution_count": null,
      "metadata": {
        "id": "4lzxYdLtDz1m"
      },
      "outputs": [],
      "source": [
        "newtrain = pd.read_csv('/content/newtrain.csv')"
      ]
    },
    {
      "cell_type": "code",
      "execution_count": 12,
      "metadata": {
        "id": "yB6p-5QvllIF"
      },
      "outputs": [],
      "source": [
        "max_len  = 100\n",
        "\n",
        "X = pad_sequences(newtrain['prep'].tolist(), padding=\"post\", maxlen=max_len)"
      ]
    },
    {
      "cell_type": "code",
      "execution_count": null,
      "metadata": {
        "colab": {
          "base_uri": "https://localhost:8080/"
        },
        "id": "-WMP_07rpf8d",
        "outputId": "1f334780-5964-4756-c196-bc3d6e7b6e8d"
      },
      "outputs": [
        {
          "output_type": "execute_result",
          "data": {
            "text/plain": [
              "overall\n",
              "5    461485\n",
              "4    156514\n",
              "1     82950\n",
              "3     81239\n",
              "2     56756\n",
              "Name: count, dtype: int64"
            ]
          },
          "metadata": {},
          "execution_count": 13
        }
      ],
      "source": [
        "newtrain['overall'].value_counts()"
      ]
    },
    {
      "cell_type": "code",
      "execution_count": null,
      "metadata": {
        "colab": {
          "base_uri": "https://localhost:8080/",
          "height": 447
        },
        "id": "KfhbmC2yqOqa",
        "outputId": "5def27bc-86d6-4654-ccbb-1759febca1c2"
      },
      "outputs": [
        {
          "output_type": "execute_result",
          "data": {
            "text/plain": [
              "<Axes: >"
            ]
          },
          "metadata": {},
          "execution_count": 23
        },
        {
          "output_type": "display_data",
          "data": {
            "text/plain": [
              "<Figure size 640x480 with 1 Axes>"
            ],
            "image/png": "[encoded data removed]"
          },
          "metadata": {}
        }
      ],
      "source": [
        "newtrain['overall'].hist(edgecolor=\"black\", align='mid')"
      ]
    },
    {
      "cell_type": "markdown",
      "metadata": {
        "id": "iFj5NCIuaTgp"
      },
      "source": [
        "**for balancing the data i gonna try tree way:**\n",
        "- **Under sampling + Over sampling**\n",
        "- **Under sampling + SMOTE**\n",
        "- **Under sampling**"
      ]
    },
    {
      "cell_type": "code",
      "execution_count": 15,
      "metadata": {
        "id": "pLisnVciUL2t"
      },
      "outputs": [],
      "source": [
        "from keras.utils import to_categorical\n",
        "from sklearn.model_selection import train_test_split\n",
        "import tensorflow as tf"
      ]
    },
    {
      "cell_type": "markdown",
      "metadata": {
        "id": "ukyotrjraqb9"
      },
      "source": [
        "Under sampling + Over sampling"
      ]
    },
    {
      "cell_type": "code",
      "execution_count": null,
      "metadata": {
        "id": "LTqSSpuNqSj8"
      },
      "outputs": [],
      "source": [
        "undersampler = RandomUnderSampler(sampling_strategy={1: 82950, 2: 56756, 3: 81239, 4: 90000, 5: 90000}, random_state=42)\n",
        "oversampler = RandomOverSampler(sampling_strategy={1: 90000, 2: 90000, 3: 90000, 4: 90000, 5: 90000}, random_state=42)\n",
        "\n",
        "Xrs, yrs = undersampler.fit_resample(X , newtrain['overall'])\n",
        "Xuo, yuo = oversampler.fit_resample(Xrs, yrs)"
      ]
    },
    {
      "cell_type": "code",
      "execution_count": null,
      "metadata": {
        "colab": {
          "base_uri": "https://localhost:8080/"
        },
        "id": "azbDOCWLc-S3",
        "outputId": "24abe51d-35b3-46f6-cfb9-707e05633ab0"
      },
      "outputs": [
        {
          "output_type": "execute_result",
          "data": {
            "text/plain": [
              "overall\n",
              "1    90000\n",
              "2    90000\n",
              "3    90000\n",
              "4    90000\n",
              "5    90000\n",
              "Name: count, dtype: int64"
            ]
          },
          "metadata": {},
          "execution_count": 16
        }
      ],
      "source": [
        "yuo.value_counts()"
      ]
    },
    {
      "cell_type": "code",
      "execution_count": null,
      "metadata": {
        "id": "xd-vqTFpGwJa"
      },
      "outputs": [],
      "source": [
        "yuo_encoded = to_categorical(yuo-1)"
      ]
    },
    {
      "cell_type": "markdown",
      "metadata": {
        "id": "3mERtpN0bsto"
      },
      "source": [
        "Under sampling + SMOTE"
      ]
    },
    {
      "cell_type": "code",
      "execution_count": 13,
      "metadata": {
        "id": "FQRNFK2WbNL1"
      },
      "outputs": [],
      "source": [
        "undersampler = RandomUnderSampler(sampling_strategy={1: 82950, 2: 56756, 3: 81239, 4: 90000, 5: 90000}, random_state=42)\n",
        "smote = SMOTE(sampling_strategy={1: 90000, 2: 90000, 3: 90000, 4: 90000, 5: 90000}, random_state=42)\n",
        "\n",
        "Xrs, yrs = undersampler.fit_resample(X, newtrain['overall'])\n",
        "Xus, yus = smote.fit_resample(Xrs, yrs)"
      ]
    },
    {
      "cell_type": "code",
      "execution_count": null,
      "metadata": {
        "colab": {
          "base_uri": "https://localhost:8080/"
        },
        "id": "eDYg9VWBdAij",
        "outputId": "7b239765-7677-463b-f24f-54f4a2bbd002"
      },
      "outputs": [
        {
          "output_type": "execute_result",
          "data": {
            "text/plain": [
              "overall\n",
              "1    90000\n",
              "2    90000\n",
              "3    90000\n",
              "4    90000\n",
              "5    90000\n",
              "Name: count, dtype: int64"
            ]
          },
          "metadata": {},
          "execution_count": 15
        }
      ],
      "source": [
        "yus.value_counts()"
      ]
    },
    {
      "cell_type": "code",
      "execution_count": 16,
      "metadata": {
        "id": "PTdgipBdG641"
      },
      "outputs": [],
      "source": [
        "yus_encoded = to_categorical(yus-1)"
      ]
    },
    {
      "cell_type": "markdown",
      "metadata": {
        "id": "WVgUuUOSbtnQ"
      },
      "source": [
        "Under sampling"
      ]
    },
    {
      "cell_type": "code",
      "execution_count": null,
      "metadata": {
        "id": "HhcKSojtbwsf"
      },
      "outputs": [],
      "source": [
        "undersampler = RandomUnderSampler(random_state=42)\n",
        "\n",
        "Xu, yu = undersampler.fit_resample(X, newtrain['overall'])"
      ]
    },
    {
      "cell_type": "code",
      "execution_count": null,
      "metadata": {
        "colab": {
          "base_uri": "https://localhost:8080/"
        },
        "id": "W_Bswr_MgZ_L",
        "outputId": "7700dbe4-1a3c-41fc-d421-3ba8c4db1735"
      },
      "outputs": [
        {
          "output_type": "execute_result",
          "data": {
            "text/plain": [
              "overall\n",
              "1    56756\n",
              "2    56756\n",
              "3    56756\n",
              "4    56756\n",
              "5    56756\n",
              "Name: count, dtype: int64"
            ]
          },
          "metadata": {},
          "execution_count": 28
        }
      ],
      "source": [
        "yu.value_counts()"
      ]
    },
    {
      "cell_type": "code",
      "execution_count": null,
      "metadata": {
        "id": "IV1kCmOhG_zu"
      },
      "outputs": [],
      "source": [
        "yu_encoded = to_categorical(yu-1)"
      ]
    },
    {
      "cell_type": "markdown",
      "metadata": {
        "id": "GImd7M4BpJPz"
      },
      "source": [
        "# Base Models"
      ]
    },
    {
      "cell_type": "code",
      "execution_count": 19,
      "metadata": {
        "id": "6E8nYT_0FXNU"
      },
      "outputs": [],
      "source": [
        "from tensorflow.keras.models import Sequential\n",
        "from tensorflow.keras.layers import Embedding, LSTM, Dropout, Dense, Conv1D\n",
        "from tensorflow.keras import regularizers\n",
        "from sklearn.metrics import accuracy_score, f1_score, classification_report"
      ]
    },
    {
      "cell_type": "markdown",
      "metadata": {
        "id": "iQui2AouGyCe"
      },
      "source": [
        "testing Under sampling + Over sampling data"
      ]
    },
    {
      "cell_type": "code",
      "execution_count": null,
      "metadata": {
        "id": "41xc2MQTnZoN"
      },
      "outputs": [],
      "source": [
        "X_train_UO, X_val_UO, y_train_UO, y_val_UO = train_test_split(Xuo, yuo_encoded, test_size=0.22, random_state=42)"
      ]
    },
    {
      "cell_type": "code",
      "execution_count": null,
      "metadata": {
        "colab": {
          "base_uri": "https://localhost:8080/"
        },
        "id": "fmU_B5gyJG0M",
        "outputId": "1b710a85-ef92-4f4f-9f0d-184687df4b1e"
      },
      "outputs": [
        {
          "output_type": "stream",
          "name": "stdout",
          "text": [
            "Model: \"sequential\"\n",
            "_________________________________________________________________\n",
            " Layer (type)                Output Shape              Param #   \n",
            "=================================================================\n",
            " embedding (Embedding)       (None, 100, 64)           64000     \n",
            "                                                                 \n",
            " lstm (LSTM)                 (None, 100, 128)          98816     \n",
            "                                                                 \n",
            " dropout (Dropout)           (None, 100, 128)          0         \n",
            "                                                                 \n",
            " lstm_1 (LSTM)               (None, 256)               394240    \n",
            "                                                                 \n",
            " dropout_1 (Dropout)         (None, 256)               0         \n",
            "                                                                 \n",
            " dense (Dense)               (None, 5)                 1285      \n",
            "                                                                 \n",
            "=================================================================\n",
            "Total params: 558341 (2.13 MB)\n",
            "Trainable params: 558341 (2.13 MB)\n",
            "Non-trainable params: 0 (0.00 Byte)\n",
            "_________________________________________________________________\n"
          ]
        }
      ],
      "source": [
        "model_1 = Sequential()\n",
        "model_1.add(Embedding(input_dim=1000, output_dim=64, input_length=100))\n",
        "model_1.add(LSTM(128, return_sequences=True, kernel_regularizer=regularizers.L2(1e-4)))\n",
        "model_1.add(Dropout(0.2))\n",
        "model_1.add(LSTM(256, kernel_regularizer=regularizers.L2(1e-4)))\n",
        "model_1.add(Dropout(0.3))\n",
        "model_1.add(Dense(5, activation='softmax'))\n",
        "\n",
        "model_1.compile(optimizer='adam', loss='categorical_crossentropy', metrics=['accuracy'])\n",
        "model_1.summary()"
      ]
    },
    {
      "cell_type": "code",
      "execution_count": null,
      "metadata": {
        "colab": {
          "base_uri": "https://localhost:8080/"
        },
        "id": "DGirjb-mJG0M",
        "outputId": "61255bc8-6587-4687-885c-131289e5aa51"
      },
      "outputs": [
        {
          "output_type": "stream",
          "name": "stdout",
          "text": [
            "Epoch 1/10\n",
            "2331/2331 [==============================] - 71s 28ms/step - loss: 1.6039 - accuracy: 0.2198 - val_loss: 1.5686 - val_accuracy: 0.2767\n",
            "Epoch 2/10\n",
            "2331/2331 [==============================] - 56s 24ms/step - loss: 1.5976 - accuracy: 0.2272 - val_loss: 1.5972 - val_accuracy: 0.2256\n",
            "Epoch 3/10\n",
            "2331/2331 [==============================] - 56s 24ms/step - loss: 1.6042 - accuracy: 0.2106 - val_loss: 1.6109 - val_accuracy: 0.2007\n",
            "Epoch 4/10\n",
            "2331/2331 [==============================] - 54s 23ms/step - loss: 1.6103 - accuracy: 0.2009 - val_loss: 1.6102 - val_accuracy: 0.2002\n",
            "Epoch 5/10\n",
            "2331/2331 [==============================] - 57s 24ms/step - loss: 1.6099 - accuracy: 0.1987 - val_loss: 1.6095 - val_accuracy: 0.2002\n",
            "Epoch 6/10\n",
            "2331/2331 [==============================] - 56s 24ms/step - loss: 1.6114 - accuracy: 0.2008 - val_loss: 1.6099 - val_accuracy: 0.1995\n",
            "Epoch 7/10\n",
            "2331/2331 [==============================] - 57s 25ms/step - loss: 1.6099 - accuracy: 0.2008 - val_loss: 1.6098 - val_accuracy: 0.1990\n",
            "Epoch 8/10\n",
            "2331/2331 [==============================] - 55s 23ms/step - loss: 1.6008 - accuracy: 0.2130 - val_loss: 1.4460 - val_accuracy: 0.3309\n",
            "Epoch 9/10\n",
            "2331/2331 [==============================] - 55s 24ms/step - loss: 1.3832 - accuracy: 0.3663 - val_loss: 1.3817 - val_accuracy: 0.3630\n",
            "Epoch 10/10\n",
            "2331/2331 [==============================] - 55s 24ms/step - loss: 1.3609 - accuracy: 0.3768 - val_loss: 1.3358 - val_accuracy: 0.3831\n"
          ]
        }
      ],
      "source": [
        "history_UO = model_1.fit(X_train_UO, y_train_UO,\n",
        "          validation_split=0.15,\n",
        "          epochs=10,\n",
        "          batch_size=128)\n"
      ]
    },
    {
      "cell_type": "code",
      "execution_count": null,
      "metadata": {
        "colab": {
          "base_uri": "https://localhost:8080/"
        },
        "id": "tDJ4A5y4JG0M",
        "outputId": "55faaedb-3857-43f8-e7f9-33875b042f77"
      },
      "outputs": [
        {
          "output_type": "stream",
          "name": "stdout",
          "text": [
            "3094/3094 [==============================] - 20s 7ms/step - loss: 1.3354 - accuracy: 0.3851\n",
            "3094/3094 [==============================] - 15s 5ms/step\n",
            "Accuracy: 0.39\n",
            "F1: 0.39\n",
            "Classification Report:\n",
            "              precision    recall  f1-score   support\n",
            "\n",
            "           0       0.48      0.63      0.54     19843\n",
            "           1       0.31      0.20      0.24     19761\n",
            "           2       0.29      0.24      0.26     19835\n",
            "           3       0.27      0.16      0.20     19709\n",
            "           4       0.43      0.69      0.53     19852\n",
            "\n",
            "    accuracy                           0.39     99000\n",
            "   macro avg       0.36      0.38      0.36     99000\n",
            "weighted avg       0.36      0.39      0.36     99000\n",
            "\n"
          ]
        }
      ],
      "source": [
        "score_uo = model_1.evaluate(X_val_UO, y_val_UO, verbose=1)\n",
        "\n",
        "y_pred_uo = model_1.predict(X_val_UO, verbose=1)\n",
        "y_pred_uo_arg = np.argmax(y_pred_uo, axis=1)\n",
        "\n",
        "original_y = np.argmax(y_val_UO+1, axis=1)\n",
        "\n",
        "acc = accuracy_score(original_y, y_pred_uo_arg)\n",
        "print(\"Accuracy: {:.2f}\".format(acc))\n",
        "\n",
        "f1 = f1_score(original_y, y_pred_uo_arg, average='micro')\n",
        "print(\"F1: {:.2f}\".format(f1))\n",
        "\n",
        "print(\"Classification Report:\")\n",
        "print(classification_report(original_y, y_pred_uo_arg))"
      ]
    },
    {
      "cell_type": "markdown",
      "metadata": {
        "id": "WpvCb_6GIK16"
      },
      "source": [
        "testing Under sampling + SMOTE data"
      ]
    },
    {
      "cell_type": "code",
      "execution_count": 17,
      "metadata": {
        "id": "y4bYkfkKIKgk"
      },
      "outputs": [],
      "source": [
        "X_train_US, X_val_US, y_train_US, y_val_US = train_test_split(Xus, yus_encoded, test_size=0.22, random_state=42)"
      ]
    },
    {
      "cell_type": "code",
      "execution_count": null,
      "metadata": {
        "colab": {
          "base_uri": "https://localhost:8080/"
        },
        "id": "b1Y-uut0Kcp6",
        "outputId": "bbbf22a3-135b-4d02-dc6b-f5901bdfd9df"
      },
      "outputs": [
        {
          "output_type": "stream",
          "name": "stdout",
          "text": [
            "Epoch 1/10\n",
            "2331/2331 [==============================] - 84s 33ms/step - loss: 1.6029 - accuracy: 0.2265 - val_loss: 1.6127 - val_accuracy: 0.2062\n",
            "Epoch 2/10\n",
            "2331/2331 [==============================] - 57s 25ms/step - loss: 1.6049 - accuracy: 0.2136 - val_loss: 1.5854 - val_accuracy: 0.2450\n",
            "Epoch 3/10\n",
            "2331/2331 [==============================] - 53s 23ms/step - loss: 1.6065 - accuracy: 0.2087 - val_loss: 1.6106 - val_accuracy: 0.1990\n",
            "Epoch 4/10\n",
            "2331/2331 [==============================] - 54s 23ms/step - loss: 1.6104 - accuracy: 0.2003 - val_loss: 1.6097 - val_accuracy: 0.2007\n",
            "Epoch 5/10\n",
            "2331/2331 [==============================] - 55s 24ms/step - loss: 1.6098 - accuracy: 0.2006 - val_loss: 1.6101 - val_accuracy: 0.2007\n",
            "Epoch 6/10\n",
            "2331/2331 [==============================] - 54s 23ms/step - loss: 1.4351 - accuracy: 0.3310 - val_loss: 1.2800 - val_accuracy: 0.4357\n",
            "Epoch 7/10\n",
            "2331/2331 [==============================] - 54s 23ms/step - loss: 1.2697 - accuracy: 0.4426 - val_loss: 1.2819 - val_accuracy: 0.4438\n",
            "Epoch 8/10\n",
            "2331/2331 [==============================] - 55s 24ms/step - loss: 1.2490 - accuracy: 0.4587 - val_loss: 1.2357 - val_accuracy: 0.4694\n",
            "Epoch 9/10\n",
            "2331/2331 [==============================] - 55s 23ms/step - loss: 1.2265 - accuracy: 0.4810 - val_loss: 1.2162 - val_accuracy: 0.4857\n",
            "Epoch 10/10\n",
            "2331/2331 [==============================] - 54s 23ms/step - loss: 1.1837 - accuracy: 0.5048 - val_loss: 1.1867 - val_accuracy: 0.5009\n"
          ]
        }
      ],
      "source": [
        "history_US = model_1.fit(X_train_US, y_train_US,\n",
        "          validation_split=0.15,\n",
        "          epochs=10,\n",
        "          batch_size=128)\n"
      ]
    },
    {
      "cell_type": "code",
      "execution_count": null,
      "metadata": {
        "colab": {
          "base_uri": "https://localhost:8080/"
        },
        "id": "BtZF45VdKcp6",
        "outputId": "f2a6b11f-47e6-4189-8cd8-27a316be372e"
      },
      "outputs": [
        {
          "output_type": "stream",
          "name": "stdout",
          "text": [
            "3094/3094 [==============================] - 19s 6ms/step - loss: 1.1837 - accuracy: 0.5047\n",
            "3094/3094 [==============================] - 17s 5ms/step\n",
            "Accuracy: 0.50\n",
            "F1: 0.50\n",
            "Classification Report:\n",
            "              precision    recall  f1-score   support\n",
            "\n",
            "           0       0.54      0.66      0.60     19843\n",
            "           1       0.58      0.42      0.48     19761\n",
            "           2       0.35      0.49      0.41     19835\n",
            "           3       0.48      0.38      0.42     19709\n",
            "           4       0.67      0.57      0.62     19852\n",
            "\n",
            "    accuracy                           0.50     99000\n",
            "   macro avg       0.52      0.50      0.51     99000\n",
            "weighted avg       0.52      0.50      0.51     99000\n",
            "\n"
          ]
        }
      ],
      "source": [
        "score_us = model_1.evaluate(X_val_US, y_val_US, verbose=1)\n",
        "\n",
        "y_pred_us = model_1.predict(X_val_US, verbose=1)\n",
        "y_pred_us_arg = np.argmax(y_pred_us, axis=1)\n",
        "\n",
        "original_y = np.argmax(y_val_US+1, axis=1)\n",
        "\n",
        "acc = accuracy_score(original_y, y_pred_us_arg)\n",
        "print(\"Accuracy: {:.2f}\".format(acc))\n",
        "\n",
        "f1 = f1_score(original_y, y_pred_us_arg, average='micro')\n",
        "print(\"F1: {:.2f}\".format(f1))\n",
        "\n",
        "print(\"Classification Report:\")\n",
        "print(classification_report(original_y, y_pred_us_arg))"
      ]
    },
    {
      "cell_type": "markdown",
      "metadata": {
        "id": "MdzL7g9XIm9K"
      },
      "source": [
        "testing Under sampling only data"
      ]
    },
    {
      "cell_type": "code",
      "execution_count": null,
      "metadata": {
        "id": "6VLA8SMDIs4J"
      },
      "outputs": [],
      "source": [
        "X_train_U, X_val_U, y_train_U, y_val_U = train_test_split(Xu, yu_encoded, test_size=0.22, random_state=42)"
      ]
    },
    {
      "cell_type": "code",
      "execution_count": null,
      "metadata": {
        "colab": {
          "base_uri": "https://localhost:8080/"
        },
        "id": "yn6i9LXoKwfz",
        "outputId": "e4273365-9594-4d81-9ab7-be566ccdd79a"
      },
      "outputs": [
        {
          "output_type": "stream",
          "name": "stdout",
          "text": [
            "Epoch 1/10\n",
            "1470/1470 [==============================] - 36s 24ms/step - loss: 1.3349 - accuracy: 0.3896 - val_loss: 1.3175 - val_accuracy: 0.4059\n",
            "Epoch 2/10\n",
            "1470/1470 [==============================] - 34s 23ms/step - loss: 1.2925 - accuracy: 0.4325 - val_loss: 1.2576 - val_accuracy: 0.4534\n",
            "Epoch 3/10\n",
            "1470/1470 [==============================] - 34s 23ms/step - loss: 1.2541 - accuracy: 0.4582 - val_loss: 1.2735 - val_accuracy: 0.4557\n",
            "Epoch 4/10\n",
            "1470/1470 [==============================] - 34s 23ms/step - loss: 1.2353 - accuracy: 0.4677 - val_loss: 1.2330 - val_accuracy: 0.4676\n",
            "Epoch 5/10\n",
            "1470/1470 [==============================] - 34s 23ms/step - loss: 1.2268 - accuracy: 0.4716 - val_loss: 1.2564 - val_accuracy: 0.4530\n",
            "Epoch 6/10\n",
            "1470/1470 [==============================] - 34s 23ms/step - loss: 1.2174 - accuracy: 0.4767 - val_loss: 1.2273 - val_accuracy: 0.4731\n",
            "Epoch 7/10\n",
            "1470/1470 [==============================] - 34s 23ms/step - loss: 1.2107 - accuracy: 0.4787 - val_loss: 1.2422 - val_accuracy: 0.4691\n",
            "Epoch 8/10\n",
            "1470/1470 [==============================] - 35s 24ms/step - loss: 1.2051 - accuracy: 0.4830 - val_loss: 1.2221 - val_accuracy: 0.4733\n",
            "Epoch 9/10\n",
            "1470/1470 [==============================] - 35s 24ms/step - loss: 1.2002 - accuracy: 0.4851 - val_loss: 1.2307 - val_accuracy: 0.4735\n",
            "Epoch 10/10\n",
            "1470/1470 [==============================] - 34s 23ms/step - loss: 1.1948 - accuracy: 0.4877 - val_loss: 1.2228 - val_accuracy: 0.4721\n"
          ]
        }
      ],
      "source": [
        "history_U = model_1.fit(X_train_U, y_train_U,\n",
        "          validation_split=0.15,\n",
        "          epochs=10,\n",
        "          batch_size=128)\n"
      ]
    },
    {
      "cell_type": "code",
      "execution_count": null,
      "metadata": {
        "colab": {
          "base_uri": "https://localhost:8080/"
        },
        "id": "0Mh0MhXWKwfz",
        "outputId": "9b9f0360-930b-418c-caa0-e1655ec7bbfc"
      },
      "outputs": [
        {
          "output_type": "stream",
          "name": "stdout",
          "text": [
            "1951/1951 [==============================] - 12s 6ms/step - loss: 1.2253 - accuracy: 0.4757\n",
            "1951/1951 [==============================] - 9s 5ms/step\n",
            "Accuracy: 0.48\n",
            "F1: 0.48\n",
            "Classification Report:\n",
            "              precision    recall  f1-score   support\n",
            "\n",
            "           0       0.52      0.69      0.59     12486\n",
            "           1       0.36      0.27      0.31     12382\n",
            "           2       0.39      0.29      0.33     12435\n",
            "           3       0.47      0.42      0.44     12446\n",
            "           4       0.55      0.71      0.62     12683\n",
            "\n",
            "    accuracy                           0.48     62432\n",
            "   macro avg       0.46      0.47      0.46     62432\n",
            "weighted avg       0.46      0.48      0.46     62432\n",
            "\n"
          ]
        }
      ],
      "source": [
        "score_u = model_1.evaluate(X_val_U, y_val_U, verbose=1)\n",
        "\n",
        "y_pred_u = model_1.predict(X_val_U, verbose=1)\n",
        "y_pred_u_arg = np.argmax(y_pred_u, axis=1)\n",
        "\n",
        "original_y = np.argmax(y_val_U+1, axis=1)\n",
        "\n",
        "acc = accuracy_score(original_y, y_pred_u_arg)\n",
        "print(\"Accuracy: {:.2f}\".format(acc))\n",
        "\n",
        "f1 = f1_score(original_y, y_pred_u_arg, average='micro')\n",
        "print(\"F1: {:.2f}\".format(f1))\n",
        "\n",
        "print(\"Classification Report:\")\n",
        "print(classification_report(original_y, y_pred_u_arg))"
      ]
    },
    {
      "cell_type": "markdown",
      "metadata": {
        "id": "cdI0bXXYMfJJ"
      },
      "source": [
        "secound base model"
      ]
    },
    {
      "cell_type": "code",
      "execution_count": null,
      "metadata": {
        "colab": {
          "base_uri": "https://localhost:8080/"
        },
        "id": "DAkjjWAXbbMm",
        "outputId": "4ba1e222-6f82-49ce-9cd0-76a7a021dbb3"
      },
      "outputs": [
        {
          "output_type": "stream",
          "name": "stdout",
          "text": [
            "Model: \"sequential_1\"\n",
            "_________________________________________________________________\n",
            " Layer (type)                Output Shape              Param #   \n",
            "=================================================================\n",
            " embedding_1 (Embedding)     (None, 100, 64)           64000     \n",
            "                                                                 \n",
            " lstm_2 (LSTM)               (None, 256)               328704    \n",
            "                                                                 \n",
            " dropout_2 (Dropout)         (None, 256)               0         \n",
            "                                                                 \n",
            " dense_1 (Dense)             (None, 5)                 1285      \n",
            "                                                                 \n",
            "=================================================================\n",
            "Total params: 393989 (1.50 MB)\n",
            "Trainable params: 393989 (1.50 MB)\n",
            "Non-trainable params: 0 (0.00 Byte)\n",
            "_________________________________________________________________\n"
          ]
        }
      ],
      "source": [
        "model_2 = Sequential()\n",
        "model_2.add(Embedding(input_dim=max_vocab_size, output_dim=64, input_length=max_sequence_length))\n",
        "model_2.add(LSTM(256))\n",
        "model_2.add(Dropout(0.1))\n",
        "model_2.add(Dense(5, activation = \"sigmoid\"))\n",
        "\n",
        "model_2.compile(optimizer='adam', loss='categorical_crossentropy', metrics=['accuracy'])\n",
        "model_2.summary()"
      ]
    },
    {
      "cell_type": "code",
      "execution_count": null,
      "metadata": {
        "colab": {
          "base_uri": "https://localhost:8080/"
        },
        "id": "XoIzQHj6cgSj",
        "outputId": "2990c4bf-806f-43eb-9ea6-8d23a8bdccb6"
      },
      "outputs": [
        {
          "output_type": "stream",
          "name": "stdout",
          "text": [
            "Epoch 1/10\n",
            "4662/4662 [==============================] - 85s 18ms/step - loss: 1.5671 - accuracy: 0.2532 - val_loss: 1.4591 - val_accuracy: 0.3503\n",
            "Epoch 2/10\n",
            "4662/4662 [==============================] - 52s 11ms/step - loss: 1.2301 - accuracy: 0.4780 - val_loss: 1.1695 - val_accuracy: 0.5103\n",
            "Epoch 3/10\n",
            "4662/4662 [==============================] - 51s 11ms/step - loss: 1.1485 - accuracy: 0.5186 - val_loss: 1.1375 - val_accuracy: 0.5220\n",
            "Epoch 4/10\n",
            "4662/4662 [==============================] - 52s 11ms/step - loss: 1.1220 - accuracy: 0.5302 - val_loss: 1.1156 - val_accuracy: 0.5311\n",
            "Epoch 5/10\n",
            "4662/4662 [==============================] - 51s 11ms/step - loss: 1.0974 - accuracy: 0.5422 - val_loss: 1.1082 - val_accuracy: 0.5362\n",
            "Epoch 6/10\n",
            "4662/4662 [==============================] - 51s 11ms/step - loss: 1.0766 - accuracy: 0.5498 - val_loss: 1.1002 - val_accuracy: 0.5399\n",
            "Epoch 7/10\n",
            "4662/4662 [==============================] - 50s 11ms/step - loss: 1.0554 - accuracy: 0.5587 - val_loss: 1.1020 - val_accuracy: 0.5402\n",
            "Epoch 8/10\n",
            "4662/4662 [==============================] - 51s 11ms/step - loss: 1.0317 - accuracy: 0.5687 - val_loss: 1.1062 - val_accuracy: 0.5418\n",
            "Epoch 9/10\n",
            "4662/4662 [==============================] - 50s 11ms/step - loss: 1.0036 - accuracy: 0.5808 - val_loss: 1.1158 - val_accuracy: 0.5378\n",
            "Epoch 10/10\n",
            "4662/4662 [==============================] - 50s 11ms/step - loss: 0.9712 - accuracy: 0.5933 - val_loss: 1.1281 - val_accuracy: 0.5379\n"
          ]
        }
      ],
      "source": [
        "history2_US = model_2.fit(X_train_US, y_train_US,\n",
        "          validation_split=0.15,\n",
        "          epochs=10,\n",
        "          batch_size=64)"
      ]
    },
    {
      "cell_type": "code",
      "execution_count": null,
      "metadata": {
        "colab": {
          "base_uri": "https://localhost:8080/"
        },
        "id": "feutxV7o2pwq",
        "outputId": "716fc1b9-3e21-4383-b816-079050ab1932"
      },
      "outputs": [
        {
          "output_type": "stream",
          "name": "stdout",
          "text": [
            "3094/3094 [==============================] - 14s 5ms/step - loss: 1.1236 - accuracy: 0.5393\n",
            "3094/3094 [==============================] - 11s 3ms/step\n",
            "Accuracy: 0.54\n",
            "F1: 0.54\n",
            "Classification Report:\n",
            "              precision    recall  f1-score   support\n",
            "\n",
            "           0       0.56      0.68      0.61     19843\n",
            "           1       0.56      0.49      0.52     19761\n",
            "           2       0.43      0.35      0.38     19835\n",
            "           3       0.51      0.48      0.49     19709\n",
            "           4       0.61      0.70      0.65     19852\n",
            "\n",
            "    accuracy                           0.54     99000\n",
            "   macro avg       0.53      0.54      0.53     99000\n",
            "weighted avg       0.53      0.54      0.53     99000\n",
            "\n"
          ]
        }
      ],
      "source": [
        "score_2_us = model_2.evaluate(X_val_US, y_val_US, verbose=1)\n",
        "\n",
        "y_pred_2_us = model_2.predict(X_val_US, verbose=1)\n",
        "y_pred_2_us_arg = np.argmax(y_pred_2_us, axis=1)\n",
        "\n",
        "original_y = np.argmax(y_val_US+1, axis=1)\n",
        "\n",
        "acc = accuracy_score(original_y, y_pred_2_us_arg)\n",
        "print(\"Accuracy: {:.2f}\".format(acc))\n",
        "\n",
        "f1 = f1_score(original_y, y_pred_2_us_arg, average='micro')\n",
        "print(\"F1: {:.2f}\".format(f1))\n",
        "\n",
        "print(\"Classification Report:\")\n",
        "print(classification_report(original_y, y_pred_2_us_arg))"
      ]
    },
    {
      "cell_type": "markdown",
      "metadata": {
        "id": "VhEhDPQ3Mypa"
      },
      "source": [
        "third base model"
      ]
    },
    {
      "cell_type": "code",
      "execution_count": null,
      "metadata": {
        "colab": {
          "base_uri": "https://localhost:8080/"
        },
        "id": "p6pD8AqHncyq",
        "outputId": "48a8a76d-fd94-4416-bc72-7686663bded2"
      },
      "outputs": [
        {
          "output_type": "stream",
          "name": "stdout",
          "text": [
            "Model: \"sequential_2\"\n",
            "_________________________________________________________________\n",
            " Layer (type)                Output Shape              Param #   \n",
            "=================================================================\n",
            " embedding_2 (Embedding)     (None, 100, 64)           64000     \n",
            "                                                                 \n",
            " lstm_3 (LSTM)               (None, 256)               328704    \n",
            "                                                                 \n",
            " dropout_3 (Dropout)         (None, 256)               0         \n",
            "                                                                 \n",
            " dense_2 (Dense)             (None, 5)                 1285      \n",
            "                                                                 \n",
            "=================================================================\n",
            "Total params: 393989 (1.50 MB)\n",
            "Trainable params: 393989 (1.50 MB)\n",
            "Non-trainable params: 0 (0.00 Byte)\n",
            "_________________________________________________________________\n"
          ]
        }
      ],
      "source": [
        "model_3 = Sequential()\n",
        "model_3.add(Embedding(input_dim=max_vocab_size, output_dim=64, input_length=max_sequence_length))\n",
        "model_3.add(LSTM(256))\n",
        "model_3.add(Dropout(0.1))\n",
        "model_3.add(Dense(5, activation = \"sigmoid\"))\n",
        "\n",
        "model_3.compile(optimizer='adam', loss='categorical_crossentropy', metrics=['accuracy'])\n",
        "model_3.summary()"
      ]
    },
    {
      "cell_type": "code",
      "execution_count": null,
      "metadata": {
        "colab": {
          "base_uri": "https://localhost:8080/"
        },
        "id": "zTTEMxswncys",
        "outputId": "bb658e06-fafc-48bb-adb1-ba0f0bc575a9"
      },
      "outputs": [
        {
          "output_type": "stream",
          "name": "stdout",
          "text": [
            "Epoch 1/10\n",
            "1166/1166 [==============================] - 44s 36ms/step - loss: 1.5497 - accuracy: 0.2559 - val_loss: 1.3006 - val_accuracy: 0.4201\n",
            "Epoch 2/10\n",
            "1166/1166 [==============================] - 30s 26ms/step - loss: 1.2495 - accuracy: 0.4655 - val_loss: 1.1951 - val_accuracy: 0.4966\n",
            "Epoch 3/10\n",
            "1166/1166 [==============================] - 30s 26ms/step - loss: 1.1898 - accuracy: 0.5011 - val_loss: 1.1994 - val_accuracy: 0.4993\n",
            "Epoch 4/10\n",
            "1166/1166 [==============================] - 30s 26ms/step - loss: 1.1724 - accuracy: 0.5083 - val_loss: 1.1892 - val_accuracy: 0.5032\n",
            "Epoch 5/10\n",
            "1166/1166 [==============================] - 29s 25ms/step - loss: 1.1566 - accuracy: 0.5157 - val_loss: 1.1888 - val_accuracy: 0.4998\n",
            "Epoch 6/10\n",
            "1166/1166 [==============================] - 29s 25ms/step - loss: 1.1433 - accuracy: 0.5211 - val_loss: 1.1464 - val_accuracy: 0.5214\n",
            "Epoch 7/10\n",
            "1166/1166 [==============================] - 29s 25ms/step - loss: 1.1324 - accuracy: 0.5257 - val_loss: 1.1381 - val_accuracy: 0.5219\n",
            "Epoch 8/10\n",
            "1166/1166 [==============================] - 29s 25ms/step - loss: 1.1190 - accuracy: 0.5313 - val_loss: 1.1306 - val_accuracy: 0.5255\n",
            "Epoch 9/10\n",
            "1166/1166 [==============================] - 29s 25ms/step - loss: 1.1045 - accuracy: 0.5378 - val_loss: 1.1196 - val_accuracy: 0.5315\n",
            "Epoch 10/10\n",
            "1166/1166 [==============================] - 30s 26ms/step - loss: 1.0918 - accuracy: 0.5443 - val_loss: 1.1207 - val_accuracy: 0.5302\n"
          ]
        }
      ],
      "source": [
        "history3 = model_3.fit(X_train_US, y_train_US,\n",
        "          validation_split=0.15,\n",
        "          epochs=10,\n",
        "          batch_size=256)"
      ]
    },
    {
      "cell_type": "code",
      "execution_count": null,
      "metadata": {
        "colab": {
          "base_uri": "https://localhost:8080/"
        },
        "id": "ZQt7CP2wncyt",
        "outputId": "f759dcfb-ec55-4d48-9ae6-7889ec5134ae"
      },
      "outputs": [
        {
          "output_type": "stream",
          "name": "stdout",
          "text": [
            "3094/3094 [==============================] - 15s 5ms/step - loss: 1.1159 - accuracy: 0.5353\n",
            "3094/3094 [==============================] - 12s 4ms/step\n",
            "Accuracy: 0.54\n",
            "F1: 0.54\n",
            "Classification Report:\n",
            "              precision    recall  f1-score   support\n",
            "\n",
            "           0       0.62      0.60      0.61     19843\n",
            "           1       0.61      0.44      0.51     19761\n",
            "           2       0.39      0.42      0.41     19835\n",
            "           3       0.49      0.52      0.51     19709\n",
            "           4       0.59      0.70      0.64     19852\n",
            "\n",
            "    accuracy                           0.54     99000\n",
            "   macro avg       0.54      0.54      0.53     99000\n",
            "weighted avg       0.54      0.54      0.53     99000\n",
            "\n"
          ]
        }
      ],
      "source": [
        "score_3_us = model_3.evaluate(X_val_US, y_val_US, verbose=1)\n",
        "\n",
        "y_pred_3_us = model_3.predict(X_val_US, verbose=1)\n",
        "y_pred_3_us_arg = np.argmax(y_pred_3_us, axis=1)\n",
        "\n",
        "original_y = np.argmax(y_val_US+1, axis=1)\n",
        "\n",
        "acc = accuracy_score(original_y, y_pred_3_us_arg)\n",
        "print(\"Accuracy: {:.2f}\".format(acc))\n",
        "\n",
        "f1 = f1_score(original_y, y_pred_3_us_arg, average='micro')\n",
        "print(\"F1: {:.2f}\".format(f1))\n",
        "\n",
        "print(\"Classification Report:\")\n",
        "print(classification_report(original_y, y_pred_3_us_arg))"
      ]
    },
    {
      "cell_type": "markdown",
      "metadata": {
        "id": "O3SqJXElM5Uq"
      },
      "source": [
        "fourth base model"
      ]
    },
    {
      "cell_type": "code",
      "execution_count": 55,
      "metadata": {
        "colab": {
          "base_uri": "https://localhost:8080/"
        },
        "id": "qegLOoEGZKit",
        "outputId": "3cc98ea1-4a13-4d0b-92bf-1eff9ee3c657"
      },
      "outputs": [
        {
          "output_type": "stream",
          "name": "stdout",
          "text": [
            "Model: \"sequential_8\"\n",
            "_________________________________________________________________\n",
            " Layer (type)                Output Shape              Param #   \n",
            "=================================================================\n",
            " embedding_8 (Embedding)     (None, 100, 64)           64000     \n",
            "                                                                 \n",
            " lstm (LSTM)                 (None, 100, 128)          98816     \n",
            "                                                                 \n",
            " dropout_12 (Dropout)        (None, 100, 128)          0         \n",
            "                                                                 \n",
            " lstm_1 (LSTM)               (None, 256)               394240    \n",
            "                                                                 \n",
            " dropout_13 (Dropout)        (None, 256)               0         \n",
            "                                                                 \n",
            " dense_5 (Dense)             (None, 5)                 1285      \n",
            "                                                                 \n",
            "=================================================================\n",
            "Total params: 558341 (2.13 MB)\n",
            "Trainable params: 558341 (2.13 MB)\n",
            "Non-trainable params: 0 (0.00 Byte)\n",
            "_________________________________________________________________\n"
          ]
        }
      ],
      "source": [
        "model_4 = Sequential()\n",
        "model_4.add(Embedding(input_dim=max_vocab_size, output_dim=64, input_length=max_sequence_length))\n",
        "model_4.add(LSTM(128, return_sequences=True))\n",
        "model_4.add(Dropout(0.1))\n",
        "model_4.add(LSTM(256))\n",
        "model_4.add(Dropout(0.2))\n",
        "model_4.add(Dense(5, activation='softmax'))\n",
        "\n",
        "model_4.compile(optimizer=tf.keras.optimizers.AdamW(0.001), loss='categorical_crossentropy', metrics=['accuracy'])\n",
        "model_4.summary()"
      ]
    },
    {
      "cell_type": "code",
      "execution_count": null,
      "metadata": {
        "colab": {
          "base_uri": "https://localhost:8080/"
        },
        "id": "CSS9q3U6ZaG0",
        "outputId": "bb6e1b0a-3fa7-45f6-abe6-b4dfedcf8629"
      },
      "outputs": [
        {
          "output_type": "stream",
          "name": "stdout",
          "text": [
            "Epoch 1/15\n",
            "1166/1166 [==============================] - 61s 47ms/step - loss: 1.3477 - accuracy: 0.3943 - val_loss: 1.3830 - val_accuracy: 0.3645\n",
            "Epoch 2/15\n",
            "1166/1166 [==============================] - 47s 40ms/step - loss: 1.2620 - accuracy: 0.4612 - val_loss: 1.2094 - val_accuracy: 0.4937\n",
            "Epoch 3/15\n",
            "1166/1166 [==============================] - 47s 40ms/step - loss: 1.1889 - accuracy: 0.5021 - val_loss: 1.1831 - val_accuracy: 0.5036\n",
            "Epoch 4/15\n",
            "1166/1166 [==============================] - 46s 40ms/step - loss: 1.1761 - accuracy: 0.5074 - val_loss: 1.1684 - val_accuracy: 0.5096\n",
            "Epoch 5/15\n",
            "1166/1166 [==============================] - 46s 40ms/step - loss: 1.1544 - accuracy: 0.5178 - val_loss: 1.1504 - val_accuracy: 0.5189\n",
            "Epoch 6/15\n",
            "1166/1166 [==============================] - 45s 38ms/step - loss: 1.1339 - accuracy: 0.5257 - val_loss: 1.1307 - val_accuracy: 0.5266\n",
            "Epoch 7/15\n",
            "1166/1166 [==============================] - 44s 38ms/step - loss: 1.1178 - accuracy: 0.5320 - val_loss: 1.1166 - val_accuracy: 0.5324\n",
            "Epoch 8/15\n",
            " 337/1166 [=======>......................] - ETA: 29s - loss: 1.1055 - accuracy: 0.5386"
          ]
        }
      ],
      "source": [
        "history4 = model_4.fit(X_train_US, y_train_US,\n",
        "          validation_split=0.15,\n",
        "          epochs=15,\n",
        "          batch_size=256)"
      ]
    },
    {
      "cell_type": "code",
      "execution_count": null,
      "metadata": {
        "id": "v03NIk6uZaG2"
      },
      "outputs": [],
      "source": [
        "score_4_us = model_4.evaluate(X_val_US, y_val_US, verbose=1)\n",
        "\n",
        "y_pred_4_us = model_4.predict(X_val_US, verbose=1)\n",
        "y_pred_4_us_arg = np.argmax(y_pred_4_us, axis=1)\n",
        "\n",
        "original_y = np.argmax(y_val_US+1, axis=1)\n",
        "\n",
        "acc = accuracy_score(original_y, y_pred_4_us_arg)\n",
        "print(\"Accuracy: {:.2f}\".format(acc))\n",
        "\n",
        "f1 = f1_score(original_y, y_pred_4_us_arg, average='micro')\n",
        "print(\"F1: {:.2f}\".format(f1))\n",
        "\n",
        "print(\"Classification Report:\")\n",
        "print(classification_report(original_y, y_pred_4_us_arg))"
      ]
    },
    {
      "cell_type": "markdown",
      "metadata": {
        "id": "sVJvEib55Kch"
      },
      "source": [
        "fifth base model"
      ]
    },
    {
      "cell_type": "code",
      "execution_count": null,
      "metadata": {
        "colab": {
          "base_uri": "https://localhost:8080/"
        },
        "id": "IUryZQhV59ga",
        "outputId": "b02636ec-64f7-449d-f111-65a33aecdabc"
      },
      "outputs": [
        {
          "output_type": "stream",
          "name": "stdout",
          "text": [
            "Model: \"sequential_7\"\n",
            "_________________________________________________________________\n",
            " Layer (type)                Output Shape              Param #   \n",
            "=================================================================\n",
            " embedding_7 (Embedding)     (None, 100, 64)           64000     \n",
            "                                                                 \n",
            " lstm_12 (LSTM)              (None, 256)               328704    \n",
            "                                                                 \n",
            " dropout_12 (Dropout)        (None, 256)               0         \n",
            "                                                                 \n",
            " dense_7 (Dense)             (None, 5)                 1285      \n",
            "                                                                 \n",
            "=================================================================\n",
            "Total params: 393989 (1.50 MB)\n",
            "Trainable params: 393989 (1.50 MB)\n",
            "Non-trainable params: 0 (0.00 Byte)\n",
            "_________________________________________________________________\n"
          ]
        }
      ],
      "source": [
        "model_5 = Sequential()\n",
        "model_5.add(Embedding(input_dim=max_vocab_size, output_dim=64, input_length=max_sequence_length))\n",
        "model_5.add(LSTM(256, kernel_regularizer=tf.keras.regularizers.L2(0.0001)))\n",
        "model_5.add(Dropout(0.1))\n",
        "model_5.add(Dense(5, activation='softmax'))\n",
        "\n",
        "model_5.compile(optimizer=tf.keras.optimizers.AdamW(0.001), loss='categorical_crossentropy', metrics=['accuracy'])\n",
        "model_5.summary()"
      ]
    },
    {
      "cell_type": "code",
      "execution_count": null,
      "metadata": {
        "colab": {
          "base_uri": "https://localhost:8080/"
        },
        "id": "HwWd1tfv7TGi",
        "outputId": "c9a154ed-bca4-4aae-af20-de4ce675ee9a"
      },
      "outputs": [
        {
          "output_type": "stream",
          "name": "stdout",
          "text": [
            "Epoch 1/20\n",
            "1166/1166 [==============================] - 42s 34ms/step - loss: 1.3998 - accuracy: 0.3572 - val_loss: 1.3500 - val_accuracy: 0.4074\n",
            "Epoch 2/20\n",
            "1166/1166 [==============================] - 30s 26ms/step - loss: 1.2808 - accuracy: 0.4431 - val_loss: 1.2696 - val_accuracy: 0.4531\n",
            "Epoch 3/20\n",
            "1166/1166 [==============================] - 30s 26ms/step - loss: 1.2199 - accuracy: 0.4910 - val_loss: 1.2063 - val_accuracy: 0.4960\n",
            "Epoch 4/20\n",
            "1166/1166 [==============================] - 30s 26ms/step - loss: 1.1971 - accuracy: 0.5003 - val_loss: 1.1781 - val_accuracy: 0.5067\n",
            "Epoch 5/20\n",
            "1166/1166 [==============================] - 30s 25ms/step - loss: 1.1805 - accuracy: 0.5078 - val_loss: 1.1830 - val_accuracy: 0.5073\n",
            "Epoch 6/20\n",
            "1166/1166 [==============================] - 30s 26ms/step - loss: 1.1696 - accuracy: 0.5120 - val_loss: 1.1716 - val_accuracy: 0.5028\n",
            "Epoch 7/20\n",
            "1166/1166 [==============================] - 30s 26ms/step - loss: 1.1560 - accuracy: 0.5181 - val_loss: 1.1515 - val_accuracy: 0.5189\n",
            "Epoch 8/20\n",
            "1166/1166 [==============================] - 29s 25ms/step - loss: 1.1516 - accuracy: 0.5203 - val_loss: 1.1478 - val_accuracy: 0.5213\n",
            "Epoch 9/20\n",
            "1166/1166 [==============================] - 30s 26ms/step - loss: 1.1368 - accuracy: 0.5271 - val_loss: 1.1557 - val_accuracy: 0.5208\n",
            "Epoch 10/20\n",
            "1166/1166 [==============================] - 30s 26ms/step - loss: 1.1267 - accuracy: 0.5317 - val_loss: 1.1349 - val_accuracy: 0.5294\n",
            "Epoch 11/20\n",
            "1166/1166 [==============================] - 30s 25ms/step - loss: 1.1185 - accuracy: 0.5361 - val_loss: 1.1302 - val_accuracy: 0.5302\n",
            "Epoch 12/20\n",
            "1166/1166 [==============================] - 29s 25ms/step - loss: 1.1103 - accuracy: 0.5392 - val_loss: 1.1285 - val_accuracy: 0.5300\n",
            "Epoch 13/20\n",
            "1166/1166 [==============================] - 29s 25ms/step - loss: 1.1021 - accuracy: 0.5433 - val_loss: 1.1258 - val_accuracy: 0.5293\n",
            "Epoch 14/20\n",
            "1166/1166 [==============================] - 30s 26ms/step - loss: 1.0936 - accuracy: 0.5463 - val_loss: 1.1134 - val_accuracy: 0.5375\n",
            "Epoch 15/20\n",
            "1166/1166 [==============================] - 30s 25ms/step - loss: 1.0854 - accuracy: 0.5500 - val_loss: 1.1112 - val_accuracy: 0.5390\n",
            "Epoch 16/20\n",
            "1166/1166 [==============================] - 29s 25ms/step - loss: 1.0787 - accuracy: 0.5529 - val_loss: 1.1096 - val_accuracy: 0.5406\n",
            "Epoch 17/20\n",
            "1166/1166 [==============================] - 30s 26ms/step - loss: 1.0695 - accuracy: 0.5565 - val_loss: 1.1147 - val_accuracy: 0.5366\n",
            "Epoch 18/20\n",
            "1166/1166 [==============================] - 29s 25ms/step - loss: 1.0630 - accuracy: 0.5596 - val_loss: 1.1172 - val_accuracy: 0.5368\n",
            "Epoch 19/20\n",
            "1166/1166 [==============================] - 30s 26ms/step - loss: 1.0541 - accuracy: 0.5638 - val_loss: 1.1096 - val_accuracy: 0.5396\n",
            "Epoch 20/20\n",
            "1166/1166 [==============================] - 29s 25ms/step - loss: 1.0458 - accuracy: 0.5677 - val_loss: 1.1176 - val_accuracy: 0.5374\n"
          ]
        }
      ],
      "source": [
        "history5 = model_5.fit(X_train_US, y_train_US,\n",
        "          validation_split=0.15,\n",
        "          epochs=20,\n",
        "          batch_size=256)\n"
      ]
    },
    {
      "cell_type": "code",
      "execution_count": null,
      "metadata": {
        "colab": {
          "base_uri": "https://localhost:8080/"
        },
        "id": "s1_tu5SEU76Y",
        "outputId": "bc636d9e-9a01-4cdc-e9ab-58bd018ec722"
      },
      "outputs": [
        {
          "output_type": "stream",
          "name": "stdout",
          "text": [
            "3094/3094 [==============================] - 15s 5ms/step - loss: 1.1103 - accuracy: 0.5422\n",
            "3094/3094 [==============================] - 11s 3ms/step\n",
            "Accuracy: 0.54\n",
            "F1: 0.54\n",
            "Classification Report:\n",
            "              precision    recall  f1-score   support\n",
            "\n",
            "           0       0.59      0.65      0.62     19843\n",
            "           1       0.59      0.45      0.51     19761\n",
            "           2       0.41      0.39      0.40     19835\n",
            "           3       0.50      0.54      0.52     19709\n",
            "           4       0.62      0.68      0.65     19852\n",
            "\n",
            "    accuracy                           0.54     99000\n",
            "   macro avg       0.54      0.54      0.54     99000\n",
            "weighted avg       0.54      0.54      0.54     99000\n",
            "\n"
          ]
        }
      ],
      "source": [
        "score_5_us = model_5.evaluate(X_val_US, y_val_US, verbose=1)\n",
        "\n",
        "y_pred_5_us = model_5.predict(X_val_US, verbose=1)\n",
        "y_pred_5_us_arg = np.argmax(y_pred_5_us, axis=1)\n",
        "\n",
        "original_y = np.argmax(y_val_US+1, axis=1)\n",
        "\n",
        "\n",
        "acc = accuracy_score(original_y, y_pred_5_us_arg)\n",
        "print(\"Accuracy: {:.2f}\".format(acc))\n",
        "\n",
        "f1 = f1_score(original_y, y_pred_5_us_arg, average='micro')\n",
        "print(\"F1: {:.2f}\".format(f1))\n",
        "\n",
        "print(\"Classification Report:\")\n",
        "print(classification_report(original_y, y_pred_5_us_arg))"
      ]
    },
    {
      "cell_type": "markdown",
      "source": [
        "logistic regression (final)"
      ],
      "metadata": {
        "id": "iKg9D4IAOPti"
      }
    },
    {
      "cell_type": "code",
      "source": [
        "from sklearn.feature_extraction.text import TfidfVectorizer\n",
        "from sklearn.linear_model import LogisticRegression"
      ],
      "metadata": {
        "id": "kjt7N3QoOcOs"
      },
      "execution_count": 35,
      "outputs": []
    },
    {
      "cell_type": "code",
      "source": [
        "undersampler = RandomUnderSampler(sampling_strategy={1: 82950, 2: 56756, 3: 81239, 4: 83000, 5: 83000}, random_state=42)\n",
        "\n",
        "X, y = undersampler.fit_resample(traindf.drop(columns=['overall', 'vote', 'verified', 'reviewTime', 'reviewerID', 'asin',\n",
        "       'style', 'reviewerName', 'summary', 'unixReviewTime', 'preped', 'prep']), traindf['overall'])"
      ],
      "metadata": {
        "id": "Q-aFi--NMWFe"
      },
      "execution_count": 38,
      "outputs": []
    },
    {
      "cell_type": "code",
      "source": [
        "X_train, X_test, y_train, y_test = train_test_split(X['reviewText'], y, test_size=0.2, random_state=42)"
      ],
      "metadata": {
        "id": "IrBbf_slOdRn"
      },
      "execution_count": 40,
      "outputs": []
    },
    {
      "cell_type": "code",
      "source": [
        "vectorizer = TfidfVectorizer(max_features=5000)\n",
        "\n",
        "X_train_tfidf = vectorizer.fit_transform(X_train)\n",
        "X_test_tfidf = vectorizer.transform(X_test)"
      ],
      "metadata": {
        "id": "tYxYf8yeOlDu"
      },
      "execution_count": 41,
      "outputs": []
    },
    {
      "cell_type": "code",
      "source": [
        "lr_model = LogisticRegression(multi_class='multinomial', solver='lbfgs', max_iter=1000)\n",
        "lr_model.fit(X_train_tfidf, y_train)"
      ],
      "metadata": {
        "colab": {
          "base_uri": "https://localhost:8080/",
          "height": 74
        },
        "id": "68TcRJliOoG4",
        "outputId": "94d9bd38-4435-4bc8-fbdb-5a27d8252119"
      },
      "execution_count": 42,
      "outputs": [
        {
          "output_type": "execute_result",
          "data": {
            "text/plain": [
              "LogisticRegression(max_iter=1000, multi_class='multinomial')"
            ],
            "text/html": [
              "<style>#sk-container-id-1 {color: black;background-color: white;}#sk-container-id-1 pre{padding: 0;}#sk-container-id-1 div.sk-toggleable {background-color: white;}#sk-container-id-1 label.sk-toggleable__label {cursor: pointer;display: block;width: 100%;margin-bottom: 0;padding: 0.3em;box-sizing: border-box;text-align: center;}#sk-container-id-1 label.sk-toggleable__label-arrow:before {content: \"▸\";float: left;margin-right: 0.25em;color: #696969;}#sk-container-id-1 label.sk-toggleable__label-arrow:hover:before {color: black;}#sk-container-id-1 div.sk-estimator:hover label.sk-toggleable__label-arrow:before {color: black;}#sk-container-id-1 div.sk-toggleable__content {max-height: 0;max-width: 0;overflow: hidden;text-align: left;background-color: #f0f8ff;}#sk-container-id-1 div.sk-toggleable__content pre {margin: 0.2em;color: black;border-radius: 0.25em;background-color: #f0f8ff;}#sk-container-id-1 input.sk-toggleable__control:checked~div.sk-toggleable__content {max-height: 200px;max-width: 100%;overflow: auto;}#sk-container-id-1 input.sk-toggleable__control:checked~label.sk-toggleable__label-arrow:before {content: \"▾\";}#sk-container-id-1 div.sk-estimator input.sk-toggleable__control:checked~label.sk-toggleable__label {background-color: #d4ebff;}#sk-container-id-1 div.sk-label input.sk-toggleable__control:checked~label.sk-toggleable__label {background-color: #d4ebff;}#sk-container-id-1 input.sk-hidden--visually {border: 0;clip: rect(1px 1px 1px 1px);clip: rect(1px, 1px, 1px, 1px);height: 1px;margin: -1px;overflow: hidden;padding: 0;position: absolute;width: 1px;}#sk-container-id-1 div.sk-estimator {font-family: monospace;background-color: #f0f8ff;border: 1px dotted black;border-radius: 0.25em;box-sizing: border-box;margin-bottom: 0.5em;}#sk-container-id-1 div.sk-estimator:hover {background-color: #d4ebff;}#sk-container-id-1 div.sk-parallel-item::after {content: \"\";width: 100%;border-bottom: 1px solid gray;flex-grow: 1;}#sk-container-id-1 div.sk-label:hover label.sk-toggleable__label {background-color: #d4ebff;}#sk-container-id-1 div.sk-serial::before {content: \"\";position: absolute;border-left: 1px solid gray;box-sizing: border-box;top: 0;bottom: 0;left: 50%;z-index: 0;}#sk-container-id-1 div.sk-serial {display: flex;flex-direction: column;align-items: center;background-color: white;padding-right: 0.2em;padding-left: 0.2em;position: relative;}#sk-container-id-1 div.sk-item {position: relative;z-index: 1;}#sk-container-id-1 div.sk-parallel {display: flex;align-items: stretch;justify-content: center;background-color: white;position: relative;}#sk-container-id-1 div.sk-item::before, #sk-container-id-1 div.sk-parallel-item::before {content: \"\";position: absolute;border-left: 1px solid gray;box-sizing: border-box;top: 0;bottom: 0;left: 50%;z-index: -1;}#sk-container-id-1 div.sk-parallel-item {display: flex;flex-direction: column;z-index: 1;position: relative;background-color: white;}#sk-container-id-1 div.sk-parallel-item:first-child::after {align-self: flex-end;width: 50%;}#sk-container-id-1 div.sk-parallel-item:last-child::after {align-self: flex-start;width: 50%;}#sk-container-id-1 div.sk-parallel-item:only-child::after {width: 0;}#sk-container-id-1 div.sk-dashed-wrapped {border: 1px dashed gray;margin: 0 0.4em 0.5em 0.4em;box-sizing: border-box;padding-bottom: 0.4em;background-color: white;}#sk-container-id-1 div.sk-label label {font-family: monospace;font-weight: bold;display: inline-block;line-height: 1.2em;}#sk-container-id-1 div.sk-label-container {text-align: center;}#sk-container-id-1 div.sk-container {/* jupyter's `normalize.less` sets `[hidden] { display: none; }` but bootstrap.min.css set `[hidden] { display: none !important; }` so we also need the `!important` here to be able to override the default hidden behavior on the sphinx rendered scikit-learn.org. See: https://github.com/scikit-learn/scikit-learn/issues/21755 */display: inline-block !important;position: relative;}#sk-container-id-1 div.sk-text-repr-fallback {display: none;}</style><div id=\"sk-container-id-1\" class=\"sk-top-container\"><div class=\"sk-text-repr-fallback\"><pre>LogisticRegression(max_iter=1000, multi_class=&#x27;multinomial&#x27;)</pre><b>In a Jupyter environment, please rerun this cell to show the HTML representation or trust the notebook. <br />On GitHub, the HTML representation is unable to render, please try loading this page with nbviewer.org.</b></div><div class=\"sk-container\" hidden><div class=\"sk-item\"><div class=\"sk-estimator sk-toggleable\"><input class=\"sk-toggleable__control sk-hidden--visually\" id=\"sk-estimator-id-1\" type=\"checkbox\" checked><label for=\"sk-estimator-id-1\" class=\"sk-toggleable__label sk-toggleable__label-arrow\">LogisticRegression</label><div class=\"sk-toggleable__content\"><pre>LogisticRegression(max_iter=1000, multi_class=&#x27;multinomial&#x27;)</pre></div></div></div></div></div>"
            ]
          },
          "metadata": {},
          "execution_count": 42
        }
      ]
    },
    {
      "cell_type": "code",
      "source": [
        "y_pred = lr_model.predict(X_test_tfidf)\n",
        "\n",
        "acc = accuracy_score(y_test, y_pred)\n",
        "print(\"Accuracy: {:.2f}\".format(acc))\n",
        "\n",
        "f1 = f1_score(y_test, y_pred, average='micro')\n",
        "print(\"F1: {:.2f}\".format(f1))\n",
        "\n",
        "print(\"Classification Report:\")\n",
        "print(classification_report(y_test, y_pred))"
      ],
      "metadata": {
        "colab": {
          "base_uri": "https://localhost:8080/"
        },
        "id": "9GF_xqGkOos5",
        "outputId": "ea33af04-995f-411a-d4b2-35e0a1e06863"
      },
      "execution_count": 43,
      "outputs": [
        {
          "output_type": "stream",
          "name": "stdout",
          "text": [
            "Accuracy: 0.55\n",
            "F1: 0.55\n",
            "Classification Report:\n",
            "              precision    recall  f1-score   support\n",
            "\n",
            "           1       0.62      0.75      0.68     16608\n",
            "           2       0.38      0.19      0.25     11347\n",
            "           3       0.44      0.47      0.46     16206\n",
            "           4       0.51      0.49      0.50     16567\n",
            "           5       0.66      0.73      0.69     16661\n",
            "\n",
            "    accuracy                           0.55     77389\n",
            "   macro avg       0.52      0.52      0.51     77389\n",
            "weighted avg       0.53      0.55      0.53     77389\n",
            "\n"
          ]
        }
      ]
    },
    {
      "cell_type": "markdown",
      "source": [
        "sixth model"
      ],
      "metadata": {
        "id": "6y-DSSyubWoR"
      }
    },
    {
      "cell_type": "markdown",
      "metadata": {
        "id": "0ZC1Xy5KUmOd"
      },
      "source": [
        "# Prdict test data"
      ]
    },
    {
      "cell_type": "code",
      "execution_count": 44,
      "metadata": {
        "colab": {
          "base_uri": "https://localhost:8080/"
        },
        "id": "3x8QSMSXedhi",
        "outputId": "a089b2fc-ee71-4514-8f84-94c4169b108b"
      },
      "outputs": [
        {
          "output_type": "stream",
          "name": "stdout",
          "text": [
            "Downloading...\n",
            "From: https://drive.google.com/uc?id=1-8TsrqTRFP-q9TM-6HinhO0ZVXFHq9TB\n",
            "To: /content/test_data.csv\n",
            "100% 15.6M/15.6M [00:00<00:00, 26.3MB/s]\n"
          ]
        }
      ],
      "source": [
        "!gdown 1-8TsrqTRFP-q9TM-6HinhO0ZVXFHq9TB"
      ]
    },
    {
      "cell_type": "code",
      "execution_count": 45,
      "metadata": {
        "id": "yCOmRpBkegl4"
      },
      "outputs": [],
      "source": [
        "testdf = pd.read_csv(\"/content/test_data.csv\")"
      ]
    },
    {
      "cell_type": "code",
      "source": [
        "X_test_tfidf = vectorizer.transform(testdf['reviewText'])"
      ],
      "metadata": {
        "id": "2syOyjP7HEf7"
      },
      "execution_count": 46,
      "outputs": []
    },
    {
      "cell_type": "code",
      "source": [
        "y_pred = lr_model.predict(X_test_tfidf)"
      ],
      "metadata": {
        "id": "01-mHEqGgbfU"
      },
      "execution_count": 50,
      "outputs": []
    },
    {
      "cell_type": "code",
      "source": [
        "df = pd.DataFrame(y_pred, columns=['predicted'])\n",
        "df"
      ],
      "metadata": {
        "colab": {
          "base_uri": "https://localhost:8080/",
          "height": 423
        },
        "id": "K6A0CTybIPXP",
        "outputId": "daa553c3-6f67-4816-ff5d-ab782d6e3d00"
      },
      "execution_count": 51,
      "outputs": [
        {
          "output_type": "execute_result",
          "data": {
            "text/plain": [
              "       predicted\n",
              "0              1\n",
              "1              1\n",
              "2              1\n",
              "3              1\n",
              "4              1\n",
              "...          ...\n",
              "19995          5\n",
              "19996          5\n",
              "19997          5\n",
              "19998          1\n",
              "19999          4\n",
              "\n",
              "[20000 rows x 1 columns]"
            ],
            "text/html": [
              "\n",
              "  <div id=\"df-a5c1c513-cbde-41bd-a630-a28a47ac0b2b\" class=\"colab-df-container\">\n",
              "    <div>\n",
              "<style scoped>\n",
              "    .dataframe tbody tr th:only-of-type {\n",
              "        vertical-align: middle;\n",
              "    }\n",
              "\n",
              "    .dataframe tbody tr th {\n",
              "        vertical-align: top;\n",
              "    }\n",
              "\n",
              "    .dataframe thead th {\n",
              "        text-align: right;\n",
              "    }\n",
              "</style>\n",
              "<table border=\"1\" class=\"dataframe\">\n",
              "  <thead>\n",
              "    <tr style=\"text-align: right;\">\n",
              "      <th></th>\n",
              "      <th>predicted</th>\n",
              "    </tr>\n",
              "  </thead>\n",
              "  <tbody>\n",
              "    <tr>\n",
              "      <th>0</th>\n",
              "      <td>1</td>\n",
              "    </tr>\n",
              "    <tr>\n",
              "      <th>1</th>\n",
              "      <td>1</td>\n",
              "    </tr>\n",
              "    <tr>\n",
              "      <th>2</th>\n",
              "      <td>1</td>\n",
              "    </tr>\n",
              "    <tr>\n",
              "      <th>3</th>\n",
              "      <td>1</td>\n",
              "    </tr>\n",
              "    <tr>\n",
              "      <th>4</th>\n",
              "      <td>1</td>\n",
              "    </tr>\n",
              "    <tr>\n",
              "      <th>...</th>\n",
              "      <td>...</td>\n",
              "    </tr>\n",
              "    <tr>\n",
              "      <th>19995</th>\n",
              "      <td>5</td>\n",
              "    </tr>\n",
              "    <tr>\n",
              "      <th>19996</th>\n",
              "      <td>5</td>\n",
              "    </tr>\n",
              "    <tr>\n",
              "      <th>19997</th>\n",
              "      <td>5</td>\n",
              "    </tr>\n",
              "    <tr>\n",
              "      <th>19998</th>\n",
              "      <td>1</td>\n",
              "    </tr>\n",
              "    <tr>\n",
              "      <th>19999</th>\n",
              "      <td>4</td>\n",
              "    </tr>\n",
              "  </tbody>\n",
              "</table>\n",
              "<p>20000 rows × 1 columns</p>\n",
              "</div>\n",
              "    <div class=\"colab-df-buttons\">\n",
              "\n",
              "  <div class=\"colab-df-container\">\n",
              "    <button class=\"colab-df-convert\" onclick=\"convertToInteractive('df-a5c1c513-cbde-41bd-a630-a28a47ac0b2b')\"\n",
              "            title=\"Convert this dataframe to an interactive table.\"\n",
              "            style=\"display:none;\">\n",
              "\n",
              "  <svg xmlns=\"http://www.w3.org/2000/svg\" height=\"24px\" viewBox=\"0 -960 960 960\">\n",
              "    <path d=\"M120-120v-720h720v720H120Zm60-500h600v-160H180v160Zm220 220h160v-160H400v160Zm0 220h160v-160H400v160ZM180-400h160v-160H180v160Zm440 0h160v-160H620v160ZM180-180h160v-160H180v160Zm440 0h160v-160H620v160Z\"/>\n",
              "  </svg>\n",
              "    </button>\n",
              "\n",
              "  <style>\n",
              "    .colab-df-container {\n",
              "      display:flex;\n",
              "      gap: 12px;\n",
              "    }\n",
              "\n",
              "    .colab-df-convert {\n",
              "      background-color: #E8F0FE;\n",
              "      border: none;\n",
              "      border-radius: 50%;\n",
              "      cursor: pointer;\n",
              "      display: none;\n",
              "      fill: #1967D2;\n",
              "      height: 32px;\n",
              "      padding: 0 0 0 0;\n",
              "      width: 32px;\n",
              "    }\n",
              "\n",
              "    .colab-df-convert:hover {\n",
              "      background-color: #E2EBFA;\n",
              "      box-shadow: 0px 1px 2px rgba(60, 64, 67, 0.3), 0px 1px 3px 1px rgba(60, 64, 67, 0.15);\n",
              "      fill: #174EA6;\n",
              "    }\n",
              "\n",
              "    .colab-df-buttons div {\n",
              "      margin-bottom: 4px;\n",
              "    }\n",
              "\n",
              "    [theme=dark] .colab-df-convert {\n",
              "      background-color: #3B4455;\n",
              "      fill: #D2E3FC;\n",
              "    }\n",
              "\n",
              "    [theme=dark] .colab-df-convert:hover {\n",
              "      background-color: #434B5C;\n",
              "      box-shadow: 0px 1px 3px 1px rgba(0, 0, 0, 0.15);\n",
              "      filter: drop-shadow(0px 1px 2px rgba(0, 0, 0, 0.3));\n",
              "      fill: #FFFFFF;\n",
              "    }\n",
              "  </style>\n",
              "\n",
              "    <script>\n",
              "      const buttonEl =\n",
              "        document.querySelector('#df-a5c1c513-cbde-41bd-a630-a28a47ac0b2b button.colab-df-convert');\n",
              "      buttonEl.style.display =\n",
              "        google.colab.kernel.accessAllowed ? 'block' : 'none';\n",
              "\n",
              "      async function convertToInteractive(key) {\n",
              "        const element = document.querySelector('#df-a5c1c513-cbde-41bd-a630-a28a47ac0b2b');\n",
              "        const dataTable =\n",
              "          await google.colab.kernel.invokeFunction('convertToInteractive',\n",
              "                                                    [key], {});\n",
              "        if (!dataTable) return;\n",
              "\n",
              "        const docLinkHtml = 'Like what you see? Visit the ' +\n",
              "          '<a target=\"_blank\" href=https://colab.research.google.com/notebooks/data_table.ipynb>data table notebook</a>'\n",
              "          + ' to learn more about interactive tables.';\n",
              "        element.innerHTML = '';\n",
              "        dataTable['output_type'] = 'display_data';\n",
              "        await google.colab.output.renderOutput(dataTable, element);\n",
              "        const docLink = document.createElement('div');\n",
              "        docLink.innerHTML = docLinkHtml;\n",
              "        element.appendChild(docLink);\n",
              "      }\n",
              "    </script>\n",
              "  </div>\n",
              "\n",
              "\n",
              "<div id=\"df-ff222e28-774d-40f2-8999-70d3775ebeb9\">\n",
              "  <button class=\"colab-df-quickchart\" onclick=\"quickchart('df-ff222e28-774d-40f2-8999-70d3775ebeb9')\"\n",
              "            title=\"Suggest charts\"\n",
              "            style=\"display:none;\">\n",
              "\n",
              "<svg xmlns=\"http://www.w3.org/2000/svg\" height=\"24px\"viewBox=\"0 0 24 24\"\n",
              "     width=\"24px\">\n",
              "    <g>\n",
              "        <path d=\"M19 3H5c-1.1 0-2 .9-2 2v14c0 1.1.9 2 2 2h14c1.1 0 2-.9 2-2V5c0-1.1-.9-2-2-2zM9 17H7v-7h2v7zm4 0h-2V7h2v10zm4 0h-2v-4h2v4z\"/>\n",
              "    </g>\n",
              "</svg>\n",
              "  </button>\n",
              "\n",
              "<style>\n",
              "  .colab-df-quickchart {\n",
              "      --bg-color: #E8F0FE;\n",
              "      --fill-color: #1967D2;\n",
              "      --hover-bg-color: #E2EBFA;\n",
              "      --hover-fill-color: #174EA6;\n",
              "      --disabled-fill-color: #AAA;\n",
              "      --disabled-bg-color: #DDD;\n",
              "  }\n",
              "\n",
              "  [theme=dark] .colab-df-quickchart {\n",
              "      --bg-color: #3B4455;\n",
              "      --fill-color: #D2E3FC;\n",
              "      --hover-bg-color: #434B5C;\n",
              "      --hover-fill-color: #FFFFFF;\n",
              "      --disabled-bg-color: #3B4455;\n",
              "      --disabled-fill-color: #666;\n",
              "  }\n",
              "\n",
              "  .colab-df-quickchart {\n",
              "    background-color: var(--bg-color);\n",
              "    border: none;\n",
              "    border-radius: 50%;\n",
              "    cursor: pointer;\n",
              "    display: none;\n",
              "    fill: var(--fill-color);\n",
              "    height: 32px;\n",
              "    padding: 0;\n",
              "    width: 32px;\n",
              "  }\n",
              "\n",
              "  .colab-df-quickchart:hover {\n",
              "    background-color: var(--hover-bg-color);\n",
              "    box-shadow: 0 1px 2px rgba(60, 64, 67, 0.3), 0 1px 3px 1px rgba(60, 64, 67, 0.15);\n",
              "    fill: var(--button-hover-fill-color);\n",
              "  }\n",
              "\n",
              "  .colab-df-quickchart-complete:disabled,\n",
              "  .colab-df-quickchart-complete:disabled:hover {\n",
              "    background-color: var(--disabled-bg-color);\n",
              "    fill: var(--disabled-fill-color);\n",
              "    box-shadow: none;\n",
              "  }\n",
              "\n",
              "  .colab-df-spinner {\n",
              "    border: 2px solid var(--fill-color);\n",
              "    border-color: transparent;\n",
              "    border-bottom-color: var(--fill-color);\n",
              "    animation:\n",
              "      spin 1s steps(1) infinite;\n",
              "  }\n",
              "\n",
              "  @keyframes spin {\n",
              "    0% {\n",
              "      border-color: transparent;\n",
              "      border-bottom-color: var(--fill-color);\n",
              "      border-left-color: var(--fill-color);\n",
              "    }\n",
              "    20% {\n",
              "      border-color: transparent;\n",
              "      border-left-color: var(--fill-color);\n",
              "      border-top-color: var(--fill-color);\n",
              "    }\n",
              "    30% {\n",
              "      border-color: transparent;\n",
              "      border-left-color: var(--fill-color);\n",
              "      border-top-color: var(--fill-color);\n",
              "      border-right-color: var(--fill-color);\n",
              "    }\n",
              "    40% {\n",
              "      border-color: transparent;\n",
              "      border-right-color: var(--fill-color);\n",
              "      border-top-color: var(--fill-color);\n",
              "    }\n",
              "    60% {\n",
              "      border-color: transparent;\n",
              "      border-right-color: var(--fill-color);\n",
              "    }\n",
              "    80% {\n",
              "      border-color: transparent;\n",
              "      border-right-color: var(--fill-color);\n",
              "      border-bottom-color: var(--fill-color);\n",
              "    }\n",
              "    90% {\n",
              "      border-color: transparent;\n",
              "      border-bottom-color: var(--fill-color);\n",
              "    }\n",
              "  }\n",
              "</style>\n",
              "\n",
              "  <script>\n",
              "    async function quickchart(key) {\n",
              "      const quickchartButtonEl =\n",
              "        document.querySelector('#' + key + ' button');\n",
              "      quickchartButtonEl.disabled = true;  // To prevent multiple clicks.\n",
              "      quickchartButtonEl.classList.add('colab-df-spinner');\n",
              "      try {\n",
              "        const charts = await google.colab.kernel.invokeFunction(\n",
              "            'suggestCharts', [key], {});\n",
              "      } catch (error) {\n",
              "        console.error('Error during call to suggestCharts:', error);\n",
              "      }\n",
              "      quickchartButtonEl.classList.remove('colab-df-spinner');\n",
              "      quickchartButtonEl.classList.add('colab-df-quickchart-complete');\n",
              "    }\n",
              "    (() => {\n",
              "      let quickchartButtonEl =\n",
              "        document.querySelector('#df-ff222e28-774d-40f2-8999-70d3775ebeb9 button');\n",
              "      quickchartButtonEl.style.display =\n",
              "        google.colab.kernel.accessAllowed ? 'block' : 'none';\n",
              "    })();\n",
              "  </script>\n",
              "</div>\n",
              "    </div>\n",
              "  </div>\n"
            ],
            "application/vnd.google.colaboratory.intrinsic+json": {
              "type": "dataframe",
              "variable_name": "df",
              "summary": "{\n  \"name\": \"df\",\n  \"rows\": 20000,\n  \"fields\": [\n    {\n      \"column\": \"predicted\",\n      \"properties\": {\n        \"dtype\": \"number\",\n        \"std\": 1,\n        \"min\": 1,\n        \"max\": 5,\n        \"num_unique_values\": 5,\n        \"samples\": [\n          2,\n          4,\n          5\n        ],\n        \"semantic_type\": \"\",\n        \"description\": \"\"\n      }\n    }\n  ]\n}"
            }
          },
          "metadata": {},
          "execution_count": 51
        }
      ]
    },
    {
      "source": [
        "from matplotlib import pyplot as plt\n",
        "df['predicted'].plot(kind='hist', bins=20, title='predicted')\n",
        "plt.gca().spines[['top', 'right',]].set_visible(False)"
      ],
      "cell_type": "code",
      "metadata": {
        "colab": {
          "base_uri": "https://localhost:8080/",
          "height": 452
        },
        "id": "pBHwowm6bFxq",
        "outputId": "8481416f-2db4-4029-8982-bcd495f19433"
      },
      "execution_count": 52,
      "outputs": [
        {
          "output_type": "display_data",
          "data": {
            "text/plain": [
              "<Figure size 640x480 with 1 Axes>"
            ],
            "image/png": "[encoded data removed]"
          },
          "metadata": {}
        }
      ]
    },
    {
      "cell_type": "code",
      "source": [
        "df.to_csv('q2_submission.csv', index=False)"
      ],
      "metadata": {
        "id": "HUhXi4L1IrH2"
      },
      "execution_count": 54,
      "outputs": []
    }
  ],
  "metadata": {
    "accelerator": "GPU",
    "colab": {
      "gpuType": "T4",
      "provenance": []
    },
    "kernelspec": {
      "display_name": "Python 3",
      "name": "python3"
    },
    "language_info": {
      "name": "python"
    }
  },
  "nbformat": 4,
  "nbformat_minor": 0
}