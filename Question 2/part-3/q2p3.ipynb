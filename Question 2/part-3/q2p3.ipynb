{
  "cells": [
    {
      "cell_type": "markdown",
      "metadata": {
        "id": "EndJ2ffNIET8"
      },
      "source": [
        "q2 part3\n",
        "#'Data preprocessing'"
      ]
    },
    {
      "cell_type": "code",
      "execution_count": 6,
      "metadata": {
        "id": "OMmiqkMJIV6b"
      },
      "outputs": [],
      "source": [
        "import pandas as pd\n",
        "import numpy as np"
      ]
    },
    {
      "cell_type": "code",
      "execution_count": 2,
      "metadata": {
        "colab": {
          "base_uri": "https://localhost:8080/"
        },
        "id": "fAfDeRmoMLPv",
        "outputId": "677d9950-b080-456a-bea6-e2d8a652c32d"
      },
      "outputs": [
        {
          "output_type": "stream",
          "name": "stdout",
          "text": [
            "Downloading...\n",
            "From (original): https://drive.google.com/uc?id=1-AlW7oNJHaqi3xk_9dWHUS52Dzl_FmFW\n",
            "From (redirected): https://drive.google.com/uc?id=1-AlW7oNJHaqi3xk_9dWHUS52Dzl_FmFW&confirm=t&uuid=e514c3af-d61a-46dd-ac80-697fdcac778e\n",
            "To: /content/train_data.csv\n",
            "100% 635M/635M [00:03<00:00, 188MB/s]\n"
          ]
        }
      ],
      "source": [
        "!gdown 1-AlW7oNJHaqi3xk_9dWHUS52Dzl_FmFW"
      ]
    },
    {
      "cell_type": "code",
      "execution_count": null,
      "metadata": {
        "colab": {
          "base_uri": "https://localhost:8080/"
        },
        "id": "3x8QSMSXedhi",
        "outputId": "718b523b-6aab-4373-a22f-01432e3a99e6"
      },
      "outputs": [
        {
          "name": "stdout",
          "output_type": "stream",
          "text": [
            "Downloading...\n",
            "From: https://drive.google.com/uc?id=1-8TsrqTRFP-q9TM-6HinhO0ZVXFHq9TB\n",
            "To: /content/test_data.csv\n",
            "100% 15.6M/15.6M [00:00<00:00, 77.5MB/s]\n"
          ]
        }
      ],
      "source": [
        "!gdown 1-8TsrqTRFP-q9TM-6HinhO0ZVXFHq9TB"
      ]
    },
    {
      "cell_type": "code",
      "execution_count": 7,
      "metadata": {
        "colab": {
          "base_uri": "https://localhost:8080/"
        },
        "id": "PnZx9nOioZXV",
        "outputId": "2d0fd18b-d1b4-47b5-f66d-33241456b0a2"
      },
      "outputs": [
        {
          "output_type": "stream",
          "name": "stderr",
          "text": [
            "<ipython-input-7-5e4155aca592>:1: DtypeWarning:\n",
            "\n",
            "Columns (1) have mixed types. Specify dtype option on import or set low_memory=False.\n",
            "\n"
          ]
        }
      ],
      "source": [
        "traindf = pd.read_csv(\"/content/train_data.csv\")"
      ]
    },
    {
      "cell_type": "code",
      "execution_count": null,
      "metadata": {
        "id": "yCOmRpBkegl4"
      },
      "outputs": [],
      "source": [
        "testdf = pd.read_csv(\"/content/test_data.csv\")"
      ]
    },
    {
      "cell_type": "markdown",
      "metadata": {
        "id": "1cys4to_meIa"
      },
      "source": [
        "- text preprocessing"
      ]
    },
    {
      "cell_type": "code",
      "execution_count": 8,
      "metadata": {
        "id": "P1OaGWeQnRyz"
      },
      "outputs": [],
      "source": [
        "from nltk.corpus import stopwords\n",
        "from nltk.tokenize import RegexpTokenizer\n",
        "from nltk.stem import WordNetLemmatizer\n",
        "# from spellchecker import SpellChecker\n",
        "from tensorflow.keras.preprocessing.sequence import pad_sequences\n",
        "from tensorflow.keras.preprocessing.text import Tokenizer\n",
        "import string\n",
        "import nltk\n",
        "import re"
      ]
    },
    {
      "cell_type": "code",
      "execution_count": 9,
      "metadata": {
        "colab": {
          "base_uri": "https://localhost:8080/"
        },
        "id": "df3nEpZ3zrHB",
        "outputId": "b893bb19-c1f9-4c41-a050-69cb2b059dcd"
      },
      "outputs": [
        {
          "output_type": "stream",
          "name": "stderr",
          "text": [
            "[nltk_data] Downloading package punkt to /root/nltk_data...\n",
            "[nltk_data]   Package punkt is already up-to-date!\n",
            "[nltk_data] Downloading package stopwords to /root/nltk_data...\n",
            "[nltk_data]   Package stopwords is already up-to-date!\n",
            "[nltk_data] Downloading package wordnet to /root/nltk_data...\n",
            "[nltk_data]   Package wordnet is already up-to-date!\n"
          ]
        },
        {
          "output_type": "execute_result",
          "data": {
            "text/plain": [
              "True"
            ]
          },
          "metadata": {},
          "execution_count": 9
        }
      ],
      "source": [
        "nltk.download('punkt')\n",
        "nltk.download('stopwords')\n",
        "nltk.download('wordnet')"
      ]
    },
    {
      "cell_type": "code",
      "execution_count": 10,
      "metadata": {
        "id": "AchuSzqvQ0X-"
      },
      "outputs": [],
      "source": [
        "def text_preprocesser(review):\n",
        "\n",
        "    url_mention_pattern = r\"(?:\\@|https?\\://)\\S+\"\n",
        "    slash = r'\\\\'\n",
        "    enter = r'\\n'\n",
        "    non_ASCII = r'[^\\x00-\\x7f]'\n",
        "    custom_chars = r'\\Ã\\±\\ã\\¼\\â\\»\\§'\n",
        "\n",
        "    unwanteds_pattern = [url_mention_pattern, custom_chars, non_ASCII, enter, slash]\n",
        "\n",
        "    for pattern in unwanteds_pattern:\n",
        "        review = re.sub(pattern, \"\", review)\n",
        "\n",
        "    review = re.sub(r\"\\d+\", \"<NUMBER>\", review)\n",
        "    review = review.lower()\n",
        "\n",
        "    verbs = \"wouldn't wouldn't won't will weren't weren were wasn't wasn was shouldn't shouldn should've should needn't mustn't mustn mightn it's is isn isn isn't have haven't haven having has hasn hasn't hasn had hadn't hadn been can couldn couldn did didn didn't do does doesn't does doin doing don don't are aren aren't\"\n",
        "    stop_words = set(stopwords.words('english'))\n",
        "    stop_words = stop_words.difference(set(verbs.split(\" \")))\n",
        "\n",
        "    punctuation = set(string.punctuation)\n",
        "    review = review.lower()\n",
        "\n",
        "    tokenizer = RegexpTokenizer(r'\\w+')\n",
        "    words = tokenizer.tokenize(review)\n",
        "    words = [word for word in words if word not in stop_words and word not in punctuation]\n",
        "\n",
        "    # spell = SpellChecker()\n",
        "    # words = [spell.correction(word) for word in words]\n",
        "\n",
        "    lem = WordNetLemmatizer()\n",
        "    words = [lem.lemmatize(word) if word is not None else '' for word in words]\n",
        "\n",
        "    return words"
      ]
    },
    {
      "cell_type": "code",
      "execution_count": null,
      "metadata": {
        "id": "C7_TCNbTkgiN"
      },
      "outputs": [],
      "source": [
        "traindf['prep'] = traindf['reviewText'].apply(text_preprocesser)"
      ]
    },
    {
      "cell_type": "code",
      "execution_count": null,
      "metadata": {
        "id": "54CNBkv0eELr"
      },
      "outputs": [],
      "source": [
        "max_sequence_length = 100\n",
        "max_vocab_size = 1000\n",
        "tokenizer = Tokenizer(num_words=max_vocab_size)\n",
        "tokenizer.fit_on_texts(traindf['reviewText'])"
      ]
    },
    {
      "cell_type": "code",
      "execution_count": null,
      "metadata": {
        "id": "oOo952o67iKq"
      },
      "outputs": [],
      "source": [
        "traindf['prep'] = tokenizer.texts_to_sequences(traindf['prep'])"
      ]
    },
    {
      "cell_type": "code",
      "execution_count": null,
      "metadata": {
        "id": "mg5ncyTftJXG"
      },
      "outputs": [],
      "source": [
        "newtrain = traindf[['prep', 'overall']]"
      ]
    },
    {
      "cell_type": "code",
      "execution_count": null,
      "metadata": {
        "id": "OBDR1clWtnOa"
      },
      "outputs": [],
      "source": [
        "newtrain.to_csv(\"newtrain.csv\", index=False)"
      ]
    },
    {
      "cell_type": "markdown",
      "metadata": {
        "id": "SZXshp9_dQG7"
      },
      "source": [
        "- Balancing Data"
      ]
    },
    {
      "cell_type": "code",
      "execution_count": null,
      "metadata": {
        "id": "S2VxwoUIo8tE"
      },
      "outputs": [],
      "source": [
        "from imblearn.under_sampling import RandomUnderSampler\n",
        "from imblearn.over_sampling import RandomOverSampler\n",
        "from imblearn.over_sampling import SMOTE"
      ]
    },
    {
      "cell_type": "code",
      "execution_count": null,
      "metadata": {
        "id": "4lzxYdLtDz1m"
      },
      "outputs": [],
      "source": [
        "newtrain = pd.read_csv('/content/newtrain.csv')"
      ]
    },
    {
      "cell_type": "code",
      "execution_count": null,
      "metadata": {
        "id": "yB6p-5QvllIF"
      },
      "outputs": [],
      "source": [
        "max_len  = 100\n",
        "\n",
        "X = pad_sequences(newtrain['prep'].tolist(), padding=\"post\", maxlen=max_len)"
      ]
    },
    {
      "cell_type": "code",
      "execution_count": null,
      "metadata": {
        "colab": {
          "base_uri": "https://localhost:8080/"
        },
        "id": "-WMP_07rpf8d",
        "outputId": "9a56786b-2095-4716-c215-58576e34d0de"
      },
      "outputs": [
        {
          "data": {
            "text/plain": [
              "overall\n",
              "5    461485\n",
              "4    156514\n",
              "1     82950\n",
              "3     81239\n",
              "2     56756\n",
              "Name: count, dtype: int64"
            ]
          },
          "execution_count": 27,
          "metadata": {},
          "output_type": "execute_result"
        }
      ],
      "source": [
        "newtrain['overall'].value_counts()"
      ]
    },
    {
      "cell_type": "code",
      "execution_count": null,
      "metadata": {
        "colab": {
          "base_uri": "https://localhost:8080/",
          "height": 447
        },
        "id": "KfhbmC2yqOqa",
        "outputId": "11fa6518-45d0-46cf-af12-94cf029a0cef"
      },
      "outputs": [
        {
          "data": {
            "text/plain": [
              "<Axes: >"
            ]
          },
          "execution_count": 19,
          "metadata": {},
          "output_type": "execute_result"
        },
        {
          "data": {
            "image/png": "[encoded data removed]",
            "text/plain": [
              "<Figure size 640x480 with 1 Axes>"
            ]
          },
          "metadata": {},
          "output_type": "display_data"
        }
      ],
      "source": [
        "newtrain['overall'].hist(edgecolor=\"black\", align='mid')"
      ]
    },
    {
      "cell_type": "markdown",
      "metadata": {
        "id": "iFj5NCIuaTgp"
      },
      "source": [
        "**for balancing the data i gonna try tree way:**\n",
        "- **Under sampling + Over sampling**\n",
        "- **Under sampling + SMOTE**\n",
        "- **Under sampling**"
      ]
    },
    {
      "cell_type": "markdown",
      "metadata": {
        "id": "ukyotrjraqb9"
      },
      "source": [
        "Under sampling + Over sampling"
      ]
    },
    {
      "cell_type": "code",
      "execution_count": null,
      "metadata": {
        "id": "pLisnVciUL2t"
      },
      "outputs": [],
      "source": [
        "from keras.utils import to_categorical\n",
        "from sklearn.model_selection import train_test_split\n",
        "import tensorflow as tf"
      ]
    },
    {
      "cell_type": "code",
      "execution_count": null,
      "metadata": {
        "id": "LTqSSpuNqSj8"
      },
      "outputs": [],
      "source": [
        "undersampler = RandomUnderSampler(sampling_strategy={1: 82950, 2: 56756, 3: 81239, 4: 90000, 5: 90000}, random_state=42)\n",
        "oversampler = RandomOverSampler(sampling_strategy={1: 90000, 2: 90000, 3: 90000, 4: 90000, 5: 90000}, random_state=42)\n",
        "\n",
        "Xrs, yrs = undersampler.fit_resample(X , newtrain['overall'])\n",
        "Xuo, yuo = oversampler.fit_resample(Xrs, yrs)"
      ]
    },
    {
      "cell_type": "code",
      "execution_count": null,
      "metadata": {
        "colab": {
          "base_uri": "https://localhost:8080/"
        },
        "id": "azbDOCWLc-S3",
        "outputId": "06f47ad2-feaf-4261-ab2b-d77160332e10"
      },
      "outputs": [
        {
          "data": {
            "text/plain": [
              "overall\n",
              "1    90000\n",
              "2    90000\n",
              "3    90000\n",
              "4    90000\n",
              "5    90000\n",
              "Name: count, dtype: int64"
            ]
          },
          "execution_count": 24,
          "metadata": {},
          "output_type": "execute_result"
        }
      ],
      "source": [
        "yuo.value_counts()"
      ]
    },
    {
      "cell_type": "code",
      "execution_count": null,
      "metadata": {
        "id": "xd-vqTFpGwJa"
      },
      "outputs": [],
      "source": [
        "yuo_encoded = to_categorical(yuo-1)"
      ]
    },
    {
      "cell_type": "markdown",
      "metadata": {
        "id": "3mERtpN0bsto"
      },
      "source": [
        "Under sampling + SMOTE"
      ]
    },
    {
      "cell_type": "code",
      "execution_count": null,
      "metadata": {
        "colab": {
          "background_save": true
        },
        "id": "FQRNFK2WbNL1"
      },
      "outputs": [],
      "source": [
        "undersampler = RandomUnderSampler(sampling_strategy={1: 82950, 2: 56756, 3: 81239, 4: 90000, 5: 90000}, random_state=42)\n",
        "smote = SMOTE(sampling_strategy={1: 90000, 2: 90000, 3: 90000, 4: 90000, 5: 90000}, random_state=42)\n",
        "\n",
        "Xrs, yrs = undersampler.fit_resample(X, newtrain['overall'])\n",
        "Xus, yus = smote.fit_resample(Xrs, yrs)"
      ]
    },
    {
      "cell_type": "code",
      "execution_count": null,
      "metadata": {
        "colab": {
          "background_save": true
        },
        "id": "eDYg9VWBdAij",
        "outputId": "8629b7ed-ab3a-48d8-fa44-f90fab1b9a77"
      },
      "outputs": [
        {
          "data": {
            "text/plain": [
              "overall\n",
              "1    90000\n",
              "2    90000\n",
              "3    90000\n",
              "4    90000\n",
              "5    90000\n",
              "Name: count, dtype: int64"
            ]
          },
          "execution_count": 16,
          "metadata": {},
          "output_type": "execute_result"
        }
      ],
      "source": [
        "yus.value_counts()"
      ]
    },
    {
      "cell_type": "code",
      "execution_count": null,
      "metadata": {
        "colab": {
          "background_save": true
        },
        "id": "PTdgipBdG641"
      },
      "outputs": [],
      "source": [
        "yus_encoded = to_categorical(yus-1)"
      ]
    },
    {
      "cell_type": "markdown",
      "metadata": {
        "id": "WVgUuUOSbtnQ"
      },
      "source": [
        "Under sampling"
      ]
    },
    {
      "cell_type": "code",
      "execution_count": null,
      "metadata": {
        "id": "HhcKSojtbwsf"
      },
      "outputs": [],
      "source": [
        "undersampler = RandomUnderSampler(random_state=42)\n",
        "\n",
        "Xu, yu = undersampler.fit_resample(X, newtrain['overall'])"
      ]
    },
    {
      "cell_type": "code",
      "execution_count": null,
      "metadata": {
        "colab": {
          "base_uri": "https://localhost:8080/"
        },
        "id": "W_Bswr_MgZ_L",
        "outputId": "b58583d1-513f-48fa-c984-abce6ee3cbe7"
      },
      "outputs": [
        {
          "data": {
            "text/plain": [
              "overall\n",
              "1    56756\n",
              "2    56756\n",
              "3    56756\n",
              "4    56756\n",
              "5    56756\n",
              "Name: count, dtype: int64"
            ]
          },
          "execution_count": 52,
          "metadata": {},
          "output_type": "execute_result"
        }
      ],
      "source": [
        "yu.value_counts()"
      ]
    },
    {
      "cell_type": "code",
      "execution_count": null,
      "metadata": {
        "id": "IV1kCmOhG_zu"
      },
      "outputs": [],
      "source": [
        "yu_encoded = to_categorical(yu-1)"
      ]
    },
    {
      "cell_type": "markdown",
      "metadata": {
        "id": "GImd7M4BpJPz"
      },
      "source": [
        "# Base Models"
      ]
    },
    {
      "cell_type": "code",
      "execution_count": null,
      "metadata": {
        "colab": {
          "background_save": true
        },
        "id": "6E8nYT_0FXNU"
      },
      "outputs": [],
      "source": [
        "from tensorflow.keras.models import Sequential\n",
        "from tensorflow.keras.layers import Embedding, LSTM, Dropout, Dense\n",
        "from tensorflow.keras import regularizers\n",
        "from sklearn.metrics import f1_score"
      ]
    },
    {
      "cell_type": "markdown",
      "metadata": {
        "id": "iQui2AouGyCe"
      },
      "source": [
        "testing Under sampling + Over sampling data"
      ]
    },
    {
      "cell_type": "code",
      "execution_count": null,
      "metadata": {
        "id": "41xc2MQTnZoN"
      },
      "outputs": [],
      "source": [
        "X_train_UO, X_val_UO, y_train_UO, y_val_UO = train_test_split(Xuo, yuo_encoded, test_size=0.22, random_state=42)"
      ]
    },
    {
      "cell_type": "code",
      "execution_count": null,
      "metadata": {
        "colab": {
          "base_uri": "https://localhost:8080/"
        },
        "id": "fmU_B5gyJG0M",
        "outputId": "be59f459-0c81-4429-9588-58aab3f9befe"
      },
      "outputs": [
        {
          "name": "stdout",
          "output_type": "stream",
          "text": [
            "Model: \"sequential\"\n",
            "_________________________________________________________________\n",
            " Layer (type)                Output Shape              Param #   \n",
            "=================================================================\n",
            " embedding (Embedding)       (None, 100, 64)           64000     \n",
            "                                                                 \n",
            " lstm (LSTM)                 (None, 100, 128)          98816     \n",
            "                                                                 \n",
            " dropout (Dropout)           (None, 100, 128)          0         \n",
            "                                                                 \n",
            " lstm_1 (LSTM)               (None, 256)               394240    \n",
            "                                                                 \n",
            " dropout_1 (Dropout)         (None, 256)               0         \n",
            "                                                                 \n",
            " dense (Dense)               (None, 5)                 1285      \n",
            "                                                                 \n",
            "=================================================================\n",
            "Total params: 558341 (2.13 MB)\n",
            "Trainable params: 558341 (2.13 MB)\n",
            "Non-trainable params: 0 (0.00 Byte)\n",
            "_________________________________________________________________\n"
          ]
        }
      ],
      "source": [
        "model_1 = Sequential()\n",
        "model_1.add(Embedding(input_dim=1000, output_dim=64, input_length=100))\n",
        "model_1.add(LSTM(128, return_sequences=True, kernel_regularizer=regularizers.L2(1e-4)))\n",
        "model_1.add(Dropout(0.2))\n",
        "model_1.add(LSTM(256, kernel_regularizer=regularizers.L2(1e-4)))\n",
        "model_1.add(Dropout(0.3))\n",
        "model_1.add(Dense(5, activation='softmax'))\n",
        "\n",
        "model_1.compile(optimizer='adam', loss='categorical_crossentropy', metrics=['accuracy'])\n",
        "model_1.summary()"
      ]
    },
    {
      "cell_type": "code",
      "execution_count": null,
      "metadata": {
        "colab": {
          "base_uri": "https://localhost:8080/"
        },
        "id": "DGirjb-mJG0M",
        "outputId": "075dd448-69de-45b7-8420-fb64d96b1dcb"
      },
      "outputs": [
        {
          "name": "stdout",
          "output_type": "stream",
          "text": [
            "Epoch 1/10\n",
            "2331/2331 [==============================] - 61s 26ms/step - loss: 1.6108 - accuracy: 0.2004 - val_loss: 1.6097 - val_accuracy: 0.2006\n",
            "Epoch 2/10\n",
            "2331/2331 [==============================] - 62s 27ms/step - loss: 1.6140 - accuracy: 0.1997 - val_loss: 1.6124 - val_accuracy: 0.2002\n",
            "Epoch 3/10\n",
            "2331/2331 [==============================] - 58s 25ms/step - loss: 1.6115 - accuracy: 0.2008 - val_loss: 1.6104 - val_accuracy: 0.2002\n",
            "Epoch 4/10\n",
            "2331/2331 [==============================] - 63s 27ms/step - loss: 1.6105 - accuracy: 0.1991 - val_loss: 1.6100 - val_accuracy: 0.2007\n",
            "Epoch 5/10\n",
            "2331/2331 [==============================] - 60s 26ms/step - loss: 1.6101 - accuracy: 0.1992 - val_loss: 1.6096 - val_accuracy: 0.2002\n",
            "Epoch 6/10\n",
            "2331/2331 [==============================] - 60s 26ms/step - loss: 1.6099 - accuracy: 0.1994 - val_loss: 1.6097 - val_accuracy: 0.2007\n",
            "Epoch 7/10\n",
            "2331/2331 [==============================] - 63s 27ms/step - loss: 1.6100 - accuracy: 0.2010 - val_loss: 1.6100 - val_accuracy: 0.1990\n",
            "Epoch 8/10\n",
            "2331/2331 [==============================] - 59s 25ms/step - loss: 1.6098 - accuracy: 0.2004 - val_loss: 1.6097 - val_accuracy: 0.2006\n",
            "Epoch 9/10\n",
            "2331/2331 [==============================] - 62s 27ms/step - loss: 1.6098 - accuracy: 0.1998 - val_loss: 1.6098 - val_accuracy: 0.1990\n",
            "Epoch 10/10\n",
            "2331/2331 [==============================] - 61s 26ms/step - loss: 1.6097 - accuracy: 0.2003 - val_loss: 1.6096 - val_accuracy: 0.1990\n"
          ]
        }
      ],
      "source": [
        "history_UO = model_1.fit(X_train_UO, y_train_UO,\n",
        "          validation_split=0.15,\n",
        "          epochs=10,\n",
        "          batch_size=128)\n"
      ]
    },
    {
      "cell_type": "code",
      "execution_count": null,
      "metadata": {
        "colab": {
          "base_uri": "https://localhost:8080/"
        },
        "id": "tDJ4A5y4JG0M",
        "outputId": "bf67c6d9-6253-4d4b-be42-d273d52000cf"
      },
      "outputs": [
        {
          "name": "stdout",
          "output_type": "stream",
          "text": [
            "3094/3094 [==============================] - 26s 8ms/step - loss: 1.6096 - accuracy: 0.2004\n",
            "3094/3094 [==============================] - 25s 8ms/step\n",
            "F1 Score: 0.20\n"
          ]
        }
      ],
      "source": [
        "score_uo = model_1.evaluate(X_val_UO, y_val_UO, verbose=1)\n",
        "\n",
        "y_pred_uo = model_1.predict(X_val_UO, verbose=1)\n",
        "y_pred_uo_arg = np.argmax(y_pred_uo, axis=1)\n",
        "original_y = np.argmax(y_val_UO+1, axis=1)\n",
        "\n",
        "f1 = f1_score(original_y, y_pred_uo_arg, average='micro')\n",
        "print(f'F1 Score: {f1:.2f}')"
      ]
    },
    {
      "cell_type": "markdown",
      "metadata": {
        "id": "WpvCb_6GIK16"
      },
      "source": [
        "testing Under sampling + SMOTE data"
      ]
    },
    {
      "cell_type": "code",
      "execution_count": null,
      "metadata": {
        "colab": {
          "background_save": true
        },
        "id": "y4bYkfkKIKgk"
      },
      "outputs": [],
      "source": [
        "X_train_US, X_val_US, y_train_US, y_val_US = train_test_split(Xus, yus_encoded, test_size=0.22, random_state=42)"
      ]
    },
    {
      "cell_type": "code",
      "execution_count": null,
      "metadata": {
        "colab": {
          "base_uri": "https://localhost:8080/"
        },
        "id": "b1Y-uut0Kcp6",
        "outputId": "523d1843-65b6-4eb4-ef69-b82e8bdfcc6a"
      },
      "outputs": [
        {
          "name": "stdout",
          "output_type": "stream",
          "text": [
            "Epoch 1/10\n",
            "2331/2331 [==============================] - 89s 38ms/step - loss: 1.6097 - accuracy: 0.2005 - val_loss: 1.6096 - val_accuracy: 0.1990\n",
            "Epoch 2/10\n",
            "2331/2331 [==============================] - 64s 27ms/step - loss: 1.6097 - accuracy: 0.1997 - val_loss: 1.6095 - val_accuracy: 0.2007\n",
            "Epoch 3/10\n",
            "2331/2331 [==============================] - 60s 26ms/step - loss: 1.6097 - accuracy: 0.1994 - val_loss: 1.6095 - val_accuracy: 0.2007\n",
            "Epoch 4/10\n",
            "2331/2331 [==============================] - 62s 27ms/step - loss: 1.6096 - accuracy: 0.2001 - val_loss: 1.6096 - val_accuracy: 0.1995\n",
            "Epoch 5/10\n",
            "2331/2331 [==============================] - 60s 26ms/step - loss: 1.6097 - accuracy: 0.2006 - val_loss: 1.6095 - val_accuracy: 0.2002\n",
            "Epoch 6/10\n",
            "2331/2331 [==============================] - 63s 27ms/step - loss: 1.5754 - accuracy: 0.2368 - val_loss: 1.3608 - val_accuracy: 0.4039\n",
            "Epoch 7/10\n",
            "2331/2331 [==============================] - 60s 26ms/step - loss: 1.2447 - accuracy: 0.4737 - val_loss: 1.1812 - val_accuracy: 0.5043\n",
            "Epoch 8/10\n",
            "2331/2331 [==============================] - 61s 26ms/step - loss: 1.1765 - accuracy: 0.5096 - val_loss: 1.1643 - val_accuracy: 0.5127\n",
            "Epoch 9/10\n",
            "2331/2331 [==============================] - 63s 27ms/step - loss: 1.1592 - accuracy: 0.5172 - val_loss: 1.1565 - val_accuracy: 0.5198\n",
            "Epoch 10/10\n",
            "2331/2331 [==============================] - 61s 26ms/step - loss: 1.1480 - accuracy: 0.5218 - val_loss: 1.1458 - val_accuracy: 0.5210\n"
          ]
        }
      ],
      "source": [
        "history_US = model_1.fit(X_train_US, y_train_US,\n",
        "          validation_split=0.15,\n",
        "          epochs=10,\n",
        "          batch_size=128)\n"
      ]
    },
    {
      "cell_type": "code",
      "execution_count": null,
      "metadata": {
        "colab": {
          "base_uri": "https://localhost:8080/"
        },
        "id": "BtZF45VdKcp6",
        "outputId": "0d3130bd-fc63-4316-dac3-9b0c92d53a94"
      },
      "outputs": [
        {
          "name": "stdout",
          "output_type": "stream",
          "text": [
            "3094/3094 [==============================] - 23s 7ms/step - loss: 1.1432 - accuracy: 0.5228\n",
            "3094/3094 [==============================] - 22s 7ms/step\n",
            "F1 Score: 0.52\n"
          ]
        }
      ],
      "source": [
        "score_us = model_1.evaluate(X_val_US, y_val_US, verbose=1)\n",
        "\n",
        "y_pred_us = model_1.predict(X_val_US, verbose=1)\n",
        "y_pred_us_arg = np.argmax(y_pred_us, axis=1)\n",
        "original_y = np.argmax(y_val_US+1, axis=1)\n",
        "\n",
        "f1 = f1_score(original_y, y_pred_us_arg, average='micro')\n",
        "print(f'F1 Score: {f1:.2f}')"
      ]
    },
    {
      "cell_type": "markdown",
      "metadata": {
        "id": "MdzL7g9XIm9K"
      },
      "source": [
        "testing Under sampling only data"
      ]
    },
    {
      "cell_type": "code",
      "execution_count": null,
      "metadata": {
        "id": "6VLA8SMDIs4J"
      },
      "outputs": [],
      "source": [
        "X_train_U, X_val_U, y_train_U, y_val_U = train_test_split(Xu, yu_encoded, test_size=0.22, random_state=42)"
      ]
    },
    {
      "cell_type": "code",
      "execution_count": null,
      "metadata": {
        "colab": {
          "base_uri": "https://localhost:8080/"
        },
        "id": "yn6i9LXoKwfz",
        "outputId": "1b48dd65-e9d8-4248-b719-83092f7f26f4"
      },
      "outputs": [
        {
          "name": "stdout",
          "output_type": "stream",
          "text": [
            "Epoch 1/10\n",
            "1470/1470 [==============================] - 37s 25ms/step - loss: 1.1970 - accuracy: 0.4854 - val_loss: 1.1914 - val_accuracy: 0.4876\n",
            "Epoch 2/10\n",
            "1470/1470 [==============================] - 41s 28ms/step - loss: 1.1848 - accuracy: 0.4902 - val_loss: 1.1898 - val_accuracy: 0.4856\n",
            "Epoch 3/10\n",
            "1470/1470 [==============================] - 38s 26ms/step - loss: 1.1759 - accuracy: 0.4955 - val_loss: 1.1898 - val_accuracy: 0.4860\n",
            "Epoch 4/10\n",
            "1470/1470 [==============================] - 41s 28ms/step - loss: 1.1680 - accuracy: 0.5000 - val_loss: 1.1848 - val_accuracy: 0.4899\n",
            "Epoch 5/10\n",
            "1470/1470 [==============================] - 38s 26ms/step - loss: 1.1608 - accuracy: 0.5029 - val_loss: 1.1839 - val_accuracy: 0.4904\n",
            "Epoch 6/10\n",
            "1470/1470 [==============================] - 43s 29ms/step - loss: 1.1539 - accuracy: 0.5058 - val_loss: 1.1929 - val_accuracy: 0.4879\n",
            "Epoch 7/10\n",
            "1470/1470 [==============================] - 39s 26ms/step - loss: 1.1466 - accuracy: 0.5090 - val_loss: 1.1848 - val_accuracy: 0.4916\n",
            "Epoch 8/10\n",
            "1470/1470 [==============================] - 40s 27ms/step - loss: 1.1406 - accuracy: 0.5134 - val_loss: 1.1842 - val_accuracy: 0.4913\n",
            "Epoch 9/10\n",
            "1470/1470 [==============================] - 39s 26ms/step - loss: 1.1331 - accuracy: 0.5169 - val_loss: 1.1825 - val_accuracy: 0.4930\n",
            "Epoch 10/10\n",
            "1470/1470 [==============================] - 40s 27ms/step - loss: 1.1253 - accuracy: 0.5197 - val_loss: 1.1860 - val_accuracy: 0.4953\n"
          ]
        }
      ],
      "source": [
        "history_U = model_1.fit(X_train_U, y_train_U,\n",
        "          validation_split=0.15,\n",
        "          epochs=10,\n",
        "          batch_size=128)\n"
      ]
    },
    {
      "cell_type": "code",
      "execution_count": null,
      "metadata": {
        "colab": {
          "base_uri": "https://localhost:8080/"
        },
        "id": "0Mh0MhXWKwfz",
        "outputId": "661a88a0-7036-4012-83f6-0fcaef0dee05"
      },
      "outputs": [
        {
          "name": "stdout",
          "output_type": "stream",
          "text": [
            "1951/1951 [==============================] - 15s 8ms/step - loss: 1.1946 - accuracy: 0.4939\n",
            "1951/1951 [==============================] - 12s 6ms/step\n",
            "F1 Score: 0.49\n"
          ]
        }
      ],
      "source": [
        "score_u = model_1.evaluate(X_val_U, y_val_U, verbose=1)\n",
        "\n",
        "y_pred_u = model_1.predict(X_val_U, verbose=1)\n",
        "y_pred_u_arg = np.argmax(y_pred_u, axis=1)\n",
        "original_y = np.argmax(y_val_U+1, axis=1)\n",
        "\n",
        "f1 = f1_score(original_y, y_pred_u_arg, average='micro')\n",
        "print(f'F1 Score: {f1:.2f}')"
      ]
    },
    {
      "cell_type": "markdown",
      "metadata": {
        "id": "cdI0bXXYMfJJ"
      },
      "source": [
        "secound base model"
      ]
    },
    {
      "cell_type": "code",
      "execution_count": null,
      "metadata": {
        "colab": {
          "base_uri": "https://localhost:8080/"
        },
        "id": "DAkjjWAXbbMm",
        "outputId": "b6c137b4-3308-45ed-cb13-f7b2ae55a210"
      },
      "outputs": [
        {
          "name": "stdout",
          "output_type": "stream",
          "text": [
            "Model: \"sequential_2\"\n",
            "_________________________________________________________________\n",
            " Layer (type)                Output Shape              Param #   \n",
            "=================================================================\n",
            " embedding_2 (Embedding)     (None, 100, 64)           64000     \n",
            "                                                                 \n",
            " lstm_3 (LSTM)               (None, 256)               328704    \n",
            "                                                                 \n",
            " dropout_3 (Dropout)         (None, 256)               0         \n",
            "                                                                 \n",
            " dense_2 (Dense)             (None, 5)                 1285      \n",
            "                                                                 \n",
            "=================================================================\n",
            "Total params: 393989 (1.50 MB)\n",
            "Trainable params: 393989 (1.50 MB)\n",
            "Non-trainable params: 0 (0.00 Byte)\n",
            "_________________________________________________________________\n"
          ]
        }
      ],
      "source": [
        "model_2 = Sequential()\n",
        "model_2.add(Embedding(input_dim=max_vocab_size, output_dim=64, input_length=max_sequence_length))\n",
        "model_2.add(LSTM(256))\n",
        "model_2.add(Dropout(0.1))\n",
        "model_2.add(Dense(5, activation = \"sigmoid\"))\n",
        "\n",
        "model_2.compile(optimizer='adam', loss='categorical_crossentropy', metrics=['accuracy'])\n",
        "model_2.summary()"
      ]
    },
    {
      "cell_type": "code",
      "execution_count": null,
      "metadata": {
        "colab": {
          "base_uri": "https://localhost:8080/"
        },
        "id": "XoIzQHj6cgSj",
        "outputId": "74eab23c-28a5-4f82-f1c9-d73c9c5bd3a8"
      },
      "outputs": [
        {
          "name": "stdout",
          "output_type": "stream",
          "text": [
            "Epoch 1/10\n",
            "4662/4662 [==============================] - 71s 15ms/step - loss: 1.1889 - accuracy: 0.4998 - val_loss: 1.1604 - val_accuracy: 0.5139\n",
            "Epoch 2/10\n",
            "4662/4662 [==============================] - 69s 15ms/step - loss: 1.1522 - accuracy: 0.5162 - val_loss: 1.1519 - val_accuracy: 0.5124\n",
            "Epoch 3/10\n",
            "4662/4662 [==============================] - 66s 14ms/step - loss: 1.1294 - accuracy: 0.5267 - val_loss: 1.1270 - val_accuracy: 0.5273\n",
            "Epoch 4/10\n",
            "4662/4662 [==============================] - 62s 13ms/step - loss: 1.1067 - accuracy: 0.5365 - val_loss: 1.1151 - val_accuracy: 0.5328\n",
            "Epoch 5/10\n",
            "4662/4662 [==============================] - 66s 14ms/step - loss: 1.0862 - accuracy: 0.5457 - val_loss: 1.1119 - val_accuracy: 0.5361\n",
            "Epoch 6/10\n",
            "4662/4662 [==============================] - 65s 14ms/step - loss: 1.0661 - accuracy: 0.5541 - val_loss: 1.1008 - val_accuracy: 0.5400\n",
            "Epoch 7/10\n",
            "4662/4662 [==============================] - 68s 15ms/step - loss: 1.0446 - accuracy: 0.5632 - val_loss: 1.1045 - val_accuracy: 0.5397\n",
            "Epoch 8/10\n",
            "4662/4662 [==============================] - 69s 15ms/step - loss: 1.0199 - accuracy: 0.5735 - val_loss: 1.1063 - val_accuracy: 0.5378\n",
            "Epoch 9/10\n",
            "4662/4662 [==============================] - 67s 14ms/step - loss: 0.9909 - accuracy: 0.5863 - val_loss: 1.1194 - val_accuracy: 0.5362\n",
            "Epoch 10/10\n",
            "4662/4662 [==============================] - 69s 15ms/step - loss: 0.9588 - accuracy: 0.5999 - val_loss: 1.1449 - val_accuracy: 0.5311\n"
          ]
        }
      ],
      "source": [
        "history2_US = model_2.fit(X_train_US, y_train_US,\n",
        "          validation_split=0.15,\n",
        "          epochs=10,\n",
        "          batch_size=64)"
      ]
    },
    {
      "cell_type": "code",
      "execution_count": null,
      "metadata": {
        "colab": {
          "base_uri": "https://localhost:8080/"
        },
        "id": "feutxV7o2pwq",
        "outputId": "58a5d9a0-846d-44c6-ad01-c2bc1bcb7972"
      },
      "outputs": [
        {
          "name": "stdout",
          "output_type": "stream",
          "text": [
            "3094/3094 [==============================] - 15s 5ms/step - loss: 1.1384 - accuracy: 0.5380\n",
            "3094/3094 [==============================] - 16s 5ms/step\n",
            "F1 Score: 0.54\n"
          ]
        }
      ],
      "source": [
        "score_2_us = model_2.evaluate(X_val_US, y_val_US, verbose=1)\n",
        "\n",
        "y_pred_2_us = model_2.predict(X_val_US, verbose=1)\n",
        "y_pred_2_us_arg = np.argmax(y_pred_2_us, axis=1)\n",
        "original_y = np.argmax(y_val_US+1, axis=1)\n",
        "\n",
        "f1 = f1_score(original_y, y_pred_2_us_arg, average='micro')\n",
        "print(f'F1 Score: {f1:.2f}')"
      ]
    },
    {
      "cell_type": "markdown",
      "metadata": {
        "id": "VhEhDPQ3Mypa"
      },
      "source": [
        "third base model"
      ]
    },
    {
      "cell_type": "code",
      "execution_count": null,
      "metadata": {
        "colab": {
          "base_uri": "https://localhost:8080/"
        },
        "id": "p6pD8AqHncyq",
        "outputId": "9057b1d8-26a9-4afd-88e0-2516bebfd5e1"
      },
      "outputs": [
        {
          "name": "stdout",
          "output_type": "stream",
          "text": [
            "Model: \"sequential_3\"\n",
            "_________________________________________________________________\n",
            " Layer (type)                Output Shape              Param #   \n",
            "=================================================================\n",
            " embedding_3 (Embedding)     (None, 100, 64)           64000     \n",
            "                                                                 \n",
            " lstm_4 (LSTM)               (None, 256)               328704    \n",
            "                                                                 \n",
            " dropout_4 (Dropout)         (None, 256)               0         \n",
            "                                                                 \n",
            " dense_3 (Dense)             (None, 5)                 1285      \n",
            "                                                                 \n",
            "=================================================================\n",
            "Total params: 393989 (1.50 MB)\n",
            "Trainable params: 393989 (1.50 MB)\n",
            "Non-trainable params: 0 (0.00 Byte)\n",
            "_________________________________________________________________\n"
          ]
        }
      ],
      "source": [
        "model_3 = Sequential()\n",
        "model_3.add(Embedding(input_dim=max_vocab_size, output_dim=64, input_length=max_sequence_length))\n",
        "model_3.add(LSTM(256))\n",
        "model_3.add(Dropout(0.1))\n",
        "model_3.add(Dense(5, activation = \"sigmoid\"))\n",
        "\n",
        "model_3.compile(optimizer='adam', loss='categorical_crossentropy', metrics=['accuracy'])\n",
        "model_3.summary()"
      ]
    },
    {
      "cell_type": "code",
      "execution_count": null,
      "metadata": {
        "colab": {
          "base_uri": "https://localhost:8080/"
        },
        "id": "zTTEMxswncys",
        "outputId": "75e40352-9847-48b1-f713-0720bde7b253"
      },
      "outputs": [
        {
          "name": "stdout",
          "output_type": "stream",
          "text": [
            "Epoch 1/10\n",
            "1166/1166 [==============================] - 54s 43ms/step - loss: 1.4408 - accuracy: 0.3246 - val_loss: 1.2893 - val_accuracy: 0.4429\n",
            "Epoch 2/10\n",
            "1166/1166 [==============================] - 33s 28ms/step - loss: 1.4394 - accuracy: 0.3446 - val_loss: 1.5338 - val_accuracy: 0.2688\n",
            "Epoch 3/10\n",
            "1166/1166 [==============================] - 33s 28ms/step - loss: 1.5045 - accuracy: 0.2894 - val_loss: 1.3313 - val_accuracy: 0.4112\n",
            "Epoch 4/10\n",
            "1166/1166 [==============================] - 32s 27ms/step - loss: 1.2590 - accuracy: 0.4563 - val_loss: 1.1934 - val_accuracy: 0.4984\n",
            "Epoch 5/10\n",
            "1166/1166 [==============================] - 32s 27ms/step - loss: 1.1868 - accuracy: 0.5014 - val_loss: 1.1747 - val_accuracy: 0.5055\n",
            "Epoch 6/10\n",
            "1166/1166 [==============================] - 33s 28ms/step - loss: 1.1667 - accuracy: 0.5103 - val_loss: 1.1542 - val_accuracy: 0.5132\n",
            "Epoch 7/10\n",
            "1166/1166 [==============================] - 32s 27ms/step - loss: 1.1483 - accuracy: 0.5188 - val_loss: 1.1448 - val_accuracy: 0.5203\n",
            "Epoch 8/10\n",
            "1166/1166 [==============================] - 33s 28ms/step - loss: 1.1347 - accuracy: 0.5238 - val_loss: 1.1341 - val_accuracy: 0.5222\n",
            "Epoch 9/10\n",
            "1166/1166 [==============================] - 31s 27ms/step - loss: 1.1234 - accuracy: 0.5293 - val_loss: 1.1256 - val_accuracy: 0.5271\n",
            "Epoch 10/10\n",
            "1166/1166 [==============================] - 32s 28ms/step - loss: 1.1128 - accuracy: 0.5335 - val_loss: 1.1229 - val_accuracy: 0.5290\n"
          ]
        }
      ],
      "source": [
        "history3 = model_3.fit(X_train_US, y_train_US,\n",
        "          validation_split=0.15,\n",
        "          epochs=10,\n",
        "          batch_size=256)"
      ]
    },
    {
      "cell_type": "code",
      "execution_count": null,
      "metadata": {
        "colab": {
          "base_uri": "https://localhost:8080/"
        },
        "id": "ZQt7CP2wncyt",
        "outputId": "46f28d74-46b3-42e4-891c-3775574fd22d"
      },
      "outputs": [
        {
          "name": "stdout",
          "output_type": "stream",
          "text": [
            "3094/3094 [==============================] - 17s 5ms/step - loss: 1.1206 - accuracy: 0.5313\n",
            "3094/3094 [==============================] - 18s 5ms/step\n",
            "F1 Score: 0.53\n"
          ]
        }
      ],
      "source": [
        "score_3_us = model_3.evaluate(X_val_US, y_val_US, verbose=1)\n",
        "\n",
        "y_pred_3_us = model_3.predict(X_val_US, verbose=1)\n",
        "y_pred_3_us_arg = np.argmax(y_pred__us, axis=1)\n",
        "original_y = np.argmax(y_val_US+1, axis=1)\n",
        "\n",
        "f1 = f1_score(original_y, y_pred_3_us_arg, average='micro')\n",
        "print(f'F1 Score: {f1:.2f}')"
      ]
    },
    {
      "cell_type": "markdown",
      "metadata": {
        "id": "O3SqJXElM5Uq"
      },
      "source": [
        "fourth base model"
      ]
    },
    {
      "cell_type": "code",
      "execution_count": null,
      "metadata": {
        "colab": {
          "base_uri": "https://localhost:8080/"
        },
        "id": "qegLOoEGZKit",
        "outputId": "e700297f-2aa8-416e-de9e-4142d6f872de"
      },
      "outputs": [
        {
          "output_type": "stream",
          "name": "stdout",
          "text": [
            "Model: \"sequential_4\"\n",
            "_________________________________________________________________\n",
            " Layer (type)                Output Shape              Param #   \n",
            "=================================================================\n",
            " embedding_4 (Embedding)     (None, 100, 64)           64000     \n",
            "                                                                 \n",
            " lstm_4 (LSTM)               (None, 100, 128)          98816     \n",
            "                                                                 \n",
            " dropout_4 (Dropout)         (None, 100, 128)          0         \n",
            "                                                                 \n",
            " lstm_5 (LSTM)               (None, 256)               394240    \n",
            "                                                                 \n",
            " dropout_5 (Dropout)         (None, 256)               0         \n",
            "                                                                 \n",
            " dense_4 (Dense)             (None, 5)                 1285      \n",
            "                                                                 \n",
            "=================================================================\n",
            "Total params: 558341 (2.13 MB)\n",
            "Trainable params: 558341 (2.13 MB)\n",
            "Non-trainable params: 0 (0.00 Byte)\n",
            "_________________________________________________________________\n"
          ]
        }
      ],
      "source": [
        "model_4 = Sequential()\n",
        "model_4.add(Embedding(input_dim=max_vocab_size, output_dim=64, input_length=max_sequence_length))\n",
        "model_4.add(LSTM(128, return_sequences=True))\n",
        "model_4.add(Dropout(0.1))\n",
        "model_4.add(LSTM(256))\n",
        "model_4.add(Dropout(0.2))\n",
        "model_4.add(Dense(5, activation='softmax'))\n",
        "\n",
        "model_4.compile(optimizer=tf.keras.optimizers.AdamW(0.001), loss='categorical_crossentropy', metrics=['accuracy'])\n",
        "model_4.summary()"
      ]
    },
    {
      "cell_type": "code",
      "execution_count": null,
      "metadata": {
        "colab": {
          "base_uri": "https://localhost:8080/"
        },
        "id": "CSS9q3U6ZaG0",
        "outputId": "32cb0151-c531-4f4a-8e69-78984ccd685b"
      },
      "outputs": [
        {
          "output_type": "stream",
          "name": "stdout",
          "text": [
            "Epoch 1/10\n",
            "1166/1166 [==============================] - 58s 47ms/step - loss: 1.3927 - accuracy: 0.3637 - val_loss: 1.2804 - val_accuracy: 0.4406\n",
            "Epoch 2/10\n",
            "1166/1166 [==============================] - 44s 38ms/step - loss: 1.2655 - accuracy: 0.4579 - val_loss: 1.2147 - val_accuracy: 0.4927\n",
            "Epoch 3/10\n",
            "1166/1166 [==============================] - 44s 38ms/step - loss: 1.2059 - accuracy: 0.4958 - val_loss: 1.1806 - val_accuracy: 0.5055\n",
            "Epoch 4/10\n",
            "1166/1166 [==============================] - 44s 38ms/step - loss: 1.1756 - accuracy: 0.5066 - val_loss: 1.1599 - val_accuracy: 0.5106\n",
            "Epoch 5/10\n",
            "1166/1166 [==============================] - 46s 40ms/step - loss: 1.1628 - accuracy: 0.5114 - val_loss: 1.1598 - val_accuracy: 0.5136\n",
            "Epoch 6/10\n",
            "1166/1166 [==============================] - 44s 38ms/step - loss: 1.1428 - accuracy: 0.5204 - val_loss: 1.1393 - val_accuracy: 0.5187\n",
            "Epoch 7/10\n",
            "1166/1166 [==============================] - 46s 40ms/step - loss: 1.1278 - accuracy: 0.5276 - val_loss: 1.1268 - val_accuracy: 0.5263\n",
            "Epoch 8/10\n",
            "1166/1166 [==============================] - 46s 40ms/step - loss: 1.1152 - accuracy: 0.5323 - val_loss: 1.1272 - val_accuracy: 0.5261\n",
            "Epoch 9/10\n",
            "1166/1166 [==============================] - 46s 40ms/step - loss: 1.1043 - accuracy: 0.5376 - val_loss: 1.1137 - val_accuracy: 0.5338\n",
            "Epoch 10/10\n",
            "1166/1166 [==============================] - 44s 37ms/step - loss: 1.0919 - accuracy: 0.5430 - val_loss: 1.1060 - val_accuracy: 0.5377\n"
          ]
        }
      ],
      "source": [
        "history4 = model_4.fit(X_train_US, y_train_US,\n",
        "          validation_split=0.15,\n",
        "          epochs=10,\n",
        "          batch_size=256)\n"
      ]
    },
    {
      "cell_type": "code",
      "execution_count": null,
      "metadata": {
        "colab": {
          "base_uri": "https://localhost:8080/"
        },
        "id": "v03NIk6uZaG2",
        "outputId": "a08aecbb-4305-4618-98a8-e3a0bfe3ceaa"
      },
      "outputs": [
        {
          "output_type": "stream",
          "name": "stdout",
          "text": [
            "3094/3094 [==============================] - 22s 7ms/step - loss: 1.0992 - accuracy: 0.5404\n",
            "3094/3094 [==============================] - 15s 5ms/step\n",
            "F1 Score: 0.54\n"
          ]
        }
      ],
      "source": [
        "score_4_us = model_4.evaluate(X_val_US, y_val_US, verbose=1)\n",
        "\n",
        "y_pred_4_us = model_4.predict(X_val_US, verbose=1)\n",
        "y_pred_4_us_arg = np.argmax(y_pred_4_us, axis=1)\n",
        "original_y = np.argmax(y_val_US+1, axis=1)\n",
        "\n",
        "f1 = f1_score(original_y, y_pred_4_us_arg, average='micro')\n",
        "print(f'F1 Score: {f1:.2f}')"
      ]
    },
    {
      "cell_type": "markdown",
      "metadata": {
        "id": "sVJvEib55Kch"
      },
      "source": [
        "fifth base model"
      ]
    },
    {
      "cell_type": "code",
      "execution_count": null,
      "metadata": {
        "colab": {
          "base_uri": "https://localhost:8080/"
        },
        "id": "IUryZQhV59ga",
        "outputId": "8099e3bf-556b-451f-e6b1-c39f155dde45"
      },
      "outputs": [
        {
          "output_type": "stream",
          "name": "stdout",
          "text": [
            "Model: \"sequential_3\"\n",
            "_________________________________________________________________\n",
            " Layer (type)                Output Shape              Param #   \n",
            "=================================================================\n",
            " embedding_3 (Embedding)     (None, 100, 64)           64000     \n",
            "                                                                 \n",
            " lstm_3 (LSTM)               (None, 256)               328704    \n",
            "                                                                 \n",
            " dropout_3 (Dropout)         (None, 256)               0         \n",
            "                                                                 \n",
            " dense_3 (Dense)             (None, 5)                 1285      \n",
            "                                                                 \n",
            "=================================================================\n",
            "Total params: 393989 (1.50 MB)\n",
            "Trainable params: 393989 (1.50 MB)\n",
            "Non-trainable params: 0 (0.00 Byte)\n",
            "_________________________________________________________________\n"
          ]
        }
      ],
      "source": [
        "model_5 = Sequential()\n",
        "model_5.add(Embedding(input_dim=max_vocab_size, output_dim=64, input_length=max_sequence_length))\n",
        "model_5.add(LSTM(256, kernel_regularizer=tf.keras.regularizers.L2(0.001)))\n",
        "model_5.add(Dropout(0.1))\n",
        "model_5.add(Dense(5, activation='softmax'))\n",
        "\n",
        "model_5.compile(optimizer=tf.keras.optimizers.AdamW(0.001), loss='categorical_crossentropy', metrics=['accuracy'])\n",
        "model_5.summary()"
      ]
    },
    {
      "cell_type": "code",
      "execution_count": null,
      "metadata": {
        "colab": {
          "base_uri": "https://localhost:8080/"
        },
        "id": "HwWd1tfv7TGi",
        "outputId": "3194d775-bb1e-455f-9c3d-d11435e58538"
      },
      "outputs": [
        {
          "output_type": "stream",
          "name": "stdout",
          "text": [
            "Epoch 1/20\n",
            "1166/1166 [==============================] - 30s 26ms/step - loss: 1.0988 - accuracy: 0.5428 - val_loss: 1.1186 - val_accuracy: 0.5351\n",
            "Epoch 2/20\n",
            "1166/1166 [==============================] - 29s 25ms/step - loss: 1.0952 - accuracy: 0.5445 - val_loss: 1.1245 - val_accuracy: 0.5334\n",
            "Epoch 3/20\n",
            "1166/1166 [==============================] - 30s 25ms/step - loss: 1.0911 - accuracy: 0.5463 - val_loss: 1.1222 - val_accuracy: 0.5339\n",
            "Epoch 4/20\n",
            "1166/1166 [==============================] - 30s 25ms/step - loss: 1.0882 - accuracy: 0.5476 - val_loss: 1.1190 - val_accuracy: 0.5340\n",
            "Epoch 5/20\n",
            "1166/1166 [==============================] - 29s 25ms/step - loss: 1.0836 - accuracy: 0.5500 - val_loss: 1.1195 - val_accuracy: 0.5347\n",
            "Epoch 6/20\n",
            "1166/1166 [==============================] - 30s 26ms/step - loss: 1.0805 - accuracy: 0.5515 - val_loss: 1.1300 - val_accuracy: 0.5289\n",
            "Epoch 7/20\n",
            "1166/1166 [==============================] - 29s 25ms/step - loss: 1.0764 - accuracy: 0.5534 - val_loss: 1.1209 - val_accuracy: 0.5360\n",
            "Epoch 8/20\n",
            "1166/1166 [==============================] - 29s 25ms/step - loss: 1.0731 - accuracy: 0.5544 - val_loss: 1.1233 - val_accuracy: 0.5342\n",
            "Epoch 9/20\n",
            "1166/1166 [==============================] - 29s 25ms/step - loss: 1.0692 - accuracy: 0.5557 - val_loss: 1.1223 - val_accuracy: 0.5346\n",
            "Epoch 10/20\n",
            "1166/1166 [==============================] - 29s 25ms/step - loss: 1.0643 - accuracy: 0.5589 - val_loss: 1.1300 - val_accuracy: 0.5337\n",
            "Epoch 11/20\n",
            "1166/1166 [==============================] - 30s 25ms/step - loss: 1.0594 - accuracy: 0.5598 - val_loss: 1.1265 - val_accuracy: 0.5373\n",
            "Epoch 12/20\n",
            "1166/1166 [==============================] - 29s 25ms/step - loss: 1.0553 - accuracy: 0.5623 - val_loss: 1.1383 - val_accuracy: 0.5330\n",
            "Epoch 13/20\n",
            "1166/1166 [==============================] - 30s 26ms/step - loss: 1.0500 - accuracy: 0.5653 - val_loss: 1.1318 - val_accuracy: 0.5344\n",
            "Epoch 14/20\n",
            "1166/1166 [==============================] - 30s 25ms/step - loss: 1.1862 - accuracy: 0.5338 - val_loss: 1.2372 - val_accuracy: 0.5222\n",
            "Epoch 15/20\n",
            "1166/1166 [==============================] - 29s 25ms/step - loss: 1.1759 - accuracy: 0.5430 - val_loss: 1.2064 - val_accuracy: 0.5308\n",
            "Epoch 16/20\n",
            "1166/1166 [==============================] - 29s 25ms/step - loss: 1.1460 - accuracy: 0.5505 - val_loss: 1.1877 - val_accuracy: 0.5359\n",
            "Epoch 17/20\n",
            "1166/1166 [==============================] - 29s 25ms/step - loss: 1.1229 - accuracy: 0.5561 - val_loss: 1.1730 - val_accuracy: 0.5368\n",
            "Epoch 18/20\n",
            "1166/1166 [==============================] - 29s 25ms/step - loss: 1.1031 - accuracy: 0.5599 - val_loss: 1.1639 - val_accuracy: 0.5363\n",
            "Epoch 19/20\n",
            "1166/1166 [==============================] - 29s 25ms/step - loss: 1.0905 - accuracy: 0.5622 - val_loss: 1.1549 - val_accuracy: 0.5367\n",
            "Epoch 20/20\n",
            "1166/1166 [==============================] - 29s 25ms/step - loss: 1.0710 - accuracy: 0.5659 - val_loss: 1.1490 - val_accuracy: 0.5376\n"
          ]
        }
      ],
      "source": [
        "history5 = model_5.fit(X_train_US, y_train_US,\n",
        "          validation_split=0.15,\n",
        "          epochs=20,\n",
        "          batch_size=256)\n"
      ]
    },
    {
      "cell_type": "code",
      "execution_count": null,
      "metadata": {
        "id": "s1_tu5SEU76Y",
        "colab": {
          "base_uri": "https://localhost:8080/"
        },
        "outputId": "088c0da3-e347-4fc9-e372-92ad38e01321"
      },
      "outputs": [
        {
          "output_type": "stream",
          "name": "stdout",
          "text": [
            "3094/3094 [==============================] - 15s 5ms/step - loss: 1.1436 - accuracy: 0.5382\n",
            "3094/3094 [==============================] - 12s 4ms/step\n",
            "F1 Score: 0.54\n"
          ]
        }
      ],
      "source": [
        "score_5_us = model_5.evaluate(X_val_US, y_val_US, verbose=1)\n",
        "\n",
        "y_pred_5_us = model_5.predict(X_val_US, verbose=1)\n",
        "y_pred_5_us_arg = np.argmax(y_pred_5_us, axis=1)\n",
        "original_y = np.argmax(y_val_US+1, axis=1)\n",
        "\n",
        "f1 = f1_score(original_y, y_pred_5_us_arg, average='micro')\n",
        "print(f'F1 Score: {f1:.2f}')"
      ]
    },
    {
      "cell_type": "markdown",
      "metadata": {
        "id": "0ZC1Xy5KUmOd"
      },
      "source": [
        "# Pre-trained Model"
      ]
    },
    {
      "cell_type": "code",
      "execution_count": 1,
      "metadata": {
        "id": "HLMPaAh3UruP"
      },
      "outputs": [],
      "source": [
        "import transformers"
      ]
    },
    {
      "cell_type": "code",
      "source": [
        "import tensorflow as tf\n",
        "import pandas as pd\n",
        "import json\n",
        "import gc"
      ],
      "metadata": {
        "id": "2AFcD4PQ0IWE"
      },
      "execution_count": 2,
      "outputs": []
    },
    {
      "cell_type": "code",
      "source": [
        "from sklearn.model_selection import train_test_split\n",
        "import re\n",
        "import nltk\n",
        "from nltk.corpus import stopwords"
      ],
      "metadata": {
        "id": "dxyUbfMq0KKE"
      },
      "execution_count": null,
      "outputs": []
    },
    {
      "cell_type": "code",
      "source": [
        "import seaborn as sns\n",
        "import matplotlib.pyplot as plt\n",
        "from plotly.offline import iplot"
      ],
      "metadata": {
        "id": "5fj_p_VH0M-F"
      },
      "execution_count": 3,
      "outputs": []
    },
    {
      "cell_type": "code",
      "source": [
        "from tqdm import tqdm"
      ],
      "metadata": {
        "id": "zSS3oL1z0O14"
      },
      "execution_count": 4,
      "outputs": []
    },
    {
      "cell_type": "code",
      "source": [
        "nltk.download('stopwords')\n",
        "stopw = stopwords.words('english')"
      ],
      "metadata": {
        "id": "1jHEIYr7VMW-",
        "colab": {
          "base_uri": "https://localhost:8080/",
          "height": 158
        },
        "outputId": "0b841536-9729-4b6f-bc6a-838b10c76e50"
      },
      "execution_count": 5,
      "outputs": [
        {
          "output_type": "error",
          "ename": "NameError",
          "evalue": "name 'nltk' is not defined",
          "traceback": [
            "\u001b[0;31m---------------------------------------------------------------------------\u001b[0m",
            "\u001b[0;31mNameError\u001b[0m                                 Traceback (most recent call last)",
            "\u001b[0;32m<ipython-input-5-1326f528cc6f>\u001b[0m in \u001b[0;36m<cell line: 1>\u001b[0;34m()\u001b[0m\n\u001b[0;32m----> 1\u001b[0;31m \u001b[0mnltk\u001b[0m\u001b[0;34m.\u001b[0m\u001b[0mdownload\u001b[0m\u001b[0;34m(\u001b[0m\u001b[0;34m'stopwords'\u001b[0m\u001b[0;34m)\u001b[0m\u001b[0;34m\u001b[0m\u001b[0;34m\u001b[0m\u001b[0m\n\u001b[0m\u001b[1;32m      2\u001b[0m \u001b[0mstopw\u001b[0m \u001b[0;34m=\u001b[0m \u001b[0mstopwords\u001b[0m\u001b[0;34m.\u001b[0m\u001b[0mwords\u001b[0m\u001b[0;34m(\u001b[0m\u001b[0;34m'english'\u001b[0m\u001b[0;34m)\u001b[0m\u001b[0;34m\u001b[0m\u001b[0;34m\u001b[0m\u001b[0m\n",
            "\u001b[0;31mNameError\u001b[0m: name 'nltk' is not defined"
          ]
        }
      ]
    },
    {
      "cell_type": "code",
      "execution_count": null,
      "metadata": {
        "id": "EuyDyaGpU74X"
      },
      "outputs": [],
      "source": [
        "train_texts, val_texts, train_labels, val_labels = train_test_split(traindf['prep'], traindf['overall'], test_size = 0.2, random_state = 42 )\n",
        "\n",
        "train_texts, test_texts, train_labels, test_labels = train_test_split(train_texts, train_labels, test_size = 0.01, random_state = 42 )"
      ]
    },
    {
      "cell_type": "code",
      "execution_count": null,
      "metadata": {
        "id": "Y50qdB9BZSvs"
      },
      "outputs": [],
      "source": [
        "tokenizer = transformers.DistilBertTokenizer.from_pretrained('distilbert-base-uncased')\n",
        "\n",
        "train_encodings = tokenizer(train_texts, truncation = True, padding = True  )\n",
        "val_encodings = tokenizer(val_texts, truncation = True, padding = True )"
      ]
    },
    {
      "cell_type": "code",
      "execution_count": null,
      "metadata": {
        "id": "eWIv2XMjZVmB"
      },
      "outputs": [],
      "source": [
        "train_dataset = tf.data.Dataset.from_tensor_slices((\n",
        "    dict(train_encodings),\n",
        "    train_labels\n",
        "))\n",
        "\n",
        "\n",
        "val_dataset = tf.data.Dataset.from_tensor_slices((\n",
        "    dict(val_encodings),\n",
        "    val_labels\n",
        "))"
      ]
    },
    {
      "cell_type": "markdown",
      "metadata": {
        "id": "0NUqSuquZXjd"
      },
      "source": [
        "Fine-tuning with the TFTrainer class"
      ]
    },
    {
      "cell_type": "code",
      "execution_count": null,
      "metadata": {
        "id": "rC7KAa4KZYel"
      },
      "outputs": [],
      "source": [
        "from transformers import TFDistilBertForSequenceClassification, TFTrainer, TFTrainingArguments"
      ]
    },
    {
      "cell_type": "code",
      "execution_count": null,
      "metadata": {
        "id": "YUHRRV0gZcQ4"
      },
      "outputs": [],
      "source": [
        "model = TFDistilBertForSequenceClassification.from_pretrained('distilbert-base-uncased', num_labels=5)"
      ]
    },
    {
      "cell_type": "code",
      "execution_count": null,
      "metadata": {
        "id": "z4FDqjHYZemo"
      },
      "outputs": [],
      "source": [
        "training_args = TFTrainingArguments(\n",
        "    output_dir='./results',\n",
        "    num_train_epochs=7,\n",
        "    per_device_train_batch_size=16,\n",
        "    per_device_eval_batch_size=64,\n",
        "    warmup_steps=500,\n",
        "    weight_decay=1e-5,\n",
        "    logging_dir='./logs',\n",
        "    eval_steps=100\n",
        ")\n",
        "\n",
        "with training_args.strategy.scope():\n",
        "    trainer_model = TFDistilBertForSequenceClassification.from_pretrained('distilbert-base-uncased', num_labels = 5 )\n",
        "\n",
        "\n",
        "trainer = TFTrainer(\n",
        "    model=trainer_model,\n",
        "    args=training_args,\n",
        "    train_dataset=train_dataset,\n",
        "    eval_dataset=val_dataset,\n",
        ")"
      ]
    },
    {
      "cell_type": "code",
      "execution_count": null,
      "metadata": {
        "id": "MYLxrPGnZuOr"
      },
      "outputs": [],
      "source": [
        "trainer.train()"
      ]
    },
    {
      "cell_type": "code",
      "execution_count": null,
      "metadata": {
        "id": "-woqwlHaZvoT"
      },
      "outputs": [],
      "source": [
        "trainer.evaluate()"
      ]
    },
    {
      "cell_type": "markdown",
      "metadata": {
        "id": "GYuAlWolZyHu"
      },
      "source": [
        "Saving the model\n"
      ]
    },
    {
      "cell_type": "code",
      "execution_count": null,
      "metadata": {
        "id": "qTcnlvirZwKZ"
      },
      "outputs": [],
      "source": [
        "save_directory = \"/saved_models\"\n",
        "model.save_pretrained(save_directory)\n",
        "toknizer.save_pretrained(save_directory)"
      ]
    },
    {
      "cell_type": "markdown",
      "metadata": {
        "id": "yYq2qzIaZ3gQ"
      },
      "source": [
        "Loading Pre-Trained Model\n"
      ]
    },
    {
      "cell_type": "code",
      "execution_count": null,
      "metadata": {
        "id": "tNp6OwXcZ52W"
      },
      "outputs": [],
      "source": [
        "tokenizer_fine_tuned = DistilBertTokenizer.from_pretrained(save_directory)\n",
        "model_fine_tuned = TFDistilBertForSequenceClassification.from_pretrained(save_directory)"
      ]
    },
    {
      "cell_type": "code",
      "execution_count": null,
      "metadata": {
        "id": "H5p1iQsoZ7Lq"
      },
      "outputs": [],
      "source": [
        "predict_input = tokenizer_fine_tuned.encode(\n",
        "    test_text,\n",
        "    truncation = True,\n",
        "    padding = True,\n",
        "    return_tensors = 'tf'\n",
        ")\n",
        "\n",
        "output = model_fine_tuned(predict_input)[0]\n",
        "\n",
        "prediction_value = tf.argmax(output, axis = 1).numpy()[0]\n",
        "\n",
        "prediction_value"
      ]
    }
  ],
  "metadata": {
    "accelerator": "TPU",
    "colab": {
      "gpuType": "V28",
      "provenance": []
    },
    "kernelspec": {
      "display_name": "Python 3",
      "name": "python3"
    },
    "language_info": {
      "name": "python"
    }
  },
  "nbformat": 4,
  "nbformat_minor": 0
}